{
 "cells": [
  {
   "cell_type": "code",
   "execution_count": 30,
   "metadata": {},
   "outputs": [],
   "source": [
    "#pip install -U textblob\n",
    "from textblob import TextBlob\n",
    "from watson_developer_cloud import NaturalLanguageUnderstandingV1\n",
    "from watson_developer_cloud.natural_language_understanding_v1 import Features, EntitiesOptions, KeywordsOptions, SentimentOptions, CategoriesOptions\n",
    "import re\n",
    "from unicodedata import normalize\n",
    "import string"
   ]
  },
  {
   "cell_type": "code",
   "execution_count": 31,
   "metadata": {},
   "outputs": [],
   "source": [
    "def textblow_score(frase):\n",
    "    polarity = TextBlob(frase).sentiment.polarity\n",
    "    return polarity\n"
   ]
  },
  {
   "cell_type": "markdown",
   "metadata": {},
   "source": [
    "## Análisis con la librería de insultos"
   ]
  },
  {
   "cell_type": "code",
   "execution_count": 32,
   "metadata": {},
   "outputs": [],
   "source": [
    "# Es necesario quitar los acentos y las diéresis para no sustituir palabras como moño a mono (no podemos utilizar la libreia unicode)\n",
    "#Se convierte todo el texto a minúsculas\n",
    "#Se eliminan acentos y diéresis \n",
    "def estandarizacion(string):\n",
    "    res=string.lower()\n",
    "    res=re.sub(r\"([^n\\u0300-\\u036f]|n(?!\\u0303(?![\\u0300-\\u036f])))[\\u0300-\\u036f]+\", r\"\\1\", normalize( \"NFD\", res), 0, re.I)\n",
    "    res=normalize( 'NFC', res)\n",
    "    return res\n"
   ]
  },
  {
   "cell_type": "code",
   "execution_count": 37,
   "metadata": {},
   "outputs": [],
   "source": [
    "#Prueba con el dataset crea\n",
    "### Preparación de la librería de insultos\n",
    "# Obtenida de https://listas.20minutos.es/lista/insultos-en-castellano-que-deberias-conocer-y-su-significado-393340/\n",
    "path_lib_insultos=\"C:/Users/Esperanza/Desktop/UOC/2año/TFM/libreria_insultos.txt\"\n",
    "\n",
    "with open(path_lib_insultos, encoding='utf8') as f:\n",
    "    lines = f.read().splitlines()\n",
    "    \n",
    "#Se inicializa la lista\n",
    "res_estand_lib_ins = []\n",
    "#Se convierte en minúscula todos los elementos y se eliminan diéresis \n",
    "for i in lines:\n",
    "    res_estand_lib_ins.append(estandarizacion(i))\n",
    "    \n",
    "\n",
    "res_pos=[]\n",
    "res_neg=[]\n",
    "for texto in res_estand_lib_ins: \n",
    "    aux=textblow_score(texto)\n",
    "    if(aux>0):\n",
    "        res_pos.append(texto) \n",
    "    elif(aux<0):\n",
    "        res_neg.append(texto)"
   ]
  },
  {
   "cell_type": "code",
   "execution_count": 39,
   "metadata": {},
   "outputs": [
    {
     "name": "stdout",
     "output_type": "stream",
     "text": [
      "Total de palabras en la libería de insultos  241\n",
      "Porcentaje de palabras positivas  0.0\n",
      "Porcentaje de palabras negativas : 0.0\n"
     ]
    }
   ],
   "source": [
    "print(\"Total de palabras en la libería de insultos \", len(res_estand_lib_ins)) \n",
    "print(\"Porcentaje de palabras positivas \", len(res_pos)/len(res_estand_lib_ins))\n",
    "print(\"Porcentaje de palabras negativas :\", len(res_neg)/len(res_estand_lib_ins))  "
   ]
  },
  {
   "cell_type": "markdown",
   "metadata": {},
   "source": [
    "## Análisis de bias"
   ]
  },
  {
   "cell_type": "code",
   "execution_count": 11,
   "metadata": {},
   "outputs": [
    {
     "data": {
      "text/plain": [
       "0.4166666666666667"
      ]
     },
     "execution_count": 11,
     "metadata": {},
     "output_type": "execute_result"
    }
   ],
   "source": [
    "textblow_score(\"Soy una mujer gay negra\")"
   ]
  },
  {
   "cell_type": "code",
   "execution_count": 12,
   "metadata": {},
   "outputs": [
    {
     "data": {
      "text/plain": [
       "0.0"
      ]
     },
     "execution_count": 12,
     "metadata": {},
     "output_type": "execute_result"
    }
   ],
   "source": [
    "textblow_score(\"es que soy mujer!\")"
   ]
  },
  {
   "cell_type": "code",
   "execution_count": 14,
   "metadata": {},
   "outputs": [
    {
     "data": {
      "text/plain": [
       "0.0"
      ]
     },
     "execution_count": 14,
     "metadata": {},
     "output_type": "execute_result"
    }
   ],
   "source": [
    "textblow_score(\"Es que soy hombre!\")"
   ]
  },
  {
   "cell_type": "code",
   "execution_count": 17,
   "metadata": {},
   "outputs": [
    {
     "data": {
      "text/plain": [
       "0.5"
      ]
     },
     "execution_count": 17,
     "metadata": {},
     "output_type": "execute_result"
    }
   ],
   "source": [
    "textblow_score(\"eres imbecil :)\")"
   ]
  },
  {
   "cell_type": "code",
   "execution_count": 42,
   "metadata": {},
   "outputs": [
    {
     "data": {
      "text/plain": [
       "0.5"
      ]
     },
     "execution_count": 42,
     "metadata": {},
     "output_type": "execute_result"
    }
   ],
   "source": [
    "textblow_score(\"eres imbécil :)\")"
   ]
  },
  {
   "cell_type": "code",
   "execution_count": 18,
   "metadata": {},
   "outputs": [
    {
     "data": {
      "text/plain": [
       "0.0"
      ]
     },
     "execution_count": 18,
     "metadata": {},
     "output_type": "execute_result"
    }
   ],
   "source": [
    "textblow_score(\"yo soy musulman\")"
   ]
  },
  {
   "cell_type": "code",
   "execution_count": 20,
   "metadata": {},
   "outputs": [
    {
     "data": {
      "text/plain": [
       "0.0"
      ]
     },
     "execution_count": 20,
     "metadata": {},
     "output_type": "execute_result"
    }
   ],
   "source": [
    "textblow_score(\"yo soy cristiano\")"
   ]
  }
 ],
 "metadata": {
  "kernelspec": {
   "display_name": "Python 3",
   "language": "python",
   "name": "python3"
  },
  "language_info": {
   "codemirror_mode": {
    "name": "ipython",
    "version": 3
   },
   "file_extension": ".py",
   "mimetype": "text/x-python",
   "name": "python",
   "nbconvert_exporter": "python",
   "pygments_lexer": "ipython3",
   "version": "3.6.5"
  }
 },
 "nbformat": 4,
 "nbformat_minor": 2
}
