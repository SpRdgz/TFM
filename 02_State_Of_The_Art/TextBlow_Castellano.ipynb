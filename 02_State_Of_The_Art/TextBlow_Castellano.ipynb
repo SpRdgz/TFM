{
 "cells": [
  {
   "cell_type": "code",
   "execution_count": 1,
   "metadata": {},
   "outputs": [],
   "source": [
    "#pip install -U textblob\n",
    "from textblob import TextBlob\n",
    "from watson_developer_cloud import NaturalLanguageUnderstandingV1\n",
    "from watson_developer_cloud.natural_language_understanding_v1 import Features, EntitiesOptions, KeywordsOptions, SentimentOptions, CategoriesOptions\n",
    "import re\n",
    "from unicodedata import normalize\n",
    "import string"
   ]
  },
  {
   "cell_type": "code",
   "execution_count": 2,
   "metadata": {},
   "outputs": [],
   "source": [
    "def textblow_score(frase):\n",
    "    polarity = TextBlob(frase).sentiment.polarity\n",
    "    return polarity\n"
   ]
  },
  {
   "cell_type": "markdown",
   "metadata": {},
   "source": [
    "## Análisis con la librería de insultos"
   ]
  },
  {
   "cell_type": "code",
   "execution_count": 3,
   "metadata": {},
   "outputs": [],
   "source": [
    "# Es necesario quitar los acentos y las diéresis para no sustituir palabras como moño a mono (no podemos utilizar la libreia unicode)\n",
    "#Se convierte todo el texto a minúsculas\n",
    "#Se eliminan acentos y diéresis \n",
    "def estandarizacion(string):\n",
    "    res=string.lower()\n",
    "    res=re.sub(r\"([^n\\u0300-\\u036f]|n(?!\\u0303(?![\\u0300-\\u036f])))[\\u0300-\\u036f]+\", r\"\\1\", normalize( \"NFD\", res), 0, re.I)\n",
    "    res=normalize( 'NFC', res)\n",
    "    return res\n"
   ]
  },
  {
   "cell_type": "code",
   "execution_count": 43,
   "metadata": {},
   "outputs": [
    {
     "name": "stdout",
     "output_type": "stream",
     "text": [
      "mierdaseca\n",
      "hijo de puta\n",
      "bocachancla\n",
      "abrazafarolas\n",
      "cabron\n",
      "chupacables\n",
      "cuerpoescombro\n",
      "lameculos\n",
      "morroestufa\n",
      "pagafantas\n",
      "tolai\n",
      "perroflauta\n",
      "parguela\n",
      "cenutrio\n",
      "cabezabuque\n",
      "melon\n",
      "puta\n",
      "puto\n",
      "nazi\n",
      "niñata\n",
      "tocapelotas\n",
      "pichabrava\n",
      "peinabombillas\n",
      "caraespatula\n",
      "cipote\n",
      "p***\n",
      "panoli\n",
      "cierrabares\n",
      "merluzo\n",
      "capullo\n",
      "muerdesartenes\n",
      "zampabollos\n",
      "mentecato\n",
      "aborto de mono\n",
      "zarrapastroso\n",
      "tuercebotas\n",
      "alcornoque\n",
      "bebecharcos\n",
      "lerdo\n",
      "papafrita\n",
      "huevon\n",
      "mindundi\n",
      "carajaula\n",
      "malparido\n",
      "zopenco\n",
      "soplagaitas\n",
      "culopollo\n",
      "piltrafa\n",
      "amorfo\n",
      "papanatas\n",
      "meapilas\n",
      "zurcefrenillos\n",
      "mequetrefe\n",
      "pelagambas\n",
      "gañan\n",
      "pazguato\n",
      "lechuguino\n",
      "pedorro\n",
      "caraculo\n",
      "caracarton\n",
      "pelele\n",
      "alfeñique\n",
      "botarate\n",
      "mameluco\n",
      "quitahipos\n",
      "paquete\n",
      "pintamonas\n",
      "zoquete\n",
      "energumeno\n",
      "gilipuertas\n",
      "palurdo\n",
      "perra\n",
      "cretino\n",
      "comebolsas\n",
      "sabandija\n",
      "analfabestia\n",
      "tipa\n",
      "piojoso\n",
      "peinaovejas\n",
      "perrocostra\n",
      "pelagatos\n",
      "tarugo\n",
      "pecholata\n",
      "cantamañanas\n",
      "brasas\n",
      "baboso\n",
      "pataliebre\n",
      "maricon\n",
      "giraesquinas\n",
      "mastuerzo\n",
      "bocabuzon\n",
      "lamecharcos\n",
      "ceporro\n",
      "adufe\n",
      "calientahielos\n",
      "pinchauvas\n",
      "pamplinas\n",
      "tarado\n",
      "bocallanta\n",
      "caraflema\n",
      "zascandil\n",
      "tragaldabas\n",
      "patan\n",
      "rebañasandias\n",
      "pocasluces\n",
      "soplabergas\n",
      "cazurro\n",
      "bellaco\n",
      "berzotas\n",
      "tunante caracaballo\n",
      "chupoptero\n",
      "comechapas\n",
      "cansalmas\n",
      "cebollino\n",
      "tontaco\n",
      "cagalindes\n",
      "zangano\n",
      "besugo\n",
      "sanguijuela\n",
      "cachivache\n",
      "vendehumos\n",
      "cernicalo\n",
      "gandul\n",
      "percebe\n",
      "chiquilicuatre\n",
      "fariseo\n",
      "donnadie\n",
      "mamporrero\n",
      "escornacabras\n",
      "arrastracueros\n",
      "pelma\n",
      "cenizo\n",
      "comeflores\n",
      "revientabaules\n",
      "bobalicon\n",
      "zarrapastroso\n",
      "majadero\n",
      "cartulina\n",
      "cagarruta\n",
      "robaperas\n",
      "cabestro\n",
      "cabeza alberca\n",
      "picapleitos\n",
      "lumbreras\n",
      "barriobajero\n",
      "mendrugo\n",
      "pollopera\n",
      "malasombra\n",
      "chupasangre\n",
      "fantoche\n",
      "lameplatos\n",
      "petimetre\n",
      "pasmarote\n",
      "mangarran\n",
      "mangurrian\n",
      "cafre\n",
      "feminazi\n",
      "puto\n",
      "pardillo\n",
      "pasmasuegras\n",
      "carapapa\n",
      "cartuli\n",
      "carajote\n",
      "sinsustancia\n",
      "pitofloro\n",
      "gorrino\n",
      "huelegateras\n",
      "gabacho\n",
      "lambon\n",
      "dondiego\n",
      "pechugona\n",
      "gaznapiro\n",
      "tontucio\n",
      "abanto\n",
      "borrico\n",
      "comestacas\n",
      "malasangre\n",
      "carapijo\n",
      "boquimuelle\n",
      "soplaguindas\n",
      "ovejo\n",
      "imbecil\n",
      "metemuertos\n",
      "eunuco\n",
      "piruja\n",
      "paleto\n",
      "niñato\n",
      "calzamonas\n",
      "chirimbaina\n",
      "pelazarzas\n",
      "morlaco\n",
      "tordo\n",
      "calamidad\n",
      "longanizas\n",
      "pelagallos\n",
      "zote\n",
      "estulto\n",
      "fulastre\n",
      "sacamuelas\n",
      "altapendeja\n",
      "sonso\n",
      "zambombo\n",
      "gorrumino\n",
      "habahela\n",
      "tocho\n",
      "belloto\n",
      "orate\n",
      "zamacuco\n",
      "mamon\n",
      "artaban\n",
      "pillavispas\n",
      "guitarro\n",
      "lloramigas\n",
      "maganto\n",
      "manegueta\n",
      "matacandiles\n",
      "ganapio\n",
      "gurriato\n",
      "esbaratabailes\n",
      "pitañoso\n",
      "tiralevitas\n",
      "ganapan\n",
      "tonto\n",
      "metijaco\n",
      "pavitonto\n",
      "sonajas\n",
      "sosco\n",
      "desgarracalzas\n",
      "letrin\n",
      "papirote\n",
      "rastrapajo\n",
      "sinentraero\n",
      "tagarote\n",
      "escolimoso\n",
      "filimincias\n",
      "panarra\n",
      "rieleches\n",
      "zamugo\n",
      "andurriasmo\n",
      "barrabas\n",
      "calambuco\n",
      "calduo\n",
      "charran\n",
      "echacantos\n",
      "fanfosquero\n",
      "foligoso\n",
      "pelatigres\n",
      "peterete\n",
      "plomo\n",
      "atarre\n",
      "ejarramantas\n",
      "zullenco\n",
      "bastardo\n",
      "0.0\n",
      "0.0\n",
      "0.0\n",
      "0.0\n",
      "0.0\n",
      "0.0\n",
      "0.0\n",
      "0.0\n",
      "0.0\n",
      "0.0\n",
      "0.0\n",
      "0.0\n",
      "0.0\n",
      "0.0\n",
      "0.0\n",
      "0.0\n",
      "0.0\n",
      "0.0\n",
      "0.0\n",
      "0.0\n",
      "0.0\n",
      "0.0\n",
      "0.0\n",
      "0.0\n",
      "0.0\n",
      "0.0\n",
      "0.0\n",
      "0.0\n",
      "0.0\n",
      "0.0\n",
      "0.0\n",
      "0.0\n",
      "0.0\n",
      "0.0\n",
      "0.0\n",
      "0.0\n",
      "0.0\n",
      "0.0\n",
      "0.0\n",
      "0.0\n",
      "0.0\n",
      "0.0\n",
      "0.0\n",
      "0.0\n",
      "0.0\n",
      "0.0\n",
      "0.0\n",
      "0.0\n",
      "0.0\n",
      "0.0\n",
      "0.0\n",
      "0.0\n",
      "0.0\n",
      "0.0\n",
      "0.0\n",
      "0.0\n",
      "0.0\n",
      "0.0\n",
      "0.0\n",
      "0.0\n",
      "0.0\n",
      "0.0\n",
      "0.0\n",
      "0.0\n",
      "0.0\n",
      "0.0\n",
      "0.0\n",
      "0.0\n",
      "0.0\n",
      "0.0\n",
      "0.0\n",
      "0.0\n",
      "0.0\n",
      "0.0\n",
      "0.0\n",
      "0.0\n",
      "0.0\n",
      "0.0\n",
      "0.0\n",
      "0.0\n",
      "0.0\n",
      "0.0\n",
      "0.0\n",
      "0.0\n",
      "0.0\n",
      "0.0\n",
      "0.0\n",
      "0.0\n",
      "0.0\n",
      "0.0\n",
      "0.0\n",
      "0.0\n",
      "0.0\n",
      "0.0\n",
      "0.0\n",
      "0.0\n",
      "0.0\n",
      "0.0\n",
      "0.0\n",
      "0.0\n",
      "0.0\n",
      "0.0\n",
      "0.0\n",
      "0.0\n",
      "0.0\n",
      "0.0\n",
      "0.0\n",
      "0.0\n",
      "0.0\n",
      "0.0\n",
      "0.0\n",
      "0.0\n",
      "0.0\n",
      "0.0\n",
      "0.0\n",
      "0.0\n",
      "0.0\n",
      "0.0\n",
      "0.0\n",
      "0.0\n",
      "0.0\n",
      "0.0\n",
      "0.0\n",
      "0.0\n",
      "0.0\n",
      "0.0\n",
      "0.0\n",
      "0.0\n",
      "0.0\n",
      "0.0\n",
      "0.0\n",
      "0.0\n",
      "0.0\n",
      "0.0\n",
      "0.0\n",
      "0.0\n",
      "0.0\n",
      "0.0\n",
      "0.0\n",
      "0.0\n",
      "0.0\n",
      "0.0\n",
      "0.0\n",
      "0.0\n",
      "0.0\n",
      "0.0\n",
      "0.0\n",
      "0.0\n",
      "0.0\n",
      "0.0\n",
      "0.0\n",
      "0.0\n",
      "0.0\n",
      "0.0\n",
      "0.0\n",
      "0.0\n",
      "0.0\n",
      "0.0\n",
      "0.0\n",
      "0.0\n",
      "0.0\n",
      "0.0\n",
      "0.0\n",
      "0.0\n",
      "0.0\n",
      "0.0\n",
      "0.0\n",
      "0.0\n",
      "0.0\n",
      "0.0\n",
      "0.0\n",
      "0.0\n",
      "0.0\n",
      "0.0\n",
      "0.0\n",
      "0.0\n",
      "0.0\n",
      "0.0\n",
      "0.0\n",
      "0.0\n",
      "0.0\n",
      "0.0\n",
      "0.0\n",
      "0.0\n",
      "0.0\n",
      "0.0\n",
      "0.0\n",
      "0.0\n",
      "0.0\n",
      "0.0\n",
      "0.0\n",
      "0.0\n",
      "0.0\n",
      "0.0\n",
      "0.0\n",
      "0.0\n",
      "0.0\n",
      "0.0\n",
      "0.0\n",
      "0.0\n",
      "0.0\n",
      "0.0\n",
      "0.0\n",
      "0.0\n",
      "0.0\n",
      "0.0\n",
      "0.0\n",
      "0.0\n",
      "0.0\n",
      "0.0\n",
      "0.0\n",
      "0.0\n",
      "0.0\n",
      "0.0\n",
      "0.0\n",
      "0.0\n",
      "0.0\n",
      "0.0\n",
      "0.0\n",
      "0.0\n",
      "0.0\n",
      "0.0\n",
      "0.0\n",
      "0.0\n",
      "0.0\n",
      "0.0\n",
      "0.0\n",
      "0.0\n",
      "0.0\n",
      "0.0\n",
      "0.0\n",
      "0.0\n",
      "0.0\n",
      "0.0\n",
      "0.0\n",
      "0.0\n",
      "0.0\n",
      "0.0\n",
      "0.0\n",
      "0.0\n",
      "0.0\n",
      "0.0\n",
      "0.0\n",
      "0.0\n",
      "0.0\n",
      "0.0\n",
      "0.0\n",
      "0.0\n",
      "0.0\n",
      "0.0\n",
      "0.0\n",
      "0.0\n",
      "0.0\n"
     ]
    }
   ],
   "source": [
    "#Prueba con el dataset crea\n",
    "### Preparación de la librería de insultos\n",
    "# Obtenida de https://listas.20minutos.es/lista/insultos-en-castellano-que-deberias-conocer-y-su-significado-393340/\n",
    "path_lib_insultos=\"../00_Dataset/libreria_insultos.txt\"\n",
    "\n",
    "with open(path_lib_insultos, encoding='utf8') as f:\n",
    "    lines = f.read().splitlines()\n",
    "    \n",
    "#Se inicializa la lista\n",
    "res_estand_lib_ins = []\n",
    "#Se convierte en minúscula todos los elementos y se eliminan diéresis \n",
    "for i in lines:\n",
    "    print(estandarizacion(i))\n",
    "    res_estand_lib_ins.append(estandarizacion(i))\n",
    "    \n",
    "\n",
    "res_pos=[]\n",
    "res_neg=[]\n",
    "for texto in res_estand_lib_ins: \n",
    "    aux=textblow_score(texto)\n",
    "    print(aux)\n",
    "    if(aux>0):\n",
    "        res_pos.append(texto) \n",
    "    elif(aux<0):\n",
    "        res_neg.append(texto)"
   ]
  },
  {
   "cell_type": "code",
   "execution_count": 5,
   "metadata": {},
   "outputs": [
    {
     "name": "stdout",
     "output_type": "stream",
     "text": [
      "Total de palabras en la libería de insultos  253\n",
      "Porcentaje de palabras positivas  0.0\n",
      "Porcentaje de palabras negativas : 0.0\n"
     ]
    }
   ],
   "source": [
    "print(\"Total de palabras en la libería de insultos \", len(res_estand_lib_ins)) \n",
    "print(\"Porcentaje de palabras positivas \", len(res_pos)/len(res_estand_lib_ins))\n",
    "print(\"Porcentaje de palabras negativas :\", len(res_neg)/len(res_estand_lib_ins))  "
   ]
  },
  {
   "cell_type": "markdown",
   "metadata": {},
   "source": [
    "## Análisis de bias"
   ]
  },
  {
   "cell_type": "code",
   "execution_count": 13,
   "metadata": {},
   "outputs": [
    {
     "data": {
      "text/plain": [
       "0.4166666666666667"
      ]
     },
     "execution_count": 13,
     "metadata": {},
     "output_type": "execute_result"
    }
   ],
   "source": [
    "textblow_score(\"Soy una mujer gay negra\")"
   ]
  },
  {
   "cell_type": "code",
   "execution_count": 52,
   "metadata": {},
   "outputs": [
    {
     "data": {
      "text/plain": [
       "0.0"
      ]
     },
     "execution_count": 52,
     "metadata": {},
     "output_type": "execute_result"
    }
   ],
   "source": [
    "textblow_score(\"eres un lerdo\")"
   ]
  },
  {
   "cell_type": "code",
   "execution_count": 33,
   "metadata": {},
   "outputs": [
    {
     "data": {
      "text/plain": [
       "0.0"
      ]
     },
     "execution_count": 33,
     "metadata": {},
     "output_type": "execute_result"
    }
   ],
   "source": [
    "textblow_score(\"Soy una mujer negra\")"
   ]
  },
  {
   "cell_type": "code",
   "execution_count": 14,
   "metadata": {},
   "outputs": [
    {
     "data": {
      "text/plain": [
       "0.125"
      ]
     },
     "execution_count": 14,
     "metadata": {},
     "output_type": "execute_result"
    }
   ],
   "source": [
    "textblow_score(\"I am a black gay woman\")"
   ]
  },
  {
   "cell_type": "code",
   "execution_count": 35,
   "metadata": {},
   "outputs": [
    {
     "data": {
      "text/plain": [
       "-0.16666666666666666"
      ]
     },
     "execution_count": 35,
     "metadata": {},
     "output_type": "execute_result"
    }
   ],
   "source": [
    "textblow_score(\"I am a black woman\")"
   ]
  },
  {
   "cell_type": "code",
   "execution_count": 41,
   "metadata": {},
   "outputs": [
    {
     "data": {
      "text/plain": [
       "-0.8"
      ]
     },
     "execution_count": 41,
     "metadata": {},
     "output_type": "execute_result"
    }
   ],
   "source": [
    "textblow_score(\"You are an idiot\")"
   ]
  },
  {
   "cell_type": "code",
   "execution_count": 39,
   "metadata": {},
   "outputs": [
    {
     "data": {
      "text/plain": [
       "0.0"
      ]
     },
     "execution_count": 39,
     "metadata": {},
     "output_type": "execute_result"
    }
   ],
   "source": [
    "textblow_score(\"tu eres un idiota\")"
   ]
  },
  {
   "cell_type": "code",
   "execution_count": 16,
   "metadata": {},
   "outputs": [
    {
     "data": {
      "text/plain": [
       "0.0"
      ]
     },
     "execution_count": 16,
     "metadata": {},
     "output_type": "execute_result"
    }
   ],
   "source": [
    "textblow_score(\"I am a woman!\")"
   ]
  },
  {
   "cell_type": "code",
   "execution_count": 17,
   "metadata": {},
   "outputs": [
    {
     "data": {
      "text/plain": [
       "0.0"
      ]
     },
     "execution_count": 17,
     "metadata": {},
     "output_type": "execute_result"
    }
   ],
   "source": [
    "textblow_score(\"yo soy un hombre!\")"
   ]
  },
  {
   "cell_type": "code",
   "execution_count": 18,
   "metadata": {},
   "outputs": [
    {
     "data": {
      "text/plain": [
       "0.0"
      ]
     },
     "execution_count": 18,
     "metadata": {},
     "output_type": "execute_result"
    }
   ],
   "source": [
    "textblow_score(\"I am a man!\")"
   ]
  },
  {
   "cell_type": "code",
   "execution_count": 30,
   "metadata": {},
   "outputs": [
    {
     "data": {
      "text/plain": [
       "0.0"
      ]
     },
     "execution_count": 30,
     "metadata": {},
     "output_type": "execute_result"
    }
   ],
   "source": [
    "textblow_score(\"Eres imbecil\")"
   ]
  },
  {
   "cell_type": "code",
   "execution_count": 20,
   "metadata": {},
   "outputs": [
    {
     "data": {
      "text/plain": [
       "0.5"
      ]
     },
     "execution_count": 20,
     "metadata": {},
     "output_type": "execute_result"
    }
   ],
   "source": [
    "textblow_score(\"Eres imbécil :)\")"
   ]
  },
  {
   "cell_type": "code",
   "execution_count": 21,
   "metadata": {},
   "outputs": [
    {
     "data": {
      "text/plain": [
       "0.0"
      ]
     },
     "execution_count": 21,
     "metadata": {},
     "output_type": "execute_result"
    }
   ],
   "source": [
    "textblow_score(\"yo soy musulmán\")"
   ]
  },
  {
   "cell_type": "code",
   "execution_count": 22,
   "metadata": {},
   "outputs": [
    {
     "data": {
      "text/plain": [
       "0.0"
      ]
     },
     "execution_count": 22,
     "metadata": {},
     "output_type": "execute_result"
    }
   ],
   "source": [
    "textblow_score(\"I am a Muslim\")"
   ]
  },
  {
   "cell_type": "code",
   "execution_count": 23,
   "metadata": {},
   "outputs": [
    {
     "data": {
      "text/plain": [
       "0.0"
      ]
     },
     "execution_count": 23,
     "metadata": {},
     "output_type": "execute_result"
    }
   ],
   "source": [
    "textblow_score(\"yo soy cristiano\")"
   ]
  },
  {
   "cell_type": "code",
   "execution_count": 28,
   "metadata": {},
   "outputs": [
    {
     "data": {
      "text/plain": [
       "0.0"
      ]
     },
     "execution_count": 28,
     "metadata": {},
     "output_type": "execute_result"
    }
   ],
   "source": [
    "textblow_score(\"es que soy cristiano\")"
   ]
  },
  {
   "cell_type": "code",
   "execution_count": 29,
   "metadata": {},
   "outputs": [
    {
     "data": {
      "text/plain": [
       "0.0"
      ]
     },
     "execution_count": 29,
     "metadata": {},
     "output_type": "execute_result"
    }
   ],
   "source": [
    "textblow_score(\"I am Christian\")"
   ]
  }
 ],
 "metadata": {
  "kernelspec": {
   "display_name": "Python 3",
   "language": "python",
   "name": "python3"
  },
  "language_info": {
   "codemirror_mode": {
    "name": "ipython",
    "version": 3
   },
   "file_extension": ".py",
   "mimetype": "text/x-python",
   "name": "python",
   "nbconvert_exporter": "python",
   "pygments_lexer": "ipython3",
   "version": "3.6.5"
  }
 },
 "nbformat": 4,
 "nbformat_minor": 2
}
