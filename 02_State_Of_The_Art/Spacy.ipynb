{
 "cells": [
  {
   "cell_type": "markdown",
   "metadata": {},
   "source": [
    "Linea cerrada-> \n",
    "\n",
    "#python -m spacy download en\n"
   ]
  },
  {
   "cell_type": "markdown",
   "metadata": {},
   "source": [
    "**Tokenización con spacy**"
   ]
  },
  {
   "cell_type": "code",
   "execution_count": null,
   "metadata": {},
   "outputs": [],
   "source": [
    "#Tokenización con spacy\n",
    "from spacy.lang.es import Spanish\n",
    "# Load Spanish tokenizer, tagger, parser, NER and word vectors\n",
    "nlp = Spanish()\n",
    "#Convertimos en tokens las frases \n",
    "df['series_token2']=df.texto.apply(lambda txt: nlp(txt))\n",
    "df['series_token2'].head()"
   ]
  },
  {
   "cell_type": "markdown",
   "metadata": {},
   "source": [
    "- While SpaCy has an overall speed advantage over its stablemates, its sentence tokenization can run slower than NLTK under certain configurations, which might be a consideration with large-scale pipelines.\n",
    "\n",
    "- Tanmay Bansal, BS from Cornell University (2021)\n",
    "Answered Jul 11 2018\n",
    "Spacy does not come with an easily usable function for sentiment analysis. TextBlob, however, is an excellent library to use for performing quick sentiment analysis.\n",
    "\n",
    "If you want to use exclusively Spacy, a good idea would be to tokenize the text and perform an LSTM sentiment classification after training a model with Keras. Alternatively, you could also check out this example in their official documentation - it might be helpful depending on your purpose.\n",
    "https://github.com/explosion/spacy/blob/master/examples/deep_learning_keras.py\n",
    "\n",
    "- "
   ]
  }
 ],
 "metadata": {
  "kernelspec": {
   "display_name": "Python 3",
   "language": "python",
   "name": "python3"
  },
  "language_info": {
   "codemirror_mode": {
    "name": "ipython",
    "version": 3
   },
   "file_extension": ".py",
   "mimetype": "text/x-python",
   "name": "python",
   "nbconvert_exporter": "python",
   "pygments_lexer": "ipython3",
   "version": "3.6.5"
  }
 },
 "nbformat": 4,
 "nbformat_minor": 2
}
