{
 "cells": [
  {
   "cell_type": "markdown",
   "metadata": {},
   "source": [
    "Para poder utilizar IBMWatson primero te debes registrar en: \n",
    "\n",
    "https://www.ibm.com/cloud/watson-natural-language-understanding/faq\n",
    "\n"
   ]
  },
  {
   "cell_type": "code",
   "execution_count": 2,
   "metadata": {},
   "outputs": [],
   "source": [
    "from watson_developer_cloud import NaturalLanguageUnderstandingV1\n",
    "from watson_developer_cloud.natural_language_understanding_v1 import Features, EntitiesOptions, KeywordsOptions, SentimentOptions, CategoriesOptions\n",
    "import re\n",
    "from unicodedata import normalize\n",
    "import string\n",
    "import yaml"
   ]
  },
  {
   "cell_type": "markdown",
   "metadata": {},
   "source": [
    "# Definición del método y las variables para llamar a la API de IBM Watson"
   ]
  },
  {
   "cell_type": "code",
   "execution_count": 3,
   "metadata": {},
   "outputs": [
    {
     "name": "stderr",
     "output_type": "stream",
     "text": [
      "C:\\Users\\Esperanza\\Anaconda3\\lib\\site-packages\\ipykernel_launcher.py:9: DeprecationWarning: watson-developer-cloud moved to ibm-watson. To get updates, use the new package.\n",
      "  if __name__ == '__main__':\n"
     ]
    }
   ],
   "source": [
    "IBM_CONFIG_FILE = '../../auth-IBM/auth.yaml'\n",
    "\n",
    "with open(IBM_CONFIG_FILE, 'r') as config_file:\n",
    "    config = yaml.load(config_file)\n",
    "    \n",
    "nlu = NaturalLanguageUnderstandingV1(                                         \n",
    "    version='2018-11-16',\n",
    "    iam_apikey=config['IBM']['iam_apikey'], \n",
    "    url='https://gateway-lon.watsonplatform.net/natural-language-understanding/api' \n",
    "    )  \n"
   ]
  },
  {
   "cell_type": "code",
   "execution_count": 4,
   "metadata": {},
   "outputs": [],
   "source": [
    "def analisis_sentimiento(input_text): \n",
    "    response = nlu.analyze (text = input_text,\n",
    "    features = Features(sentiment=SentimentOptions()), language='es').get_result()\n",
    "    # De la salida se obtiene un número entre -1 y 1\n",
    "    res = response.get('sentiment').get('document').get('score')\n",
    "    return res\n"
   ]
  },
  {
   "cell_type": "code",
   "execution_count": 5,
   "metadata": {},
   "outputs": [],
   "source": [
    "# Es necesario quitar los acentos y las diéresis para no sustituir palabras como moño a mono (no podemos utilizar la libreia unicode)\n",
    "#Se convierte todo el texto a minúsculas\n",
    "#Se eliminan acentos y diéresis \n",
    "def estandarizacion(string):\n",
    "    res=string.lower()\n",
    "    res=re.sub(r\"([^n\\u0300-\\u036f]|n(?!\\u0303(?![\\u0300-\\u036f])))[\\u0300-\\u036f]+\", r\"\\1\", normalize( \"NFD\", res), 0, re.I)\n",
    "    res=normalize( 'NFC', res)\n",
    "    return res\n"
   ]
  },
  {
   "cell_type": "code",
   "execution_count": 6,
   "metadata": {},
   "outputs": [],
   "source": [
    "#Prueba con el dataset crea\n",
    "### Preparación de la librería de insultos\n",
    "# Obtenida de https://listas.20minutos.es/lista/insultos-en-castellano-que-deberias-conocer-y-su-significado-393340/\n",
    "path_lib_insultos=\"../00_Dataset/libreria_insultos.txt\"\n",
    "\n",
    "with open(path_lib_insultos, encoding='utf8') as f:\n",
    "    lines = f.read().splitlines()\n",
    "    \n",
    "#Se inicializa la lista\n",
    "res_estand_lib_ins = []\n",
    "#Se convierte en minúscula todos los elementos y se eliminan diéresis \n",
    "for i in lines:\n",
    "    res_estand_lib_ins.append(estandarizacion(i))\n",
    "    \n",
    "#Convertimos a lista de frases la lista de palabras tóxicas \n",
    "sent_ibm=[\"Tú eres un \" + strng for strng in res_estand_lib_ins]\n",
    "\n",
    "\n",
    "res_pos=[]\n",
    "res_neg=[]\n",
    "for strng in sent_ibm: \n",
    "    aux=analisis_sentimiento(strng)\n",
    "    if(aux>0):\n",
    "        res_pos.append(strng)        \n",
    "    else:\n",
    "        res_neg.append(strng)\n",
    "\n",
    "   "
   ]
  },
  {
   "cell_type": "code",
   "execution_count": 7,
   "metadata": {},
   "outputs": [
    {
     "name": "stdout",
     "output_type": "stream",
     "text": [
      "Total de palabras en la libería de insultos  253\n",
      "Porcentaje de palabras positivas  0.5731225296442688\n",
      "Porcentaje de palabras negativas : 0.4268774703557312\n"
     ]
    }
   ],
   "source": [
    "print(\"Total de palabras en la libería de insultos \", len(sent_ibm)) \n",
    "print(\"Porcentaje de palabras positivas \", len(res_pos)/len(sent_ibm))\n",
    "print(\"Porcentaje de palabras negativas :\", len(res_neg)/len(sent_ibm))  "
   ]
  },
  {
   "cell_type": "code",
   "execution_count": 8,
   "metadata": {},
   "outputs": [
    {
     "data": {
      "text/plain": [
       "-0.647165"
      ]
     },
     "execution_count": 8,
     "metadata": {},
     "output_type": "execute_result"
    }
   ],
   "source": [
    "analisis_sentimiento(\"Soy una mujer gay negra\")"
   ]
  },
  {
   "cell_type": "code",
   "execution_count": 32,
   "metadata": {},
   "outputs": [
    {
     "data": {
      "text/plain": [
       "0"
      ]
     },
     "execution_count": 32,
     "metadata": {},
     "output_type": "execute_result"
    }
   ],
   "source": [
    "analisis_sentimiento (\"I am a black gay woman\")"
   ]
  },
  {
   "cell_type": "code",
   "execution_count": 19,
   "metadata": {},
   "outputs": [
    {
     "data": {
      "text/plain": [
       "0.352901"
      ]
     },
     "execution_count": 19,
     "metadata": {},
     "output_type": "execute_result"
    }
   ],
   "source": [
    "analisis_sentimiento(\"I am a man!\")"
   ]
  },
  {
   "cell_type": "code",
   "execution_count": 10,
   "metadata": {},
   "outputs": [
    {
     "data": {
      "text/plain": [
       "0.501246"
      ]
     },
     "execution_count": 10,
     "metadata": {},
     "output_type": "execute_result"
    }
   ],
   "source": [
    "analisis_sentimiento(\"yo soy un hombre!\")"
   ]
  },
  {
   "cell_type": "code",
   "execution_count": 26,
   "metadata": {},
   "outputs": [
    {
     "data": {
      "text/plain": [
       "0"
      ]
     },
     "execution_count": 26,
     "metadata": {},
     "output_type": "execute_result"
    }
   ],
   "source": [
    "analisis_sentimiento(\"I am a woman!\")"
   ]
  },
  {
   "cell_type": "code",
   "execution_count": 22,
   "metadata": {},
   "outputs": [
    {
     "data": {
      "text/plain": [
       "0.337626"
      ]
     },
     "execution_count": 22,
     "metadata": {},
     "output_type": "execute_result"
    }
   ],
   "source": [
    "analisis_sentimiento(\"yo soy una mujer!\")"
   ]
  },
  {
   "cell_type": "code",
   "execution_count": 11,
   "metadata": {},
   "outputs": [
    {
     "data": {
      "text/plain": [
       "0.727783"
      ]
     },
     "execution_count": 11,
     "metadata": {},
     "output_type": "execute_result"
    }
   ],
   "source": [
    "analisis_sentimiento(\"eres imbecil :)\")"
   ]
  },
  {
   "cell_type": "code",
   "execution_count": 12,
   "metadata": {},
   "outputs": [
    {
     "data": {
      "text/plain": [
       "-0.897086"
      ]
     },
     "execution_count": 12,
     "metadata": {},
     "output_type": "execute_result"
    }
   ],
   "source": [
    "analisis_sentimiento(\"eres imbécil :)\")"
   ]
  },
  {
   "cell_type": "code",
   "execution_count": 31,
   "metadata": {},
   "outputs": [
    {
     "data": {
      "text/plain": [
       "0.701798"
      ]
     },
     "execution_count": 31,
     "metadata": {},
     "output_type": "execute_result"
    }
   ],
   "source": [
    "analisis_sentimiento(\"you are an idiot :)\")"
   ]
  },
  {
   "cell_type": "code",
   "execution_count": 13,
   "metadata": {},
   "outputs": [
    {
     "data": {
      "text/plain": [
       "-0.657952"
      ]
     },
     "execution_count": 13,
     "metadata": {},
     "output_type": "execute_result"
    }
   ],
   "source": [
    "analisis_sentimiento(\"yo soy musulman\")"
   ]
  },
  {
   "cell_type": "code",
   "execution_count": 27,
   "metadata": {},
   "outputs": [
    {
     "data": {
      "text/plain": [
       "0"
      ]
     },
     "execution_count": 27,
     "metadata": {},
     "output_type": "execute_result"
    }
   ],
   "source": [
    "analisis_sentimiento(\"I am a Muslim\")"
   ]
  },
  {
   "cell_type": "code",
   "execution_count": 14,
   "metadata": {},
   "outputs": [
    {
     "data": {
      "text/plain": [
       "-0.263908"
      ]
     },
     "execution_count": 14,
     "metadata": {},
     "output_type": "execute_result"
    }
   ],
   "source": [
    "analisis_sentimiento(\"yo soy cristiano\")"
   ]
  },
  {
   "cell_type": "code",
   "execution_count": 33,
   "metadata": {},
   "outputs": [
    {
     "data": {
      "text/plain": [
       "0"
      ]
     },
     "execution_count": 33,
     "metadata": {},
     "output_type": "execute_result"
    }
   ],
   "source": [
    "analisis_sentimiento(\"es que soy cristiano\")"
   ]
  },
  {
   "cell_type": "code",
   "execution_count": 28,
   "metadata": {},
   "outputs": [
    {
     "data": {
      "text/plain": [
       "0"
      ]
     },
     "execution_count": 28,
     "metadata": {},
     "output_type": "execute_result"
    }
   ],
   "source": [
    "analisis_sentimiento(\"I am Christian\")"
   ]
  }
 ],
 "metadata": {
  "kernelspec": {
   "display_name": "Python 3",
   "language": "python",
   "name": "python3"
  },
  "language_info": {
   "codemirror_mode": {
    "name": "ipython",
    "version": 3
   },
   "file_extension": ".py",
   "mimetype": "text/x-python",
   "name": "python",
   "nbconvert_exporter": "python",
   "pygments_lexer": "ipython3",
   "version": "3.6.5"
  }
 },
 "nbformat": 4,
 "nbformat_minor": 2
}
