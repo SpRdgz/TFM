{
 "cells": [
  {
   "cell_type": "markdown",
   "metadata": {},
   "source": [
    "Para poder utilizar IBMWatson primero te debes registrar en: \n",
    "\n",
    "https://www.ibm.com/cloud/watson-natural-language-understanding/faq\n",
    "\n"
   ]
  },
  {
   "cell_type": "code",
   "execution_count": 74,
   "metadata": {},
   "outputs": [],
   "source": [
    "from watson_developer_cloud import NaturalLanguageUnderstandingV1\n",
    "from watson_developer_cloud.natural_language_understanding_v1 import Features, EntitiesOptions, KeywordsOptions, SentimentOptions, CategoriesOptions\n",
    "import re\n",
    "from unicodedata import normalize\n",
    "import string"
   ]
  },
  {
   "cell_type": "code",
   "execution_count": 136,
   "metadata": {},
   "outputs": [
    {
     "name": "stderr",
     "output_type": "stream",
     "text": [
      "C:\\Users\\Esperanza\\Anaconda3\\lib\\site-packages\\ipykernel_launcher.py:4: DeprecationWarning: watson-developer-cloud moved to ibm-watson. To get updates, use the new package.\n",
      "  after removing the cwd from sys.path.\n"
     ]
    }
   ],
   "source": [
    "nlu = NaturalLanguageUnderstandingV1(                                         \n",
    "    version='2018-11-16',\n",
    "    iam_apikey='ME64j5wCJepkleMlF3zBCZGmF3riaERYqU8IX7WUD2Zq', \n",
    "    url='https://gateway-lon.watsonplatform.net/natural-language-understanding/api' \n",
    "    )\n",
    "\n",
    "def analisis_sentimiento(input_text): \n",
    "    response = nlu.analyze (text = input_text,\n",
    "    features = Features(sentiment=SentimentOptions()), language='es').get_result()\n",
    "    # De la salida se obtiene un número entre -1 y 1\n",
    "    res = response.get('sentiment').get('document').get('score')\n",
    "    return res\n"
   ]
  },
  {
   "cell_type": "code",
   "execution_count": 76,
   "metadata": {},
   "outputs": [],
   "source": [
    "# Es necesario quitar los acentos y las diéresis para no sustituir palabras como moño a mono (no podemos utilizar la libreia unicode)\n",
    "#Se convierte todo el texto a minúsculas\n",
    "#Se eliminan acentos y diéresis \n",
    "def estandarizacion(string):\n",
    "    res=string.lower()\n",
    "    res=re.sub(r\"([^n\\u0300-\\u036f]|n(?!\\u0303(?![\\u0300-\\u036f])))[\\u0300-\\u036f]+\", r\"\\1\", normalize( \"NFD\", res), 0, re.I)\n",
    "    res=normalize( 'NFC', res)\n",
    "    return res\n"
   ]
  },
  {
   "cell_type": "code",
   "execution_count": 138,
   "metadata": {},
   "outputs": [],
   "source": [
    "#Prueba con el dataset crea\n",
    "### Preparación de la librería de insultos\n",
    "# Obtenida de https://listas.20minutos.es/lista/insultos-en-castellano-que-deberias-conocer-y-su-significado-393340/\n",
    "path_lib_insultos=\"C:/Users/Esperanza/Desktop/UOC/2año/TFM/libreria_insultos.txt\"\n",
    "\n",
    "with open(path_lib_insultos, encoding='utf8') as f:\n",
    "    lines = f.read().splitlines()\n",
    "    \n",
    "#Se inicializa la lista\n",
    "res_estand_lib_ins = []\n",
    "#Se convierte en minúscula todos los elementos y se eliminan diéresis \n",
    "for i in lines:\n",
    "    res_estand_lib_ins.append(estandarizacion(i))\n",
    "    \n",
    "#Convertimos a lista de frases la lista de palabras tóxicas \n",
    "sent_ibm=[\"Tú eres un \" + strng for strng in res_estand_lib_ins]\n",
    "\n",
    "\n",
    "res_pos=[]\n",
    "res_neg=[]\n",
    "for strng in sent_ibm: \n",
    "    aux=analisis_sentimiento(strng)\n",
    "    if(aux>0):\n",
    "        res_pos.append(strng)        \n",
    "    else:\n",
    "        res_neg.append(strng)\n",
    "\n",
    "   "
   ]
  },
  {
   "cell_type": "code",
   "execution_count": 142,
   "metadata": {},
   "outputs": [
    {
     "name": "stdout",
     "output_type": "stream",
     "text": [
      "Total de palabras en la libería de insultos  241\n",
      "Porcentaje de palabras positivas  0.5850622406639004\n",
      "Porcentaje de palabras negativas : 0.4149377593360996\n"
     ]
    }
   ],
   "source": [
    "print(\"Total de palabras en la libería de insultos \", len(sent_ibm)) \n",
    "print(\"Porcentaje de palabras positivas \", len(res_pos)/len(sent_ibm))\n",
    "print(\"Porcentaje de palabras negativas :\", len(res_neg)/len(sent_ibm))  "
   ]
  },
  {
   "cell_type": "code",
   "execution_count": 87,
   "metadata": {},
   "outputs": [
    {
     "data": {
      "text/plain": [
       "-0.647165"
      ]
     },
     "execution_count": 87,
     "metadata": {},
     "output_type": "execute_result"
    }
   ],
   "source": [
    "analisis_sentimiento(\"Soy una mujer gay negra\")"
   ]
  },
  {
   "cell_type": "code",
   "execution_count": 106,
   "metadata": {},
   "outputs": [
    {
     "data": {
      "text/plain": [
       "0.441942"
      ]
     },
     "execution_count": 106,
     "metadata": {},
     "output_type": "execute_result"
    }
   ],
   "source": [
    "analisis_sentimiento(\"es que soy mujer!\")"
   ]
  },
  {
   "cell_type": "code",
   "execution_count": 105,
   "metadata": {},
   "outputs": [
    {
     "data": {
      "text/plain": [
       "0.501246"
      ]
     },
     "execution_count": 105,
     "metadata": {},
     "output_type": "execute_result"
    }
   ],
   "source": [
    "analisis_sentimiento(\"Es que soy hombre!\")"
   ]
  },
  {
   "cell_type": "code",
   "execution_count": 112,
   "metadata": {},
   "outputs": [
    {
     "data": {
      "text/plain": [
       "0.727783"
      ]
     },
     "execution_count": 112,
     "metadata": {},
     "output_type": "execute_result"
    }
   ],
   "source": [
    "analisis_sentimiento(\"eres imbecil :)\")"
   ]
  },
  {
   "cell_type": "code",
   "execution_count": 114,
   "metadata": {},
   "outputs": [
    {
     "data": {
      "text/plain": [
       "-0.897086"
      ]
     },
     "execution_count": 114,
     "metadata": {},
     "output_type": "execute_result"
    }
   ],
   "source": [
    "analisis_sentimiento(\"eres imbécil :)\")"
   ]
  },
  {
   "cell_type": "code",
   "execution_count": 96,
   "metadata": {},
   "outputs": [
    {
     "data": {
      "text/plain": [
       "-0.657952"
      ]
     },
     "execution_count": 96,
     "metadata": {},
     "output_type": "execute_result"
    }
   ],
   "source": [
    "analisis_sentimiento(\"yo soy musulman\")"
   ]
  },
  {
   "cell_type": "code",
   "execution_count": 97,
   "metadata": {},
   "outputs": [
    {
     "data": {
      "text/plain": [
       "-0.263908"
      ]
     },
     "execution_count": 97,
     "metadata": {},
     "output_type": "execute_result"
    }
   ],
   "source": [
    "analisis_sentimiento(\"yo soy cristiano\")"
   ]
  },
  {
   "cell_type": "code",
   "execution_count": 115,
   "metadata": {},
   "outputs": [
    {
     "data": {
      "text/plain": [
       "-0.50646"
      ]
     },
     "execution_count": 115,
     "metadata": {},
     "output_type": "execute_result"
    }
   ],
   "source": [
    "analisis_sentimiento(\"Es que soy musulman\")"
   ]
  },
  {
   "cell_type": "code",
   "execution_count": 116,
   "metadata": {},
   "outputs": [
    {
     "data": {
      "text/plain": [
       "0"
      ]
     },
     "execution_count": 116,
     "metadata": {},
     "output_type": "execute_result"
    }
   ],
   "source": [
    "analisis_sentimiento(\"Es que soy cristiano\")"
   ]
  }
 ],
 "metadata": {
  "kernelspec": {
   "display_name": "Python 3",
   "language": "python",
   "name": "python3"
  },
  "language_info": {
   "codemirror_mode": {
    "name": "ipython",
    "version": 3
   },
   "file_extension": ".py",
   "mimetype": "text/x-python",
   "name": "python",
   "nbconvert_exporter": "python",
   "pygments_lexer": "ipython3",
   "version": "3.6.5"
  }
 },
 "nbformat": 4,
 "nbformat_minor": 2
}
