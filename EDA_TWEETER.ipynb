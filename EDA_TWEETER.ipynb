{
 "cells": [
  {
   "cell_type": "markdown",
   "metadata": {},
   "source": [
    "-- Exploratory data analysis-- \n",
    "\n",
    "    Analiza el conjunto de datos con el objetivo de resumir sus características principales, generalmente a través de medios visuales. \n",
    "    La finalidad es ver que pueden decirnos los datos más alla del modelado formal o las pruebas de hipótesis\n",
    "    \n",
    "\n",
    "Fuente: https://en.wikipedia.org/wiki/Exploratory_data_analysis"
   ]
  },
  {
   "cell_type": "markdown",
   "metadata": {},
   "source": [
    "Data Mining de la muestra extraida de Twitter. Es muy probable que con el paso del tiempo debido a la ampliación de necesidades se incremente la muestra. \n",
    "\n",
    "Al obtener el dataset ya se hicieron algunos pasos de data mining como: \n",
    "\n",
    "* Supresión de cuentas a las que hace referencia (@XXXX) y aglutinación de múltiples espacios en uno\n",
    "* Eliminación de páginas web (http,https y www) (str.replace('http\\S+|www.\\S+', '', case=False))\n",
    "* Eliminación del símbolo # que hace referencia a los hastag\n",
    "* Supresión de comentarios duplicados una vez que se elimina todo lo anterior\n",
    "\n",
    "Este dataset contiene lenguaje tóxico que es el que se está analizando. "
   ]
  },
  {
   "cell_type": "code",
   "execution_count": 118,
   "metadata": {},
   "outputs": [],
   "source": [
    "import pandas as pd\n",
    "from nltk.tokenize import WordPunctTokenizer\n",
    "from nltk.tokenize import word_tokenize\n",
    "%matplotlib inline"
   ]
  },
  {
   "cell_type": "markdown",
   "metadata": {},
   "source": [
    "# Lectura de la muestra"
   ]
  },
  {
   "cell_type": "code",
   "execution_count": 40,
   "metadata": {},
   "outputs": [
    {
     "data": {
      "text/plain": [
       "texto     _efs Juego sucio no, barriobajero.\n",
       "toxico                                     1\n",
       "Name: 264, dtype: object"
      ]
     },
     "execution_count": 40,
     "metadata": {},
     "output_type": "execute_result"
    }
   ],
   "source": [
    "df = pd.read_csv(\"C:/Users/Esperanza/Desktop/UOC/TFM/python/insultos.csv\", sep=';',usecols=[0,1])\n",
    "df.iloc[264,:]"
   ]
  },
  {
   "cell_type": "markdown",
   "metadata": {},
   "source": [
    "**1) Eliminación de todas las palabras que empiecen por '_' ya que no nos dan información. **\n",
    "\n",
    "*_Zaragoza_ Cállese burro, lea libros y tuitee menos, botarate. ;1;*"
   ]
  },
  {
   "cell_type": "code",
   "execution_count": 41,
   "metadata": {},
   "outputs": [],
   "source": [
    "#Función que elimina la palabra que empiece por el caracter (char) en el texto(text)\n",
    "def delete_starting_with(text, char):\n",
    "    text=' '.join(word for word in text.split(' ') if not word.startswith(char))\n",
    "    return text"
   ]
  },
  {
   "cell_type": "code",
   "execution_count": 42,
   "metadata": {},
   "outputs": [
    {
     "data": {
      "text/plain": [
       "texto     Juego sucio no, barriobajero.\n",
       "toxico                                1\n",
       "Name: 264, dtype: object"
      ]
     },
     "execution_count": 42,
     "metadata": {},
     "output_type": "execute_result"
    }
   ],
   "source": [
    "df['texto']=df['texto'].apply(lambda txt: delete_starting_with(txt, '_') )\n",
    "df.iloc[264,:]"
   ]
  },
  {
   "cell_type": "markdown",
   "metadata": {},
   "source": [
    "**2) Eliminación de las comillas. **\n",
    "\n",
    "*\"\"\"Tú eres tan cabrón que los estás jodiendo\"\" \"\"Que pongan el aire más alto así nos infectamos\"\" \"\"Estos hijos de puta se tienen que ir a su país\"\" \"\"Que esto es España joder\"\" \"\"Dentro de poco esto va a estar lleno de ratas y nos vamos a infectar todos\"\" \"\"Me están tocando los huevos\"\"\"*"
   ]
  },
  {
   "cell_type": "code",
   "execution_count": 43,
   "metadata": {},
   "outputs": [
    {
     "data": {
      "text/plain": [
       "texto     \"Tú eres tan cabrón que los estás jodiendo\" \"Q...\n",
       "toxico                                                    1\n",
       "Name: 2, dtype: object"
      ]
     },
     "execution_count": 43,
     "metadata": {},
     "output_type": "execute_result"
    }
   ],
   "source": [
    "df.iloc[2,:]"
   ]
  },
  {
   "cell_type": "code",
   "execution_count": 44,
   "metadata": {},
   "outputs": [
    {
     "data": {
      "text/plain": [
       "texto     Tú eres tan cabrón que los estás jodiendo Que ...\n",
       "toxico                                                    1\n",
       "Name: 2, dtype: object"
      ]
     },
     "execution_count": 44,
     "metadata": {},
     "output_type": "execute_result"
    }
   ],
   "source": [
    "df['texto']=df.texto.apply(lambda x: x.replace('\\\"',''))\n",
    "df.iloc[2,:]"
   ]
  },
  {
   "cell_type": "code",
   "execution_count": 52,
   "metadata": {},
   "outputs": [
    {
     "name": "stdout",
     "output_type": "stream",
     "text": [
      "['Que', 'asco', 'de', 'cabrón', '.']\n",
      "['Felipe', '.', 'Cállate', ',', 'cabrón', '.', '¿Con', 'qué', 'cara', 'te', 'atreves', 'a', 'hablar', 'sobre', 'construcción', 'de', 'refinerías', '?']\n",
      "['Tú', 'eres', 'tan', 'cabrón', 'que', 'los', 'estás', 'jodiendo', 'Que', 'pongan', 'el', 'aire', 'más', 'alto', 'así', 'nos', 'infectamos', 'Estos', 'hijos', 'de', 'puta', 'se', 'tienen', 'que', 'ir', 'a', 'su', 'país', 'Que', 'esto', 'es', 'España', 'joder', 'Dentro', 'de', 'poco', 'esto', 'va', 'a', 'estar', 'lleno', 'de', 'ratas', 'y', 'nos', 'vamos', 'a', 'infectar', 'todos', 'Me', 'están', 'tocando', 'los', 'huevos']\n",
      "['Jajajajaja', 'Qué', 'cabrón']\n",
      "['Ja', 'ja', ',', 'cabrón', '😅']\n",
      "['HIJO', 'DE', 'PUTA', ',', 'COMO', 'TE', 'ATREVES', 'A', 'PONER', 'ESE', 'EMOJI']\n",
      "['Cínico', 'hijo', 'de', 'la', 'gran', 'puta', '.']\n",
      "['Mis', 'padres', 'estaban', 'buscando', 'casa', 'y', 'llamo', 'el', 'vendedor', 'de', 'la', 'casa', '.', 'Yo', 'cogí', 'el', 'teléfono', 'y', 'empecé', 'a', 'insultarte', '(', 'gilipollas', ',', 'hijo', 'de', 'puta', ')', 'sin', 'motivo', 'aparente', ',', 'era', 'pequeño.Y', 'después', 'mi', 'madre', 'como', 'buena', 'madre', 'gallega', 'me', 'obligó', 'a', 'ir', 'a', 'verlo', 'y', 'disculparme', ',', 'me', 'quería', 'morir', 'de', 'la', 'vergüenza']\n",
      "['Yo', 'creo', 'que', 'hay', 'gente', 'que', 'busca', 'que', 'yo', 'sea', 'un', 'hijo', 'de', 'puta', '.', 'Tengo', 'pruebas', 'eh', ',', 'porque', 'siempre', ',', 'juro', 'que', 'siempre', 'que', 'me', 'porto', 'bien', 'me', 'terminan', 'haciendo', 'x', 'cosa', 'para', 'que', 'me', 'ponga', 'en', 'hijo', 'de', 'mil', 'puta', '.', 'Creo', 'que', 'el', 'problema', 'está', 'en', 'cuando', 'quiero', 'ser', 'buena', 'persona']\n",
      "['Me', 'parece', 'muy', 'de', 'hijo', 'de', 'puta', 'que', 'me', 'diga', 'que', 'esté', 'con', 'la', 'novia', 'y', 'me', 'pida', 'vernos', ',', 'UN', 'HIJO', 'DE', 'PUTA', '.']\n",
      "['Hijo', 'de', 'puta']\n",
      "['Nos', 'estás', 'amenazando', ',', 'mierdaseca', '?']\n",
      "['Los', 'NIÑATOS', 'que', 'reniegan', 'de', 'Ramos', ',', 'son', 'los', 'mismos', 'que', 'idolatran', 'al', 'mierdaseca', 'de', 'Mourinho', ',', 'que', 'echaron', 'al', 'mejor', 'portero', 'del', 'mundo', ',', 'Casillas', '.', 'Aficionados', 'se', 'hacen', 'llamar', '...', '.']\n",
      "['Que', 'Valls', 'será', 'un', 'mierdaseca', ',', 'que', 'nadie', 'lo', 'discute', ',', 'pero', 'que', 'está', 'ofreciendo', 'sus', 'votos', 'GRATIS', 'CHABALADA', '.', 'No', 'he', 'visto', 'todavía', 'a', 'la', 'derecha', 'catalana', 'hacer', 'lo', 'mismo', '.']\n",
      "['Salía', 'del', 'aeropuerto', 'con', 'mis', 'compañeros', 'y', 'un', 'puto', 'guiri', 'de', 'mierda', 'ha', 'dicho', 'low', 'cost', 'airline', ',', 'low', 'cost', '...', 'Y', 'luego', 'algo', 'que', 'no', 'he', 'oído', 'bien', 'y', 'se', 'han', 'reído', 'pero', 'estoy', 'segura', 'de', 'que', 'se', 'refería', 'a', 'que', 'nosotros', 'éramos', 'baratos', 'y', 'de', 'verdad', ',', 'ojalá', 'se', 'tire', 'por', 'un', 'balcón', 'el', 'muy', 'mierdaseca']\n",
      "['Que', 'te', 'pires', 'mierdaseca', '!']\n",
      "['Monedero', ',', 'te', 'ha', 'devorado', 'el', 'personaje', '.', 'Eres', 'un', 'mierdaseca', '.']\n",
      "['no', 'se', 'puede', 'ser', 'más', 'bocachancla', '...']\n",
      "['Yo', 'flipo', ',', 'con', 'lo', 'bocachancla', 'q', 'puede', 'ser', 'la', 'gente', '...']\n",
      "['Ningún', 'bocachancla', 'sin', 'captura', '.']\n",
      "['Pero', 'si', 'no', 'ganasteis', 'vuestro', 'psrtido', 'bocachancla']\n",
      "['El', 'bocachancla', 'tiene', 'implantada', 'en', 'la', 'personalidad', 'la', 'prepotencia', 'por', 'defecto', '...']\n",
      "['Populismo', '?', 'populismo', 'eres', 'tú', ',', 'bocachancla']\n",
      "['Callate', 'bocachancla', ',', 'no', 'hace', 'falta', 'que', 'digas', 'tonterias', 'que', 'tos', 'sabemos']\n",
      "['Qué', 'diferencia', 'con', 'el', 'Borbón', 'abrazafarolas', ',', 'eh', '!', '?']\n",
      "['Pero', 'si', 'Will', 'es', 'el', 'genio', ',', 'abrazafarolas']\n",
      "['Eres', 'un', 'abrazafarolas', '.']\n",
      "['El', 'impoluto', ',', 'según', 'el', 'porcino', 'abrazafarolas', 'de', '🤣🐷🤣🐷🤣🐷🤣🐷🤣🐷🤣🐷🤣']\n",
      "['No', 'te', 'me', 'pongas', 'asi', 'abrazafarolas']\n",
      "['Madre', 'mía', 'la', 'cantidad', 'de', 'abrazafarolas', 'que', 'se', 'tragan', 'tus', 'bulos', '.']\n",
      "['Gilipollas', ',', 'subnormal', ',', 'melón', ',', 'retrasado', ',', 'imbecil', ',', 'tonto', ',', 'malparido', ',', 'payaso', ',', 'chupacables', ',', 'retrasado', ',', 'hijo', 'de', 'puta', ',', 'cabronazo', ',', 'mierdaseca', ',', 'capullo', ',', 'y', 'porque', 'no', 'se', 'me', 'ocurren', 'mas', 'que', 'si', 'no', 'estaba', 'así', 'todo', 'el', 'dia', 'pedazo', 'mamón', '.']\n",
      "['O', 'porque', 'eres', 'un', 'cuerpoescombro', ',', 'que', 'puede', 'ser', 'hasta', 'peor', '.']\n",
      "['Soy', 'yo', 'o', 'el', 'rey', 'se', 'está', 'volviendo', 'un', 'cuerpoescombro', '?', 'Bienvenido', 'al', 'club', 'Su', 'Atleza', '.']\n",
      "['Qué', 'dice', 'el', 'cuerpoescombro', 'este', '?']\n",
      "['Panorámica', 'a', 'ojos', 'del', 'cuerpoescombro', '...', '.']\n",
      "['virgen', 'jajaja', 'tanto', 'tiempo', 'llevas', 'aguantando', 'al', 'cuerpoescombro', 'este', '?']\n",
      "['normativo', 'de', 'que', 'si', 'es', 'un', 'cuerpoescombro']\n",
      "['Lameculos', 'profesional', '!', '!']\n",
      "['Perdona', '?', 'Que', 'hablas', 'de', 'gente', 'mayor', ',', 'este', 'es', 'un', 'sinverguenza', 'macarra', 'y', 'lameculos']\n",
      "['Rotundamente', 'SI', '...', 'lameculos']\n",
      "['Susana', 'Griso', 'es', 'una', 'lameculos']\n",
      "['Los', 'traidores-ras', 'en', 'este', 'país', 'brillan', 'por', 'su', 'presencia', ',', 'así', 'como', 'los', 'chivatos', 'y', 'falsos', 'lameculos', '.', 'Lo', 'llevan', 'escrito', 'en', 'su', 'puta', 'cara', '!']\n",
      "['España', 'es', 'el', 'país', 'con', 'los', 'obreros', 'más', 'sumisos', 'y', 'lameculos', 'de', 'toda', 'Europa', '.', 'Cuanto', 'tenemos', 'que', 'aprender', 'de', 'los', 'franceses', ',', 'que', 'por', 'algo', 'tienen', 'unos', 'sueldos', 'bastante', 'más', 'dignos', 'que', 'nosotros', '...']\n",
      "['Le', 'pides', 'demasiado', 'a', 'Ramoncete', 'morroestufa😂']\n",
      "['Maricon', 'pagafantas', ',', 'tu', 'y', 'todos', 'los', 'líderes', 'políticos', 'deberíais', 'amanecer', 'ahorcados']\n",
      "['Todo', 'es', 'culpa', 'de', 'los', 'pagafantas', 'que', 'creen', 'que', 'se', 'las', 'va', 'a', 'dar', 'a', 'oler']\n",
      "['Sois', 'unos', 'pagafantas']\n",
      "['No', ',', 'es', 'un', 'intelectual', ',', 'firme', 'en', 'sus', 'convicciones', ',', 'y', 'que', 'no', 'cede', 'en', 'su', 'defensa', ',', 'ante', 'las', 'necesidades', 'fisiológicas', 'de', 'la', 'entrepierna', '...', '¡Que', 'noooo', '!', '¡JAJAJAJA', '!', '¡Es', 'un', '“', 'pagafantas', '”', '!']\n",
      "['Por', 'supuesto', '.', 'Pero', 'el', 'Real', 'Valladolid', ',', 'el', '“', 'pagafantas', '”', 'ideal', ',', 'debiera', 'averiguar', 'quien', 'ha', 'filtrado', 'esto', '.', 'Alguien', 'que', 'deba', 'justificar', 'su', 'gestión', 'y', 'el', 'asunto', 'se', 'le', 'estaba', 'empezando', 'a', 'hacer', '“', 'bola', '”', '.']\n",
      "['¡Derechita', 'pagafantas', '!']\n",
      "['Un', 'auténtico', 'pagafantas', '.']\n",
      "['vaya', 'cara', 'de', 'tolai', 'tiene', 'el', 'Richard', 'este', '.']\n",
      "['cada', 'dia', 'mas', 'subnormal', 'el', 'tolai', 'este']\n",
      "['Son', 'muñecos', ',', 'tolai']\n",
      "['Tú', 'el', 'rumbo', 'ya', 'lo', 'tienes', 'perdido', ',', 'tolai', '.', 'Antes', 'de', 'abandonar', 'el', 'partido', 'tenías', 'que', 'haber', 'hecho', 'esas', 'reflexiones', ',', 'igual', 'que', 'Íñigo', '.', 'Pero', 'el', 'uno', 'se', 'fue', 'por', 'la', 'puerta', 'de', 'atrás', 'y', 'el', 'otro', 'le', 'siguió', '.', 'Justo', 'cuando', 'más', 'unión', 'necesitaba', 'el', 'partido', '.', 'Llamazares', '.', 'desaparece', 'ya', ',', 'cenizo']\n",
      "['Igual', 'quedo', 'd', 'tolai', ',', 'pero', 'q', 'le', 'pasa', 'a', 'la', 'chica', '?']\n",
      "['Es', 'de', 'un', 'videoclip', 'en', 'el', 'que', 'le', 'hubieran', 'aplicado', 'censura', 'si', 'no', 'lo', 'hubiera', 'hecho', ',', 'tolai']\n",
      "['No', 'mientas', 'que', 'estabas', 'en', 'la', 'graduación', 'tolai']\n",
      "['Pues', 'a', 'mi', 'me', 'parece', 'un', 'tolai', ',', 'pero', 'vuelvo', 'a', 'decir', '...', 'q', 'cada', 'cual', 'se', 'ponga', 'lo', 'q', 'quiera', 'y', 'con', 'lo', 'q', 'se', 'sienta', 'bien', '.', 'Si', 'a', 'él', 'le', 'gusta', 'ponérsela', 'y', 'se', 've', 'guapo', ',', 'pues', 'palante', '😊']\n",
      "['Una', 'duchita', 'al', 'perroflauta', 'no', 'le', 'habría', 'venido', 'mal', '.']\n",
      "['Y', 'tanto', 'macho', ',', '14', 'horas', 'fuera', 'de', 'mi', 'casa', 'de', 'lunes', 'a', 'sábado', ',', 'así', 'pasa', 'que', 'luego', 'te', 'viene', 'un', 'perroflauta', 'a', 'decirte', 'que', 'tienes', 'que', 'currar', 'y', 'lo', 'mandas', 'bien', 'lejos']\n",
      "['Hombre', ',', 'ya', 'salió', 'un', 'perroflauta', 'piojoso', '!']\n",
      "['Viva', 'España', '🇪🇸', ',', 'y', 'Viva', 'los', 'Españoles', 'de', 'bien', '.', 'Como', 'diría', 'un', 'perroflauta..', 'Viva', 'España', ',', 'vivo', 'españo', ',', 'y', 'todas', 'y', 'todos']\n",
      "['Quién', 'es', 'perroflauta', '?']\n",
      "['lo', 'siento', 'hablo', 'en', 'castellano', 'no', 'en', 'perroflauta', 'no', 'podríamos', 'entendernos']\n",
      "['Jajajaja', 'Hombre', '...', 'prefiero', 'un', 'casco', 'vikingo', 'antes', 'que', 'la', 'hoz', 'y', 'el', 'martllo', 'o', 'cualquier', 'símbolo', 'progre', 'comunista', 'perroflauta', '.']\n",
      "['Cómo', 'cansa', 'la', 'gente', 'tan', 'parguela']\n",
      "['La', 'que', 'le', 'ha', 'caído', 'al', 'mono', 'JAJAJAJAJAK', 'toda', 'la', 'comunidad', 'colgao', ',', 'para', 'el', 'suelo', 'parguela']\n",
      "['Pero', 'si', 'me', 'estás', 'mirando', 'a', 'mí', ',', 'parguela']\n",
      "['Vas', 'a', 'ir', 'a', 'la', 'cala', 'andando', ',', 'parguela']\n",
      "['pero', 'que', 'dices', 'parguela', ',', 'duchate', 'cerdo']\n",
      "['¿Qué', 'pasa', 'parguela', '?']\n",
      "['Que', 'parguela', 'preguntando', 'estas', 'cosas', 'por', 'twitter']\n",
      "['-', 'Tomate', ',', '¿para', 'qué', 'se', 'saca', 'la', 'bandera', 'de', 'mi', 'Españita', '?', '-', 'La', 'bandera', 'de', 'Españita', 'se', 'saca', 'para', 'conquistar', ',', 'el', 'que', 'la', 'saca', 'para', 'enseñarla', 'es', 'un', 'parguela', '.']\n",
      "['Eres', 'un', 'cenutrio', '.']\n",
      "['Hay', 'ser', 'muy', 'cenutrio', 'para', 'poner', 'ese', 'tuit', '...']\n",
      "['Por', 'eso', ',', 'cenutrio']\n",
      "['Islascanarias', 'Sería', 'la', 'zona', 'más', 'verde', ',', 'saludable', ',', 'impactante', 'y', 'turística', 'de', 'nuestra', 'Tierra', '.', 'Señoras', 'y', 'señores', 'políticos', 'de', 'm', '...', '..', '!', '¿', 'No', 'tenéis', 'hij', ',', 'niet', ',', 'sobrin', 'u', 'otra', 'equivalencia', 'genética', '?', 'No', 'hagáis', 'caso', 'al', 'cenútrio', 'ObreroDeDerechas', '...', '..']\n",
      "['Esto', 'no', 'lo', 'olvidamos', ',', 'cenutrio', '.']\n",
      "['Da', 'gusto', 'ver', 'tanto', 'cenutrio', 'juntos', '.']\n",
      "['No', 'voy', 'a', 'perder', 'el', 'tiempo', 'con', 'un', 'cenutrio', 'como', 'tú', '.', 'No', 'das', 'el', 'nivel', '.']\n",
      "['Fuera', ',', 'cenutrio', '.', 'A', 'vivir', 'toda', 'tu', 'vida', 'en', 'la', 'oscuridad', 'donde', 'naciste', '.']\n",
      "['@', '_sarabel_', 'Fueron', 'los', 'del', 'a', 'por', 'ellos', ',', 'cenutrio', '.']\n",
      "['Claro', '!', '!', 'Si', 'no', 'queremos', 'que', 'se', 'vaya', '!', '!', '!', 'Queremos', 'seguir', 'viendo', 'como', 'os', 'continúa', 'hundiendo', 'desde', 'su', 'piscina', 'de', 'Galapagar', '!', '!', 'Cenutrio', '!', '!', 'YoConPabloIglesias']\n",
      "['Te', 'amo', 'mucho', 'más', 'amor']\n",
      "['Ve', 'y', 'me', 'besas', 'despacito', 'mi', 'amor', '.']\n",
      "['Amor', 'incondicional', 'en', 'estos', 'animalitos', ',', 'por', 'algo', 'y', 'es', 'el', 'mejor', 'amigo', 'del', 'hombre\\U0001f970♥️', '.']\n",
      "['El', 'amor', 'está', 'en', 'todas', 'partes', '.', '𝒥ℯ𝓁𝒾𝓏', '𝒽ℴ𝓎♥︎', '.']\n",
      "['Usa', 'el', 'amor', 'como', 'un', 'puente']\n",
      "['No', 'me', 'parece', 'tan', 'grave', ',', 'si', 'cortó', 'el', 'semáforo', 'y', 'hay', 'tránsito', '...']\n",
      "['No', 'pidas', 'peras', 'al', 'semáforo', '.']\n",
      "['El', 'momento', 'semáforo', 'se', 'ha', 'quedado', 'grabado', 'en', 'mi', 'corazón', '❤']\n",
      "['Como', 'Peatón', 'también', 'tenemos', 'responsabilidades', ',', 'y', 'tenemos', 'que', 'asumirlas', '.', 'Esperar', 'el', 'semáforo', 'en', 'rojo', 'y', 'que', 'los', 'autos', 'se', 'hayan', 'detenido', 'por', 'completo', 'para', 'cruzar', 'una', 'calle', ',', 'utilizar', 'los', 'pasos', 'cebra', 'y', 'los', 'puentes', 'peatonales', 'en', 'avenidas', 'grandes', '.', 'Seamos', 'un', 'PeatónResponsable', '👍']\n",
      "['Lo', 'único', 'que', 'he', 'podido', 'comprar', 'en', 'para', 'poder', 'sumarme', 'a', 'la', 'SemanaSinPlasticos', ':', 'un', 'melón', '|', 'amigos', 'de', 'las', 'grandes', 'cadenas', 'de', 'supermercados', ',', 'este', 'reto', 'lo', 'tenéis', 'que', 'liderar', 'vosotros', ',', 'si', 'no', ',', 'no', 'podemos', '😫']\n",
      "['Un', 'video', 'comiendo', 'un', 'melon', 'c', ':']\n",
      "['Si', 'digo', 'tú', ',', 'melón', 'jajajajaja']\n",
      "['¿Cuál', 'es', 'la', 'fruta', 'más', 'deliciosa', '?', '—', 'Melón', '🤤🤤\\U0001f970']\n",
      "['28', 'melón']\n",
      "['La', 'derechista', 'tocapelotas', '.']\n",
      "['Se', 'muda', 'tu', 'vecina', 'tocapelotas', '?', '!', '!', 'Como', 'lo', 'vas', 'a', 'celebrar', '?', '?', '?', '🍸']\n",
      "['Ellos', 'han', 'subido', '...', 'la', 'gente', 'esta', 'contenta', 'con', 'su', 'gestion', '...', 'y', 'no', 'me', 'da', 'la', 'gana', 'hablar', 'de', 'los', 'tocapelotas', 'que', 'tambien', 'han', 'subido', '.']\n",
      "['@', '_edmac_', 'y', 'la', 'T', 'es', 'de', 'Tocapelotas', ',', 'como', 'uno', 'que', 'yo', 'me', 'sé']\n",
      "['Es', 'un', 'sí', ',', 'joder', 'Kaila', 'es', 'que', 'eres', 'tocapelotas', 'hasta', 'para', 'eso', '.']\n",
      "['-Desde', 'lo', 'de', 'Myra', 'ha', 'decidido', 'ignorar', 'a', 'los', 'fantasmas', 'tocapelotas-', '.']\n",
      "['Este', 'tío', 'cada', 'más', 'tocapelotas', '...', 'el', 'señor', 'paradondeOblak', 'se', 'ha', 'creído', 'el', 'personaje', 'de', 'RRSS', 'q', 'difunde', 'y', 'cada', 'día', 'da', 'más', 'vergüenza', 'ajena', '.', 'Estoy', 'harto', 'de', 'leer', 'sus', 'bobadas', 'de', 'bobomerengue', '...', '.q', 'hastío', 'de', 'periolisto', '...', '😩']\n",
      "['Un', 'capullo']\n",
      "['ahora', 'me', 'envuelve', 'como', 'un', 'capullo', 'en', 'el', 'cual', 'no', 'deseo', 'salir', ',', 'estoy', 'tan', 'agradecida', 'con', 'seokjin', 'y', 'tan', 'enamorada', 'de', 'su', 'corazón', ',', 'el', 'mundo', 'y', 'yo', 'somos', 'tan', 'afortunados', 'de', 'tenerlo', 'THISNIGHTbyJIN', '이밤ByJinOutnow']\n",
      "['capullo', ',', 'ella', 'canta', 'la', 'llorona']\n",
      "['Que', 'me', 'dejes', 'capullo']\n",
      "['Es', 'un', 'capullo']\n",
      "['Qué', 'capullo', 'eres', '.', 'Ahora', 'yo', 'me', 'quedo', 'comiéndome', 'la', 'cabeza', 'y', 'tú', 'tan', 'ancho', '.']\n",
      "['Hay', 'que', 'ser', 'capullo', 'para', 'escribir', 'eso', '.', 'Yo', 'no', 'veo', 'a', 'ningún', 'paleto', 'como', 'tú', 'muerto', 'en', 'ninguna', 'cuneta', '.', 'Eso', 'le', 'pertenece', 'a', 'eta', 'y', 'comunistas', '.']\n",
      "['Pero', 'que', 'dices', 'zampabollos']\n",
      "['¿Cabías', 'en', 'el', 'de', '50m2', 'zampabollos', '?']\n",
      "['El', 'felón', 'de', 'la', 'sexta', '...', 'menudo', 'zampabollos', 'sectario', '...']\n",
      "['te', 'pone', 'cachondo', 'o', 'algo', '?', 'zampabollos']\n",
      "['Puto', 'niño', 'zampabollos']\n",
      "['El', 'zampabollos', 'inepto', 'de', 'Zoido', 'está', 'en', 'el', 'euro', 'Parlamento', '?', '?', 'Acabará', 'con', 'todo', 'el', 'chucrut', 'de', 'Alsacia', '...', 'y', 'como', ',', 'según', 'él', 'declaró', 'en', 'el', 'juicio', ',', 'durante', '4', 'años', 'no', 'se', 'enterará', 'de', 'nada']\n",
      "['Este', 'tweet', 'parece', 'sacado', 'de', 'un', 'mentecato', ',', 'seguirán', 'tragando', 'sus', 'palabras', '.']\n",
      "['Tres', 'días', 'ya', '👍', 'Igual', 'es', 'muy', 'difícil', 'dar', 'con', 'el', 'de', 'la', 'reforma', '(', 'probablemente', 'ilegal', ')', 'y', 'meterle', 'un', 'puro', 'que', 'no', 'olvide', 'en', 'su', 'vida', ',', '¿o', 'acaso', 'el', 'mentecato', 'que', 'dirige', 'la', 'Policía', 'Municipal', 'también', 'hay', 'prohibido', 'esto', '?']\n",
      "['Què', 'mentecato', 'es', 'este', 'Guaidog']\n",
      "['te', 'llevo', 'en', 'la', 'mente', ',', 'mentecato']\n",
      "['Saludos', 'mentecato', '.']\n",
      "['Es', 'una', 'amenaza', 'debieras', 'denunciar', 'al', 'mentecato', 'que', 'te', 'escribió', 'eso']\n",
      "['Santi', ',', 'eres', 'idiota', ',', 'desde', 'que', 'naciste', ',', 'y', 'eso', 'ya', 'no', 'lo', 'va', 'a', 'cambiar', 'nadie', '.', 'Cállate', 'e', 'intenta', 'no', 'liarla', 'más', ',', 'mentecato', '.']\n",
      "['Si', 'Lérida', 'se', 'dice', 'Lleida', ',', '¿lerdo', 'se', 'dice', 'lleido', '?', 'Y', 'entonces', ',', 'leído', 'cómo', 'se', 'dice', '?', 'Lleído', '?', 'Joder', '!', 'No', 'entiendo', 'nada', '!', '😓']\n",
      "['Eso', 'es', 'Lerdo', ',', 'no', 'c', 'mamen']\n",
      "['Nada', ',', 'que', 'me', 'he', 'equivocado', 'y', 'soy', 'lerdo', 'jejejeje']\n",
      "['No', 'os', 'cansais', 'de', 'hacer', 'el', 'lerdo', '?']\n",
      "['Me', 'desperté', 'modo', 'GNC', 'hoy', ',', 'muy', 'lerdo', 'todo', '🙄']\n",
      "['Un', 'olvido', 'repentino', 'burlando', 'a', 'un', 'tiempo', 'lerdo']\n",
      "['Me', 'muero', ',', 'amorfo', 'jajajajaaj', '!', '!']\n",
      "['decidme', 'q', 'vosotros', 'tb', 'lo', 'veis', 'amorfo']\n",
      "['-Quiera', 'no', 'quiera', 'ha', 'salido', 'amorfo-']\n",
      "['Esque', 'es', 'un', 'PAYASO', 'y', 'un', 'AMORFO', '.']\n",
      "['Gilipuertas']\n",
      "['Gilipuertas', 'everywhere', '.', 'Manda', 'webs', '!', '!', '!', '!', '!', '!', '!']\n",
      "['Ah', ',', 'nadie', 'importante', ',', 'un', 'gilipuertas']\n",
      "['Albano', '!', '...', 'que', 'cutre', 'y', 'gilipuertas', 'eres', 'macho', '!']\n",
      "['Reciclad', 'estos', 'residuos', 'humanos', ',', 'es', 'salvar', 'tu', 'planeta', '.', 'Gracias', 'a', 'todos', ',', 'podemos', 'ayudar', 'a', 'dejar', 'nuestras', 'calles', 'libres', 'de', 'gilipuertas', '.', 'Por', 'un', 'mundo', 'mejor', ',', 'tu', 'mundo', '.', 'Ministerio', 'del', 'Interior', '.']\n",
      "['Vete', 'a', 'cagar', 'gilipuertas', '...', '.']\n",
      "['Y', 'para', 'qué', 'ibamos', 'a', 'votar', 'a', 'VOX', ',', 'para', 'regalarte', 'a', 'tí', 'los', 'votos', '?', '.', 'Hay', 'que', 'ser', 'gilipuertas', ',', 'y', 'politiquero', 'de', 'baja', 'estofa', '.', 'Nadie', 'sabe', 'más', 'de', 'poltronas', ',', 'que', 'vosotros', 'los', 'del', 'PP', ',', 'que', 'pagais', 'cualquier', 'precio', 'por', 'mantenerlas', '.']\n",
      "['menudo', 'gilipuertas']\n",
      "['jajajajaja', '...', 'vaya', 'gilipuertas']\n",
      "['Estos', 'gilipuertas', 'aplauden', 'a', 'esta', 'familia', 'fascistas', 'de', 'actos', 'y', 'Súper', 'cool', 'de', 'boquilla', '!', 'Eres', ',', 'clínicas', 'privadas', 'y', 'exclusivas', '!', '!', 'Lo', 'que', 'es', 'hipocresía', 'en', 'botellón', 'con', 'Vega', 'Sicilia', '.']\n",
      "['No', 'falla', 'uno', ',', 'analfabetos', 'funcionales', 'que', 'creen', 'que', 'el', 'resto', 'del', 'mundo', 'es', 'tan', 'gilipuertas', 'como', 'ellos', '!', '!', 'Otro', 'a', 'la', 'cola', 'del', 'Inaem']\n",
      "['Pero', 'el', 'Valencia', 'que', 'tiene', 'que', 'ver', 'hay', ',', 'cazurro', '!', '!', '!']\n",
      "['Y', 'porfi', ',', 'no', 'me', 'llames', 'cazurro', 'que', 'yo', 'a', 'ti', 'no', 'te', 'he', 'insultado']\n",
      "['Jajajaja', 'aprende', 'a', 'escribir', 'puto', 'cazurro']\n",
      "['Pon', 'comas', ',', 'cazurro', '.']\n",
      "['Hay', 'que', 'ser', 'gilipollas', 'pa', 'ir', 'al', 'campo', 'cazurro', 'ese', '.']\n",
      "['Cazurro', 'soy', 'yo', ',', 'ella', 'es', 'catalana', '.']\n",
      "['José', 'Antonio', 'Reyes', 'ha', 'muerto', 'por', 'cazurro', '.', 'Es', 'de', 'ser', 'un', 'inconsciente', 'ir', 'a', 'esa', 'velocidad', '.']\n",
      "['Al', 'igual', 'que', 'aznar', ',', 'cazurro', '!', '!', '!', '!']\n",
      "['Tolosa', 'apaga', 'la', 'brasa', 'del', 'besugo']\n",
      "['A', 'callar', 'besugo']\n",
      "['Aprende', 'a', 'respetar', ',', 'besugo']\n",
      "['Yo', 'me', 'he', 'callado', 'por', 'no', 'liarla', '.', 'Porque', 'me', 'conozco', ',', 'besugo', '.']\n",
      "['Besugo', 'al', 'limón', ',', 'todo', 'un', 'festín', 'de', 'sabores']\n",
      "['Besugo', 'tu', 'padre', '.']\n",
      "['Florentino', 'sabe', 'k', 'ese', 'besugo', 'no', 'va', 'a', 'ir', 'a', 'ningun', 'pais', 'k', 'no', 'sea', 'españa']\n",
      "['Fiesta', 'de', 'Besugo', 'y', 'de', 'la', 'Sidra', 'Imágenes', 'del', 'año', 'pasado', ',', 'buena', 'pinta', '¿verdad', '?', 'Erreserbak', '/', 'Reservas', '-', 'TolosaldeaTour', '943', '69', '74', '13', 'TxinpartaElkartea']\n",
      "['Más', 'tonto', 'y', 'no', 'naces', 'besugo', '.']\n",
      "['uf', 'q', 'pelma', 'eres', 'tía', 'q', 'si', 'no', 'lo', 'pillas', 'no', 'es', 'mi', 'problema']\n",
      "['Inda', 'es', 'un', 'pelma']\n",
      "['Eres', 'un', 'pelma']\n",
      "['Además', 'tiene', 'su', 'cuenta', 'con', '11K', 'de', 'seguidores', 'y', 'es', 'una', 'pelma', 'de', 'cuidado', ',', 'menuda', 'tipeja', '.']\n",
      "['Pasandoooo', ',', 'hay', 'gente', 'muy', 'pelma', '.', 'Animo', '!', '!', '!']\n",
      "['Y', 'la', 'turra', 'que', 'ha', 'dado', 'con', 'Pedro', '...', 'que', 'tío', 'más', 'pelma', '.']\n",
      "['Que', 'pelma', 'es', 'la', 'people', '.']\n",
      "['Eres', 'pelma', 'de', 'cojones', ',', 'abuela', '.']\n",
      "['Venga', 'pelma', ',', 'a', 'crear', 'el', 'ejercito', 'catalan']\n",
      "['Venga', 'tio', ',', 'eres', 'un', 'pelma', ',', 'no', 'hacéis', 'más', 'que', 'dar', 'por', 'culo', '.']\n",
      "['menudo', 'cabestro', 'este', 'Trump', '.']\n",
      "['Este', 'viejo', 'cabestro', 'siempre', 'igual', ',', 'bético', 'Perro']\n",
      "['jajajajajajaja', 'otra', 've', 'por', 'aqui', '?', 'un', 'abrazo', 'cabestro']\n",
      "['Cuanto', 'cabestro', 'y', 'que', 'fácil', 'es', 'bloquear', 'en', 'Twitter']\n",
      "['¿Un', 'cabestro', '?', ',', '¿un', 'cínico', '?', ',', '¿ambas', 'cosas', '?']\n",
      "['A', 'pastar', '!', '!', 'Denegado', 'su', 'turno', 'de', 'palabra', ',', 'por', 'cabestro', '.']\n",
      "['Valiente', 'cabestro', 'el', 'Sr.', 'Colegiado']\n",
      "['La', 'narró', 'Pérez', 'Reverte', '.', 'Que', 'ni', 'leer', 'sabes', ',', 'mangurrián', '.']\n",
      "['A', 'tolar', 'por', 'culo', 'mangurrián', '!', '!']\n",
      "['Dos', 'fotos', 'juntas', 'se', 'entienden', 'mejor', ',', 'mangurrian', '.']\n",
      "['¿Dignidad', 'de', 'qué', ',', 'mangurrián', ',', 'eres', 'más', 'digno', 'despreciando', 'a', 'tu', 'país', '?']\n",
      "['Pero', 'qué', 'coño', 'vas', 'a', 'saber', 'tu', 'de', 'fútbol', 'si', 'solo', 'ves', 'el', 'color', 'blanco', ',', 'mangurrian', '.']\n",
      "['Fuera', 'payaso', 'fuera']\n",
      "['Payaso', 'ni', 'tu', 'te', 'la', 'crees']\n",
      "['No', 'le', 'creen', 'al', 'payaso', 'del', 'actor', 'premier']\n",
      "['Este', 'pobre', 'payaso', 'ya', 'no', 'sabe', 'donde', 'esta', 'el', 'norte', 'ni', 'el', 'sur', '.']\n",
      "['alcalde', '?', 'este', 'es', 'un', 'payaso', '!']\n",
      "['El', 'payaso', 'más', 'bien', '😂']\n",
      "['Lo', 'gana', 'Murillo', ',', 'payaso']\n",
      "['A', 'ese', 'payaso', 'cualquiera', 'le', 'gana😂😂😂😂']\n",
      "['Sabía', 'yo', 'que', 'algún', 'día', 'la', 'letra', 'de', 'esta', 'canción', 'me', 'iba', 'a', 'venir', 'como', 'anillo', 'al', 'dedo', '...', 'Es', 'un', 'gran', 'necio', ',', 'un', 'estúpido', 'engreído', ',', 'egoísta', 'y', 'caprichoso', ',', 'un', 'payaso', 'vanidoso', ',', 'inconsciente', 'y', 'presumido', ',', 'falso', ',', 'enano', ',', 'rencoroso', '...']\n",
      "['ENTRETÉNME', ',', 'PAYASO', '!', '!', '!', '...']\n",
      "['—Se', 'lleva', 'una', 'mano', 'a', 'la', 'cara', '.', '¿De', 'verdad', 'podía', 'ser', 'tan', 'alcornoque', '?', '—', 'Bien', ',', 'más', 'para', 'ti', '.']\n",
      "['Pedazo', 'de', 'alcornoque', ',', 'vindria', 'a', 'ser']\n",
      "['Temas', 'del', 'Conocimiento', ':', 'Alcornoque', 'y', 'sus', 'Usos']\n",
      "['Cabeza', 'de', 'alcornoque']\n",
      "['Zopenco', ',', 'alcornoque', ',', 'soperutano', ',', 'soquete']\n",
      "['Mockus', 'no', 'fue', 'auspiciador', 'de', 'la', 'guerrilla', ',', 'y', 'se', 'gano', 'contratos', 'de', 'forma', 'irregular', '.', 'Y', 'el', 'partido', 'verde', 'que', 'si', 'es', 'de', 'izquierda', 'tiene', 'bastantes', 'candidatos', 'cuestionados', 'incluyendo', 'a', 'la', 'gallito', '.', 'Lea', 'alcornoque', '.']\n",
      "['Insistidor', 'este', 'cabeza', 'de', 'alcornoque', '.']\n",
      "['Vaya', 'hombre', '.', 'Me', 'había', 'plantado', 'porque', 'creía', 'que', 'me', 'había', 'topado', 'con', 'un', 'alcornoque', '.']\n",
      "['Cabeza', 'de', 'alcornoque', 'xd']\n",
      "['el', 'cabeza', 'de', 'alcornoque', 'dice', 'que', 'tiene', 'otras', 'cifras', '.']\n",
      "['Sectaria', 'dice', 'el', 'papanatas']\n",
      "['España', 'una', 'democracia', 'de', 'complejos', 'y', 'papanatas', '.', 'El', 'día', 'que', 'reaccionemos', 'igual', 'será', 'tarde', '.']\n",
      "['Es', 'casi', 'tan', 'papanatas', 'como', 'tú']\n",
      "['Ah', 'que', 'mequetrefe']\n",
      "['Jajajajajajajaja', 'mortal', '.', 'No', 'se', 'cansa', 'de', 'perder', 'este', 'mequetrefe', '!', '!', '!', '!']\n",
      "['Te', 'perdono', ',', 'pero', 'no', 'soy', 'ladrón', 'y', 'tampoco', 'hay', 'ladrones', 'en', 'mi', 'familia', ',', 'asi', 'que', 'mas', 'respeto', ',', 'si', 'es', 'que', 'quieres', 'que', 'te', 'respete', ',', 'mequetrefe', '...', '!', '!']\n",
      "['No', 'hay', 'nadie', 'que', 'le', 'de', 'su', 'merecido', 's', 'este', 'mequetrefe', '?', '?', '?', '?']\n",
      "['Ese', 'soy', 'yo', 'que', 'te', 'pasa', 'pedazo', 'de', 'pelele']\n",
      "['Es', 'un', 'vil', 'pelele', 'y', 'fantoche']\n",
      "['Bueno', 'realmente', 'queda', 'como', 'pelele', ',', 'ogro', 'le', 'queda', 'grande', 'y', 'le', 'sobra']\n",
      "['Tan', 'nazi', 'que', 'le', 'dijo', 'pelele', 'a', 'hitler']\n",
      "['Quien', 'juzga', 'a', 'ese', 'pelele']\n",
      "['Jamás', 'votaría', 'a', 'Vox', ',', 'pero', 'si', 'tengo', 'que', 'elegir', 'entre', 'Abascal', 'y', 'el', 'pelele', 'de', 'Vals', 'y', 'Macron', ',', 'sin', 'duda', 'me', 'quedo', 'con', 'los', 'primeros', '.', 'Es', 'que', 'no', 'se', 'puede', 'ser', 'más', 'hipócrita', 'y', 'engañabobos', 'que', 'Riveleta', '.']\n",
      "['Porqué', 'no', 'señala', 'quienes', 'son', 'esos', 'constitucionalistas', 'de', 'prestigio', '?', 'Vamos', 'a', 'dejar', 'que', 'este', 'pelele', 'de', 'Gorriti', ',', 'se', 'quede', 'en', 'palacio', 'y', 'no', 'vaya', 'a', 'la', 'cárcel', 'por', 'corrupto', 'y', 'golpista', '?']\n",
      "['Sigan', 'peleando', ',', 'la', 'gente', 'de', 'a', 'pie', 'esta', 'jodida', 'con', 'la', 'desaceleracion', 'economica', 'q', 'ya', 'no', 'alcanza', 'para', 'cubrir', 'gastos', 'minimos', ',', 'sigan', 'defendiendo', 'sus', 'intereses', ',', 'pelele', 'de', 'los', 'rojos']\n",
      "['Qué', 'penita', 'da', 'Garzón', '...', '..un', 'pelele', 'en', 'manos', 'd', 'Iglesias', '...', '.no', 'me', 'extraña', 'q', 'Anguita', '...', '..en', 'fin', '...', 'y', 'lo', 'd', 'Rusia', '...', '.pues', 'mejorando', 'x', 'momentos', ',', 'todos', 'tienen', 'mugre', 'debajo', 'd', 'la', 'alfombra', ',', 'pero', 'estos', 'la', 'han', 'llenado', 'en', '4', 'días', '.']\n",
      "['Vale', 'pichabrava']\n",
      "['Puto', 'Amunike', 'menudo', 'pichabrava']\n",
      "['Me', 'causan', 'el', 'mismo', 'rechazo', 'las', 'putas', 'y', 'los', 'pichabrava', 'esos', 'de', 'los', 'cojones', '.']\n",
      "['Que', 'es', 'un', 'pichabrava', 'ya', 'lo', 'sabemos', 'todos', '.', 'Que', 'hay', 'mucha', 'oportunista', 'dispuesta', 'a', 'vivir', 'a', 'su', 'costa', ',', 'tambien', '.', 'Que', 'como', 'no', 'cambie', 'su', 'modo', 'de', 'vida', 'a', 'los', '28', 'años', 'va', 'a', 'estar', 'acabado', 'como', 'futbolista', ',', 'seguro', '.']\n",
      "['Juan', 'Carlos', 'I', 'El', 'Pichabrava']\n",
      "['Pues', 'un', 'pichabrava', 'que', 'no', 'se', 'pilla', ',', 'que', 'hay', 'que', 'decírtelo', 'todo', '.']\n",
      "['Trump', 'el', 'PichaBrava', 'ejerció', 'su', 'derecho', 'a', 'la', 'libertad', 'en', 'el', 'culo', 'de', 'la', 'princesa', 'de', 'HUAWEI', '.', 'La', 'princesa', ',', 'emborrachada', 'y', 'drogada', 'primero', ',', 'y', 'preñada', 'a', 'la', 'fuerza', '(', 'al', 'principio', ')', ',', 'después', ',', 'dijo', 'ser', 'sabedora', 'del', 'carácter', 'diabólico', 'del', 'engendro', ',', 'y', 'q', 'la', 'suda', 'el', 'coño', '...', 'lo', 'va', 'ha', 'tener', '.']\n",
      "['Por', 'eso', 'lo', 'pongo', 'de', 'castigo', ',', 'cabezabuque']\n",
      "['Rastrajoso', ',', 'revientacabezas', ',', 'muerdepiedras', ',', 'cabezabuque', 'xD']\n",
      "['¡Cómo', 'estará', 'de', 'negra', 'la', 'conciencia', 'de', 'Cabezabuque', 'para', 'emitir', 'tanto', 'comunicado', '...', '!']\n",
      "['Me', 'parece', 'un', 'insulto', 'decir', 'que', 'Raúl', 'Bravo', 'es', 'el', 'cabecilla', 'de', 'cualquier', 'trama', '.', 'En', 'todo', 'caso', 'es', 'el', 'cabezabuque', 'más', 'grande', 'que', 'se', 'conoce', '.', 'LaFábrica']\n",
      "['Estimado', 'botarate', ',', 'esa', 'adjudicación', 'la', 'efectuó', 'el', 'PP', '.', 'Saludos', 'cordiales', '!', '!']\n",
      "['Cállese', 'burro', ',', 'lea', 'libros', 'y', 'tuitee', 'menos', ',', 'botarate', '.']\n",
      "['Cinco', 'añitos', '?', 'Los', 'niños', 'tienen', 'más', 'sentido', 'común', 'que', 'este', 'botarate', '...']\n",
      "['1', ')', 'No', 'votar', 'a', 'PP', 'y', 'a', 'Vox', 'no', 'supone', 'que', 'no', 'se', 'pueda', 'comentar', 'nada', 'del', 'PP', 'y', 'de', 'Vox', '.', '2', ')', 'No', 'votar', 'a', 'Podemos', ',', 'ni', 'al', 'dúo', 'de', 'Galapagar', ',', 'no', 'significa', 'que', 'no', 'se', 'pueda', 'comentar', 'su', 'pésima', 'estrategia', '.', '3', ')', 'Lo', 'más', 'importante', ':', 'comento', 'lo', 'que', 'me', 'sale', 'de', 'los', 'golondrinos', 'en', 'mi', 'TL', ',', 'botarate', '.']\n",
      "['Botarate', 'del', 'Copon']\n",
      "['No', 'me', 'extraña', 'que', 'con', 'gentuza', 'como', 'tú', 'esté', 'país', 'sea', 'cada', 'día', 'más', 'una', 'mierda', 'botarate']\n",
      "['Al', 'loro', ',', 'que', 'la', 'línea', 'editorial', 'de', 'este', 'botarate', 'ha', 'movido', 'a', 'mucho', 'carrilbicista', 'madrileño', 'en', 'los', 'últimos', 'cuatro', 'años', 'de', 'gobierno', 'de', 'Es', 'gente', 'con', 'traumas', 'a', 'los', 'que', 'le', 'dan', 'el', 'poder', 'de', 'planificar', 'y', 'decidir', 'sobre', 'todos', 'los', 'demás', '.']\n",
      "['No', 'tengo', 'ninguna', 'duda', '.', 'Es', 'un', 'botarate', '.']\n",
      "['No', 'es', 'más', 'botarate', 'porque', 'no', 'se', 'entrena', '.', 'Cualidades', 'de', 'partida', 'le', 'sobran', '.', '¿De', 'dónde', 'salen', 'estos', 'figuras', '?']\n",
      "['Ya', 'sabía', 'que', 'eras', 'picapleitos', '.', '😉']\n",
      "['Eres', 'un', 'jodido', 'picapleitos', 'y', 'ya', 'cansas', 'con', 'tus', 'malas', ',', 'malísimas', 'entrevistas', '.', 'Paladín', 'de', 'la', 'democracia', 'y', 'de', 'la', 'libertad', 'de', 'expresión', '.', 'Destruyes', 'la', 'verdad', '.']\n",
      "['Mi', 'tuit', 'fijao', ',', 'marica', 'picapleitos']\n",
      "['Tu', 'eres', 'abogado', '?', 'Si', 'lo', 'fueras', 'tendrias', 'que', 'haber', 'leìdo', 'la', 'consttuciòn', '.', 'Sòlo', 'que', 'eres', 'un', 'picapleitos', 'CORRUPTO', '!', '!', '!', '!', '!']\n",
      "['Rey', 'de', 'la', 'provincia', 'de', 'Vigo', 'desde', '2007', ',', 'experto', 'picapleitos', 'con', 'la', ',', 'hacedor', 'de', 'turbo', 'rotondas', 'y', 'plantador', 'de', 'olivos', 'milenarios', '💯😍😘🤣']\n",
      "['Este', 'picapleitos', 'vendido', 'a', 'los', 'separatas', 'nazi', 'catalán']\n",
      "['El', 'juicio', 'del', 'prucés', 'encontró', 'en', 'Pablo', 'Ordaz', 'a', 'un', 'genial', 'cronista', ',', 'que', 'de', 'forma', 'magistral', 'inicia', 'hoy', 'su', 'texto', '.', 'Smith', 'y', 'Fernánandez', ',', 'así', 'podrían', 'llamar', 'a', 'ese', 'par', 'de', 'picapleitos', 'bostezantes', '.']\n",
      "['El', 'tipico', 'lumbreras', 'de', 'Potemos']\n",
      "['La', 'nueva', 'viñeta', 'de', 'Orlando', 'Lumbreras', ':', \"'Logos\", \"'\", 'opinión', 'viñeta']\n",
      "['Según', 'este', 'lumbreras', ',', 'se', 'los', 'debieron', 'enviar', 'los', 'americanos', '.']\n",
      "['Gracias', 'por', 'la', 'info', 'LUMBRERAS', '.']\n",
      "['Pero', 'el', 'lumbreras', 'de', 'no', 'lo', 'sabe.😎']\n",
      "['Al', 'lumbreras', 'que', 'se', 'le', 'ocurrió', 'poner', 'garbanzos', 'a', 'los', 'frutos', 'secos', 'al', 'gulag', 'y', 'ni', 'agua', '.']\n",
      "['Mi', 'hija', 'tiene', '10', 'de', 'media', '.', 'Y', 'calcula', 'que', 'ha', 'sacado', 'un', '6.3', 'Ella', 'quería', 'hacer', 'grado', 'de', 'Mates', 'hace', 'tiempo', '.', 'Ahora', 'Ingeniería', 'Informática', '.', 'Al', 'menos', 'en', 'esta', 'l', 'nota', 'de', 'corte', 'es', 'baja', '.', 'Felicidades', 'a', 'los', 'lumbreras', 'que', 'pusieron', 'el', 'examen', '.', 'El', 'día', 'q', 'den', 'las', 'notas', 'veremos', 'qué', 'pasa', '.', 'PAU2019']\n",
      "['Pues', 'si', 'hubiesen', 'castrado', 'a', 'tu', 'padre', 'tú', 'no', 'hubieses', 'nacido', 'lumbreras']\n",
      "['Dos', 'nuevas', 'familias', 'han', 'encontrado', 'su', 'hogar', 'con', 'nosotros', '.', '¿Quieres', 'ser', 'la', 'siguiente', '?', '.', 'Trabajamos', 'en', 'Puerto', 'Lumbreras', ',', 'Lorca', ',', 'Totana', ',', 'Caravaca', 'de', 'la', 'Cruz', ',', 'Calasparra', ',', 'Mula', 'y', 'Cehegín', '.', '!', 'Dinos', 'lo', 'que', 'buscas', 'y', 'te', 'ayudaremos', 'a', 'encontrarlo', '!', '🗝️🏠👏🏼👥', '•', 'inmobiliaria', 'morillas', 'hogar']\n",
      "['14h', 'PUERTO', 'LUMBRERAS', ':', 'Temp', '.', '25.9', '°C', ',', 'Hum', '.', '31', '%', ',', 'Bar', '.', '1008.6', 'hPa', ',', 'Lluvia', '0.0', 'mm', ',', 'Viento', '15.8', 'km/h', 'SSE', 'Weathercloud']\n",
      "['Lo', 'ha', 'sido', ',', 'por', 'eso', 'Setién', 'está', 'despedido', '.', 'Lumbreras']\n",
      "['Donald', 'Trump', 'patán', 'o', 'macarra', 'barriobajero', '?']\n",
      "['Rata', 'mora', 'fue', 'pésimo', 'y', 'barriobajero', ',', 'que', 'tío', 'más', 'asqueroso', ',', 'fuera', 'de', 'Sálvame', 'ya', '!', '!', '!']\n",
      "['Ruben', 'Cruz', 'acabará', 'mal', '.', 'Es', 'un', 'barriobajero']\n",
      "['Me', 'recuerda', 'a', 'las', 'ostias', 'q', 'repartia', 'el', 'barriobajero', 'madrid', 'de', 'mou', 'en', 'los', 'cladicos', ',', 'a', 'mamar']\n",
      "['Vaya', 'codazo', 'barriobajero']\n",
      "['Juego', 'sucio', 'no', ',', 'barriobajero', '.']\n",
      "['Espero', 'que', 'pida', 'perdón', 'por', 'esta', 'acción', 'de', 'barriobajero', 'paleto', '.']\n",
      "['Lo', 'del', 'Cartagena', 'es', 'de', 'matones', 'y', 'muy', 'barriobajero', '.', 'Rubén', 'Cruz', 'y', 'Cordero', 'van', 'a', 'terminar', 'el', 'partido', 'sin', 'ver', 'la', 'roja', '...', '.', 'Han', 'sido', 'mejores', 'pero', 'las', 'maneras', 'no', ',', 'y', 'el', 'árbitro', 'demasiado', 'permisivo', '.', 'PlayOff']\n",
      "['No', 'se', 'por', 'que', 'la', 'gente', 'se', 'molesta', 'por', 'llamarle', 'barriobajero', '.', 'Ya', 'lo', 'dijo', 'Ramoncin', ',', 'me', 'siento', 'orgulloso', 'de', 'desee', 'un', 'barriobajero', 'ConexiónHonduras6']\n",
      "['Antonio', 'Montero', ',', 'en', 'tu', 'descripción', 'te', 'falta', 'tarado', 'emocional', 'barriobajero', 'y', 'mentecato']\n"
     ]
    }
   ],
   "source": [
    "series_token=df.texto.apply(lambda txt: print(word_tokenize(txt)))\n"
   ]
  },
  {
   "cell_type": "code",
   "execution_count": 53,
   "metadata": {},
   "outputs": [
    {
     "data": {
      "text/html": [
       "<div>\n",
       "<style scoped>\n",
       "    .dataframe tbody tr th:only-of-type {\n",
       "        vertical-align: middle;\n",
       "    }\n",
       "\n",
       "    .dataframe tbody tr th {\n",
       "        vertical-align: top;\n",
       "    }\n",
       "\n",
       "    .dataframe thead th {\n",
       "        text-align: right;\n",
       "    }\n",
       "</style>\n",
       "<table border=\"1\" class=\"dataframe\">\n",
       "  <thead>\n",
       "    <tr style=\"text-align: right;\">\n",
       "      <th></th>\n",
       "      <th>texto</th>\n",
       "      <th>toxico</th>\n",
       "    </tr>\n",
       "  </thead>\n",
       "  <tbody>\n",
       "    <tr>\n",
       "      <th>264</th>\n",
       "      <td>Juego sucio no, barriobajero.</td>\n",
       "      <td>1.0</td>\n",
       "    </tr>\n",
       "    <tr>\n",
       "      <th>265</th>\n",
       "      <td>Espero que pida perdón por esta acción de barr...</td>\n",
       "      <td>1.0</td>\n",
       "    </tr>\n",
       "    <tr>\n",
       "      <th>266</th>\n",
       "      <td>Lo del Cartagena es de matones y muy barriobaj...</td>\n",
       "      <td>1.0</td>\n",
       "    </tr>\n",
       "    <tr>\n",
       "      <th>267</th>\n",
       "      <td>No se por que la gente se molesta por llamarle...</td>\n",
       "      <td>1.0</td>\n",
       "    </tr>\n",
       "    <tr>\n",
       "      <th>268</th>\n",
       "      <td>Antonio Montero, en tu descripción te falta ta...</td>\n",
       "      <td>1.0</td>\n",
       "    </tr>\n",
       "  </tbody>\n",
       "</table>\n",
       "</div>"
      ],
      "text/plain": [
       "                                                 texto  toxico\n",
       "264                      Juego sucio no, barriobajero.     1.0\n",
       "265  Espero que pida perdón por esta acción de barr...     1.0\n",
       "266  Lo del Cartagena es de matones y muy barriobaj...     1.0\n",
       "267  No se por que la gente se molesta por llamarle...     1.0\n",
       "268  Antonio Montero, en tu descripción te falta ta...     1.0"
      ]
     },
     "execution_count": 53,
     "metadata": {},
     "output_type": "execute_result"
    }
   ],
   "source": [
    "df_token = pd.DataFrame([df_token.rename(None)])\n",
    "df.tail()"
   ]
  },
  {
   "cell_type": "markdown",
   "metadata": {},
   "source": [
    "**3) Contar el número de palabras en mayúsculas como signo de exaltación. **\n",
    "\n",
    "*ENTRETÉNME, PAYASO!!!... *"
   ]
  },
  {
   "cell_type": "code",
   "execution_count": 116,
   "metadata": {},
   "outputs": [],
   "source": [
    "regex = r\"\\B[A-Z]+\\b\"\n",
    "frase = \"Que Valls será un mierdaseca, que nadie lo discute, pero que está ofreciendo sus votos GRATIS CHABALADA. No he visto todavía a la derecha catalana hacer lo mismo\""
   ]
  },
  {
   "cell_type": "code",
   "execution_count": 117,
   "metadata": {},
   "outputs": [
    {
     "data": {
      "text/plain": [
       "texto      ENTRETÉNME, PAYASO!!!... \n",
       "toxico                             1\n",
       "num_may                            2\n",
       "Name: 194, dtype: object"
      ]
     },
     "execution_count": 117,
     "metadata": {},
     "output_type": "execute_result"
    }
   ],
   "source": [
    "#Búsqueda las palabras en mayúsculas a través de una expresión regular\n",
    "df['num_may']=df.texto.apply(lambda txt: len(list(re.finditer(regex, txt))) )\n",
    "#matches = list(re.finditer(regex, frase))\n",
    "#type(matches)\n",
    "df.iloc[194,:]"
   ]
  },
  {
   "cell_type": "code",
   "execution_count": 112,
   "metadata": {},
   "outputs": [
    {
     "data": {
      "text/plain": [
       "4"
      ]
     },
     "execution_count": 112,
     "metadata": {},
     "output_type": "execute_result"
    }
   ],
   "source": []
  },
  {
   "cell_type": "code",
   "execution_count": null,
   "metadata": {},
   "outputs": [],
   "source": []
  },
  {
   "cell_type": "code",
   "execution_count": null,
   "metadata": {},
   "outputs": [],
   "source": []
  },
  {
   "cell_type": "code",
   "execution_count": null,
   "metadata": {},
   "outputs": [],
   "source": []
  },
  {
   "cell_type": "code",
   "execution_count": null,
   "metadata": {},
   "outputs": [],
   "source": []
  },
  {
   "cell_type": "code",
   "execution_count": null,
   "metadata": {},
   "outputs": [],
   "source": [
    "df['token_length'] = [len(x.split(\" \")) for x in df.text]\n",
    "max(df.token_length) "
   ]
  }
 ],
 "metadata": {
  "kernelspec": {
   "display_name": "Python 3",
   "language": "python",
   "name": "python3"
  },
  "language_info": {
   "codemirror_mode": {
    "name": "ipython",
    "version": 3
   },
   "file_extension": ".py",
   "mimetype": "text/x-python",
   "name": "python",
   "nbconvert_exporter": "python",
   "pygments_lexer": "ipython3",
   "version": "3.6.5"
  }
 },
 "nbformat": 4,
 "nbformat_minor": 2
}
