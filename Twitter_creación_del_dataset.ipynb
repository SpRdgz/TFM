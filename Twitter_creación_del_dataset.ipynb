{
 "cells": [
  {
   "cell_type": "markdown",
   "metadata": {},
   "source": [
    "1)\tSe efectúa el registro en https://developer.twitter.com/en/apps \n",
    "\n",
    "2)\tCreamos una aplicación.  \n",
    "\n",
    "3)\tUna vez completados los datos en los que se indica en qué se aplicarán los datos, la API proporciona una clave y un token para poder realizar la consulta.\n",
    "\n",
    "4)\tInstalación en anaconda/jupyter la librería a través del terminal (New/terminal)\n",
    "   pip install tweepy"
   ]
  },
  {
   "cell_type": "code",
   "execution_count": 3,
   "metadata": {},
   "outputs": [],
   "source": [
    "from tweepy import Stream\n",
    "from tweepy import OAuthHandler\n",
    "from tweepy.streaming import StreamListener\n",
    "import pandas as pd\n",
    "import tweepy"
   ]
  },
  {
   "cell_type": "markdown",
   "metadata": {},
   "source": [
    "# Autenticación en la API"
   ]
  },
  {
   "cell_type": "code",
   "execution_count": 53,
   "metadata": {},
   "outputs": [],
   "source": [
    "#Consumer API key, Consumer API secret key, Access token, Access token secret.\n",
    "consumer_key=\"I42qx0aSeAXgl8ZyFjv3p7vp1\"\n",
    "consumer_secret =\"dTBoLlyiqNKUsvkzdu5P51X7VfHd6xoILXOGDlPNo9nIdMLrgN\"\n",
    "access_key =\"22168132-HdwFAKmKHTP0t7u5Dmt3KYMweMQXtfea8Zyihv69q\"\n",
    "access_secret =\"HlaR3Fj0TM1u0qnyi4OSBuD5567lKzKBIVB8TiMAgtfaA\""
   ]
  },
  {
   "cell_type": "markdown",
   "metadata": {},
   "source": [
    "# Creamos la funcion que nos permite autenticarnos en la API"
   ]
  },
  {
   "cell_type": "code",
   "execution_count": 54,
   "metadata": {},
   "outputs": [],
   "source": [
    "#Autenticación en la API de twitter con las credenciales de la aplicación\n",
    "\n",
    "def auth(consumer_key, consumer_secret, access_key, access_secret):    \n",
    "    auth = OAuthHandler(consumer_key, consumer_secret)    \n",
    "    auth.set_access_token(access_key, access_secret)    \n",
    "    return tweepy.API(auth) "
   ]
  },
  {
   "cell_type": "markdown",
   "metadata": {},
   "source": [
    "# DCP de los datos de twitter"
   ]
  },
  {
   "cell_type": "code",
   "execution_count": 58,
   "metadata": {},
   "outputs": [],
   "source": [
    "#Búsqueda de tweets con el hastag indicado en q\n",
    "#Se eliminan los retweets (-filter:retweets)\n",
    "#Obtiene el texto completo (tweet_mode=\"extended\")\n",
    "#Devuelve un dataframe con la úntica columna que interesa para el análisis, el texto con el atributo (full_text)\n",
    "\n",
    "def searchTwitter():\n",
    "    api=auth(consumer_key, consumer_secret, access_key, access_secret)\n",
    "    #search_result = api.search(search_text, lang=\"es\",tweet_mode=\"extended\", count=100)\n",
    "    search =api.search(q=\"tan -filter:retweets\", count=100, tweet_mode=\"extended\", lang=\"es\")\n",
    "    outtweets = [[tweet.full_text] for tweet in search]\n",
    "    tw_climatechange=pd.DataFrame(data=outtweets, columns=['tweet'])\n",
    "    return tw_climatechange"
   ]
  },
  {
   "cell_type": "code",
   "execution_count": 56,
   "metadata": {},
   "outputs": [],
   "source": [
    "#Se realiza las modificaciones sobre el dataframe con el objetivo de conseguir una estandarización para el análisis\n",
    "#Supresión de cuentas a las que hace referencia (@XXXX) y aglutinación de múltiples espacios en uno\n",
    "#Eliminación de páginas web (http,https y www) (str.replace('http\\S+|www.\\S+', '', case=False))\n",
    "#Eliminación del símbolo # que hace referencia a los hastag\n",
    "#Supresión de comentarios duplicados una vez que se elimina todo lo anterior\n",
    "\n",
    "import re\n",
    "def limpiezaDF(df):\n",
    "    df['tweet']=df['tweet'].apply(lambda x: re.sub(r'@[A-Za-z0-9]+','', x)).apply(lambda x:' '.join(x.split()))\n",
    "    df['tweet']=df['tweet'].str.replace('http\\S+|www.\\S+', '', case=False)\n",
    "    df['tweet']=df['tweet'].str.replace('#', '', case=False) \n",
    "    #df['tweet']=df['tweet'].lower()\n",
    "    df=df.drop_duplicates()\n",
    "    return df"
   ]
  },
  {
   "cell_type": "code",
   "execution_count": 59,
   "metadata": {
    "scrolled": true
   },
   "outputs": [
    {
     "data": {
      "text/html": [
       "<div>\n",
       "<style scoped>\n",
       "    .dataframe tbody tr th:only-of-type {\n",
       "        vertical-align: middle;\n",
       "    }\n",
       "\n",
       "    .dataframe tbody tr th {\n",
       "        vertical-align: top;\n",
       "    }\n",
       "\n",
       "    .dataframe thead th {\n",
       "        text-align: right;\n",
       "    }\n",
       "</style>\n",
       "<table border=\"1\" class=\"dataframe\">\n",
       "  <thead>\n",
       "    <tr style=\"text-align: right;\">\n",
       "      <th></th>\n",
       "      <th>tweet</th>\n",
       "    </tr>\n",
       "  </thead>\n",
       "  <tbody>\n",
       "    <tr>\n",
       "      <th>0</th>\n",
       "      <td>Ojalá pintar una mierda tan grande como tú y entrar así en algún récord mundial, pedazo de escoria 🤗</td>\n",
       "    </tr>\n",
       "    <tr>\n",
       "      <th>1</th>\n",
       "      <td>_twt A me recuerda a puppy solo que puppy parece peluchito porque no le hemos cortado el pelo aún 💜💜💜💜💜💜💜💜💜💜💜es tan tierno ese perrito.</td>\n",
       "    </tr>\n",
       "  </tbody>\n",
       "</table>\n",
       "</div>"
      ],
      "text/plain": [
       "                                                                                                                                     tweet\n",
       "0  Ojalá pintar una mierda tan grande como tú y entrar así en algún récord mundial, pedazo de escoria 🤗                                   \n",
       "1  _twt A me recuerda a puppy solo que puppy parece peluchito porque no le hemos cortado el pelo aún 💜💜💜💜💜💜💜💜💜💜💜es tan tierno ese perrito."
      ]
     },
     "execution_count": 59,
     "metadata": {},
     "output_type": "execute_result"
    }
   ],
   "source": [
    "dfresult=searchTwitter()\n",
    "dfresult=limpiezaDF(dfresult)\n",
    "#Se decide almacenarlo en un archivo para poder reproducir el experimento con los mismo datos. \n",
    "dfresult.to_csv(r'C:\\Users\\Esperanza\\Desktop\\UOC\\2año\\TFM\\tan.txt', header=True, index=None, sep=' ')\n",
    "dfresult.head(2)"
   ]
  }
 ],
 "metadata": {
  "kernelspec": {
   "display_name": "Python 3",
   "language": "python",
   "name": "python3"
  }
 },
 "nbformat": 4,
 "nbformat_minor": 2
}
