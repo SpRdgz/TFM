{
 "cells": [
  {
   "cell_type": "markdown",
   "metadata": {},
   "source": [
    "Grid-search: It exhaustively searches overall parameter combinations in a given grid to determine the best model."
   ]
  },
  {
   "cell_type": "markdown",
   "metadata": {},
   "source": [
    "Random Forest, al igual que el árbol e decisión, es un modelo de aprendizaje supervisado para clasificación (aunque también puede usarse para problemas de regresión). Se creo para solventar el overfitting de los árboles de decisión que con una profundidad suficiente tendían a memorizar en vez de calcular. \n",
    "https://www.aprendemachinelearning.com/random-forest-el-poder-del-ensamble/"
   ]
  },
  {
   "cell_type": "code",
   "execution_count": 3,
   "metadata": {},
   "outputs": [],
   "source": [
    "import pickle"
   ]
  },
  {
   "cell_type": "code",
   "execution_count": 4,
   "metadata": {},
   "outputs": [],
   "source": [
    "path_df = \"C:/Users/Esperanza/Desktop/UOC/TFM/python/04_Feature_Engineering/dfmodelo.pickle\"\n",
    "with open(path_df, 'rb') as data:\n",
    "    df = pickle.load(data)"
   ]
  },
  {
   "cell_type": "code",
   "execution_count": 5,
   "metadata": {},
   "outputs": [],
   "source": [
    "#Almacenamiento del x_train\n",
    "path_df = \"C:/Users/Esperanza/Desktop/UOC/TFM/python/04_Feature_Engineering/X_train.pickle\"\n",
    "with open(path_df, 'rb') as data:\n",
    "    X_train = pickle.load(data)\n"
   ]
  },
  {
   "cell_type": "code",
   "execution_count": 8,
   "metadata": {},
   "outputs": [],
   "source": [
    "#Almacenamiento del x_test\n",
    "path_df = \"C:/Users/Esperanza/Desktop/UOC/TFM/python/04_Feature_Engineering/X_test.pickle\"\n",
    "with open(path_df, 'rb') as data:\n",
    "    X_test = pickle.load(data)"
   ]
  },
  {
   "cell_type": "code",
   "execution_count": 9,
   "metadata": {},
   "outputs": [],
   "source": [
    "#Almacenamiento del y_train\n",
    "path_df = \"C:/Users/Esperanza/Desktop/UOC/TFM/python/04_Feature_Engineering/y_train.pickle\"\n",
    "with open(path_df, 'rb') as data:\n",
    "    y_train = pickle.load(data)"
   ]
  },
  {
   "cell_type": "code",
   "execution_count": 10,
   "metadata": {},
   "outputs": [],
   "source": [
    "#Almacenamiento del y_train\n",
    "path_df = \"C:/Users/Esperanza/Desktop/UOC/TFM/python/04_Feature_Engineering/y_test.pickle\"\n",
    "with open(path_df, 'rb') as data:\n",
    "    y_test = pickle.load(data)"
   ]
  },
  {
   "cell_type": "code",
   "execution_count": 4,
   "metadata": {},
   "outputs": [
    {
     "data": {
      "text/html": [
       "<div>\n",
       "<style scoped>\n",
       "    .dataframe tbody tr th:only-of-type {\n",
       "        vertical-align: middle;\n",
       "    }\n",
       "\n",
       "    .dataframe tbody tr th {\n",
       "        vertical-align: top;\n",
       "    }\n",
       "\n",
       "    .dataframe thead th {\n",
       "        text-align: right;\n",
       "    }\n",
       "</style>\n",
       "<table border=\"1\" class=\"dataframe\">\n",
       "  <thead>\n",
       "    <tr style=\"text-align: right;\">\n",
       "      <th></th>\n",
       "      <th>texto</th>\n",
       "      <th>num_may_esc</th>\n",
       "      <th>num_insultos</th>\n",
       "      <th>score_emoji_tox</th>\n",
       "      <th>emphasize</th>\n",
       "      <th>toxico</th>\n",
       "      <th>filtered_words</th>\n",
       "    </tr>\n",
       "  </thead>\n",
       "  <tbody>\n",
       "    <tr>\n",
       "      <th>646</th>\n",
       "      <td>Esperemos que el Big Data de el visto bueno pa...</td>\n",
       "      <td>0.0</td>\n",
       "      <td>0</td>\n",
       "      <td>0.0</td>\n",
       "      <td>0.0</td>\n",
       "      <td>0</td>\n",
       "      <td>[esperar, big, datar, vestir, bueno, pagar, cl...</td>\n",
       "    </tr>\n",
       "    <tr>\n",
       "      <th>336</th>\n",
       "      <td>Este pobre payaso ya no sabe donde esta el nor...</td>\n",
       "      <td>0.0</td>\n",
       "      <td>0</td>\n",
       "      <td>0.0</td>\n",
       "      <td>1.0</td>\n",
       "      <td>1</td>\n",
       "      <td>[pobre, payaso, no, saber, norte, sur]</td>\n",
       "    </tr>\n",
       "    <tr>\n",
       "      <th>63</th>\n",
       "      <td>MB98 Seguro que y luego unas risas, esas respu...</td>\n",
       "      <td>0.0</td>\n",
       "      <td>0</td>\n",
       "      <td>0.0</td>\n",
       "      <td>1.0</td>\n",
       "      <td>1</td>\n",
       "      <td>[mb98, seguro, luego, uno, risa, respuesta, gi...</td>\n",
       "    </tr>\n",
       "    <tr>\n",
       "      <th>367</th>\n",
       "      <td>Sigan peleando, la gente de a pie esta jodida ...</td>\n",
       "      <td>0.0</td>\n",
       "      <td>1</td>\n",
       "      <td>0.0</td>\n",
       "      <td>1.0</td>\n",
       "      <td>1</td>\n",
       "      <td>[seguir, pelear, gente, pie, joder, desacelera...</td>\n",
       "    </tr>\n",
       "    <tr>\n",
       "      <th>101</th>\n",
       "      <td>Casa Rural en Sariñena, Los Monegros, en Huesc...</td>\n",
       "      <td>0.0</td>\n",
       "      <td>0</td>\n",
       "      <td>0.0</td>\n",
       "      <td>1.0</td>\n",
       "      <td>0</td>\n",
       "      <td>[casar, rural, sariñena, monegros, huesca, 12,...</td>\n",
       "    </tr>\n",
       "  </tbody>\n",
       "</table>\n",
       "</div>"
      ],
      "text/plain": [
       "                                                 texto  num_may_esc  \\\n",
       "646  Esperemos que el Big Data de el visto bueno pa...          0.0   \n",
       "336  Este pobre payaso ya no sabe donde esta el nor...          0.0   \n",
       "63   MB98 Seguro que y luego unas risas, esas respu...          0.0   \n",
       "367  Sigan peleando, la gente de a pie esta jodida ...          0.0   \n",
       "101  Casa Rural en Sariñena, Los Monegros, en Huesc...          0.0   \n",
       "\n",
       "     num_insultos  score_emoji_tox  emphasize  toxico  \\\n",
       "646             0              0.0        0.0       0   \n",
       "336             0              0.0        1.0       1   \n",
       "63              0              0.0        1.0       1   \n",
       "367             1              0.0        1.0       1   \n",
       "101             0              0.0        1.0       0   \n",
       "\n",
       "                                        filtered_words  \n",
       "646  [esperar, big, datar, vestir, bueno, pagar, cl...  \n",
       "336             [pobre, payaso, no, saber, norte, sur]  \n",
       "63   [mb98, seguro, luego, uno, risa, respuesta, gi...  \n",
       "367  [seguir, pelear, gente, pie, joder, desacelera...  \n",
       "101  [casar, rural, sariñena, monegros, huesca, 12,...  "
      ]
     },
     "execution_count": 4,
     "metadata": {},
     "output_type": "execute_result"
    }
   ],
   "source": [
    "df.head()"
   ]
  },
  {
   "cell_type": "code",
   "execution_count": 5,
   "metadata": {},
   "outputs": [
    {
     "data": {
      "text/plain": [
       "1    358\n",
       "0    320\n",
       "Name: toxico, dtype: int64"
      ]
     },
     "execution_count": 5,
     "metadata": {},
     "output_type": "execute_result"
    }
   ],
   "source": [
    "df['toxico'].value_counts()"
   ]
  },
  {
   "cell_type": "code",
   "execution_count": 18,
   "metadata": {},
   "outputs": [
    {
     "name": "stdout",
     "output_type": "stream",
     "text": [
      "Fitted tokenizer on 542 documents\n",
      "10000 words in dictionary\n",
      "Top 5 most common words are: [('no', 129), ('ir', 44), ('poder', 44), ('si', 40), ('ser', 40)]\n"
     ]
    }
   ],
   "source": []
  },
  {
   "cell_type": "code",
   "execution_count": 14,
   "metadata": {},
   "outputs": [
    {
     "data": {
      "text/plain": [
       "filtered_words     [acabar, llegarme, memento, corpus, ayer, ;, r...\n",
       "num_insultos                                                       0\n",
       "score_emoji_tox                                                    0\n",
       "emphasize                                                          1\n",
       "Name: 75, dtype: object"
      ]
     },
     "execution_count": 14,
     "metadata": {},
     "output_type": "execute_result"
    }
   ],
   "source": [
    "X_train.iloc[1,:]"
   ]
  },
  {
   "cell_type": "code",
   "execution_count": 20,
   "metadata": {},
   "outputs": [
    {
     "data": {
      "text/html": [
       "<div>\n",
       "<style scoped>\n",
       "    .dataframe tbody tr th:only-of-type {\n",
       "        vertical-align: middle;\n",
       "    }\n",
       "\n",
       "    .dataframe tbody tr th {\n",
       "        vertical-align: top;\n",
       "    }\n",
       "\n",
       "    .dataframe thead th {\n",
       "        text-align: right;\n",
       "    }\n",
       "</style>\n",
       "<table border=\"1\" class=\"dataframe\">\n",
       "  <thead>\n",
       "    <tr style=\"text-align: right;\">\n",
       "      <th></th>\n",
       "      <th>filtered_words</th>\n",
       "      <th>num_insultos</th>\n",
       "      <th>score_emoji_tox</th>\n",
       "      <th>emphasize</th>\n",
       "    </tr>\n",
       "  </thead>\n",
       "  <tbody>\n",
       "    <tr>\n",
       "      <th>58</th>\n",
       "      <td>[ta, resentir, subnormal, *, 5, minuto, despue...</td>\n",
       "      <td>0</td>\n",
       "      <td>0.000000</td>\n",
       "      <td>1.0</td>\n",
       "    </tr>\n",
       "    <tr>\n",
       "      <th>280</th>\n",
       "      <td>[decidme, vosotros, tb, ver, amorfo]</td>\n",
       "      <td>1</td>\n",
       "      <td>0.000000</td>\n",
       "      <td>0.0</td>\n",
       "    </tr>\n",
       "    <tr>\n",
       "      <th>300</th>\n",
       "      <td>[josé, antonio, rey, morir, cazurro, ser, inco...</td>\n",
       "      <td>0</td>\n",
       "      <td>0.000000</td>\n",
       "      <td>1.0</td>\n",
       "    </tr>\n",
       "    <tr>\n",
       "      <th>316</th>\n",
       "      <td>[turrar, dar, pedroque, tío, pelma]</td>\n",
       "      <td>0</td>\n",
       "      <td>0.000000</td>\n",
       "      <td>0.0</td>\n",
       "    </tr>\n",
       "    <tr>\n",
       "      <th>521</th>\n",
       "      <td>[bueno, domingo, 🎼, 😊, 👍, ver, cerebro, hacer,...</td>\n",
       "      <td>0</td>\n",
       "      <td>0.044333</td>\n",
       "      <td>0.0</td>\n",
       "    </tr>\n",
       "  </tbody>\n",
       "</table>\n",
       "</div>"
      ],
      "text/plain": [
       "                                        filtered_words  num_insultos  \\\n",
       "58   [ta, resentir, subnormal, *, 5, minuto, despue...             0   \n",
       "280               [decidme, vosotros, tb, ver, amorfo]             1   \n",
       "300  [josé, antonio, rey, morir, cazurro, ser, inco...             0   \n",
       "316                [turrar, dar, pedroque, tío, pelma]             0   \n",
       "521  [bueno, domingo, 🎼, 😊, 👍, ver, cerebro, hacer,...             0   \n",
       "\n",
       "     score_emoji_tox  emphasize  \n",
       "58          0.000000        1.0  \n",
       "280         0.000000        0.0  \n",
       "300         0.000000        1.0  \n",
       "316         0.000000        0.0  \n",
       "521         0.044333        0.0  "
      ]
     },
     "execution_count": 20,
     "metadata": {},
     "output_type": "execute_result"
    }
   ],
   "source": [
    "X_test.head()"
   ]
  },
  {
   "cell_type": "code",
   "execution_count": null,
   "metadata": {},
   "outputs": [],
   "source": []
  },
  {
   "cell_type": "code",
   "execution_count": null,
   "metadata": {},
   "outputs": [],
   "source": []
  },
  {
   "cell_type": "code",
   "execution_count": null,
   "metadata": {},
   "outputs": [],
   "source": []
  },
  {
   "cell_type": "code",
   "execution_count": null,
   "metadata": {},
   "outputs": [],
   "source": []
  },
  {
   "cell_type": "code",
   "execution_count": null,
   "metadata": {},
   "outputs": [],
   "source": []
  },
  {
   "cell_type": "code",
   "execution_count": null,
   "metadata": {},
   "outputs": [],
   "source": []
  },
  {
   "cell_type": "code",
   "execution_count": null,
   "metadata": {},
   "outputs": [],
   "source": []
  },
  {
   "cell_type": "code",
   "execution_count": null,
   "metadata": {},
   "outputs": [],
   "source": []
  }
 ],
 "metadata": {
  "kernelspec": {
   "display_name": "Python 3",
   "language": "python",
   "name": "python3"
  },
  "language_info": {
   "codemirror_mode": {
    "name": "ipython",
    "version": 3
   },
   "file_extension": ".py",
   "mimetype": "text/x-python",
   "name": "python",
   "nbconvert_exporter": "python",
   "pygments_lexer": "ipython3",
   "version": "3.6.5"
  }
 },
 "nbformat": 4,
 "nbformat_minor": 2
}
