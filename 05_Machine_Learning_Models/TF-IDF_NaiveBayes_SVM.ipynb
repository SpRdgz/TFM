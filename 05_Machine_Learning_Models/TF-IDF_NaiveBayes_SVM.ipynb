{
 "cells": [
  {
   "cell_type": "code",
   "execution_count": 1,
   "metadata": {},
   "outputs": [],
   "source": [
    "import pickle\n",
    "import numpy as np\n",
    "from sklearn.feature_extraction.text import TfidfTransformer\n",
    "from sklearn import svm\n",
    "from pprint import pprint\n",
    "from sklearn.model_selection import RandomizedSearchCV\n",
    "from sklearn.model_selection import GridSearchCV\n",
    "from sklearn.metrics import classification_report, confusion_matrix, accuracy_score\n",
    "from sklearn.model_selection import ShuffleSplit\n",
    "import matplotlib.pyplot as plt\n",
    "import seaborn as sns\n",
    "import pandas as pd\n",
    "from sklearn import model_selection, naive_bayes, svm\n",
    "from sklearn.metrics import accuracy_score\n",
    "%matplotlib inline"
   ]
  },
  {
   "cell_type": "code",
   "execution_count": 2,
   "metadata": {},
   "outputs": [],
   "source": [
    "path_df = \"../04_Feature_Engineering/\"\n",
    "\n",
    "#Lectura del df del modelo\n",
    "with (open(path_df+'dfmodelo.pickle',\"rb\")) as openfile:\n",
    "    df = pickle.load(openfile)\n"
   ]
  },
  {
   "cell_type": "code",
   "execution_count": 3,
   "metadata": {},
   "outputs": [],
   "source": [
    "Train_X, Test_X, Train_Y, Test_Y = model_selection.train_test_split(df['filtered_words_lemm'],df['toxico'],test_size=0.2)"
   ]
  },
  {
   "cell_type": "code",
   "execution_count": 4,
   "metadata": {},
   "outputs": [],
   "source": [
    "np.random.seed(500)"
   ]
  },
  {
   "cell_type": "markdown",
   "metadata": {},
   "source": [
    "# Word Vectorization\n",
    "\n",
    "Uno de los procesos comunes en tareas NLP es la conversión de una colección de documentos de texto en vectores de características numéricas que la máquina pueda entender. El método más popular se llama TF-IDF, su significado es \"Frecuencia de Término - Frecuencia del Documento Inverso\", que son los valores que finalmente se asignan a cada palabra.\n",
    "\n",
    "Frecuencia de término: Cuanto aparece la palabra en ese documento.\n",
    "\n",
    "Frecuencia de documentos inversa: esta escala reduce las palabras que aparecen mucho en los documentos.\n",
    "\n",
    "fuente: https://medium.com/@bedigunjit/simple-guide-to-text-classification-nlp-using-svm-and-naive-bayes-with-python-421db3a72d34\n",
    "\n",
    "Dependiendo del término max_features podemos indicar el número de palabras a tener en cuenta. "
   ]
  },
  {
   "cell_type": "code",
   "execution_count": 5,
   "metadata": {},
   "outputs": [
    {
     "data": {
      "text/plain": [
       "['asco',\n",
       " 'periodismo',\n",
       " 'cadena',\n",
       " 'perroflauta',\n",
       " 'miserables',\n",
       " 'personajes',\n",
       " '😠',\n",
       " '😡',\n",
       " '😠']"
      ]
     },
     "execution_count": 5,
     "metadata": {},
     "output_type": "execute_result"
    }
   ],
   "source": [
    "df.loc[38,'filtered_words']\n"
   ]
  },
  {
   "cell_type": "code",
   "execution_count": 6,
   "metadata": {},
   "outputs": [
    {
     "name": "stdout",
     "output_type": "stream",
     "text": [
      "{'toda': 2810, 'gente': 1285, 'alcasser': 135, 'daba': 759, 'ostias': 2041, 'hablando': 1350, 'mal': 1742, 'programa': 2321, 'no': 1964, 'decirlos': 794, 'familiares': 1162, 'shock': 2630, 'darian': 764, 'cuenta': 740, 'haciendo': 1365, 'tiempo': 2783, 'debieron': 787, 'abrir': 69, 'ojos': 2009, 'sentir': 2606, 'aun': 274, 'mas': 1787, 'impotencia': 1479, 'respeto': 2476, 'carabinero': 471, 'potente': 2272, 'sabe': 2534, 'ahogadillas”': 117, 'playa': 2210, 'eramos': 1049, 'chicos': 543, 'mar': 1770, 'quedao': 2378, 'dia': 874, 'perroflauta': 2161, 'jajajajajajaja': 1563, 've': 2940, 'aqui': 223, 'abrazo': 65, 'cabestro': 398, 'dos': 936, 'fotos': 1225, 'juntas': 1593, 'entienden': 1028, 'mejor': 1805, 'mangurrian': 1762, '-desde': 27, 'myra': 1918, 'decidido': 788, 'ignorar': 1455, 'fantasmas': 1166, 'tocapelotas-': 2806, 'narro': 1927, 'perez': 2151, 'reverte': 2490, 'leer': 1636, 'sabes': 2539, 'callate': 426, 'bot': 364, 'hermanos': 1384, 'equilibristas': 1045, 'nik': 1950, 'lijana': 1662, 'wallenda': 3033, 'cruzan': 726, 'neoyorquina': 1945, 'plaza': 2214, 'times': 2788, 'square': 2698, 'caminando': 438, 'cable': 402, 'situado': 2668, 'pisos': 2197, 'altura': 150, 'valls': 2929, 'sera': 2613, 'mierdaseca': 1843, 'nadie': 1926, 'discute': 911, 'ofreciendo': 2005, 'votos': 3024, 'gratis': 1316, 'chabalada': 534, 'visto': 3007, 'todavia': 2812, 'derecha': 836, 'catalana': 505, 'hacer': 1360, 'mismo': 1859, 'si': 2631, 'ganasteis': 1265, 'psrtido': 2342, 'bocachancla': 354, 'lumbreras': 1713, '😎': 3123, '-quiera': 29, 'quiera': 2389, 'salido': 2551, 'amorfo-': 171, 'amor': 169, 'incondicional': 1488, 'animalitos': 194, 'amigo': 165, 'hombre': 1409, '♥️': 3079, 'bien': 341, 'presidenteeso': 2295, 'politica': 2234, 'arte': 241, 'lograr': 1698, 'determinado': 870, 'finanalicen': 1203, 'zamora:': 3053, 'empresa': 996, 'madrileña': 1733, 'reparara': 2465, 'museo': 1916, 'provincial': 2332, 'bellas': 327, 'artes': 242, 'via': 2980, 'muchas': 1896, 'felicidades': 1175, 'campeones': 444, 'españa': 1070, 'natacion': 1929, 'adaptada': 94, '🏊\\u200d': 3097, '♀️': 3078, '🏊\\u200d♂️': 3098, 'mataro': 1791, 'maresme': 1778, 'catalunya': 507, 'rumbo': 2526, 'perdido': 2145, 'tolai': 2813, 'abandonar': 58, 'partido': 2093, 'tenias': 2765, 'haber': 1343, 'hecho': 1380, 'reflexiones': 2442, 'igual': 1458, 'iñigo': 1552, '': 0, 'puerta': 2357, 'atras': 270, 'siguio': 2649, 'justo': 1602, 'union': 2895, 'necesitaba': 1938, 'llamazares': 1677, 'desaparece': 843, 'cenizo': 522, 'gestos': 1289, 'dulce': 949, 'galeria': 1256, 'figuras': 1195, 'humo': 1436, 'dice': 877, 'parguela': 2085, 'cuanto': 734, 'gilipuertas': 1292, 'puede': 2350, 'ser': 2612, 'bueno': 381, 'adri': 101, 'pasa': 2094, 'pedazo': 2119, 'pelele': 2127, 'hijacasa': 1394, 'rural…': 2528, 'cenutrio': 527, 'despertar': 857, 'cima': 555, 'montaña': 1877, 'minutos': 1851, 'despues': 863, 'dejarme': 814, 'caer': 413, 'fondo': 1217, 'oceao': 1994, 'asi': 250, 'va': 2917, 'alcohol': 136, 'capullo': 469, 'admiro': 98, 'mujer': 1904, 'completoricardo': 619, 'cosme': 701, 'beltraa': 329, 'dije': 897, 'ahi': 116, 'arriba': 239, 'justificando': 1599, 'abandono': 59, 'jajajajaja': 1562, 'encanta': 1005, 'desvirtuar': 868, 'ver': 2959, 'ganas': 1264, 'discusion': 910, 'posta': 2266, 'dedicate': 800, 'podes': 2223, 'ganar': 1263, 'debates': 780, 'subnormal': 2710, 'podios': 2226, 'espero': 1084, 'pida': 2177, 'perdon': 2147, 'accion': 81, 'barriobajero': 319, 'paleto': 2063, 'vamos': 2932, 'oooo': 2021, 'profesionales': 2319, 'trabajo': 2835, '😪': 3129, 'jugando': 1588, 'draven': 939, 'vayne': 2939, 'guarro': 1327, 'merecido': 1826, 's': 2532, 'mequetrefe': 1822, 'alcornoque': 138, 'vindria': 3002, 'vaya': 2937, 'cara': 470, 'richard': 2496, 'canuto': 462, 'inutil': 1537, '😡': 3128, 'lameculos': 1628, 'profesional': 2318, 'madre': 1728, 'mia': 1836, 'cantidad': 461, 'abrazafarolas': 64, 'tragan': 2837, 'bulos': 383, 'aplausos': 210, 'señor': 2627, 'abreu': 68, 'grandisimo': 1314, 'gustavo': 1338, 'expeditivo': 1132, 'opte': 2031, 'piscina': 2196, 'siempre': 2637, 'agua😀': 113, 'juan': 1583, 'carlos': 479, 'i': 1438, 'pichabrava': 2174, 'intelectual': 1525, 'firme': 1209, 'convicciones': 678, 'cede': 518, 'defensa': 805, 'necesidades': 1936, 'fisiologicas': 1210, 'entrepierna': 1038, '¡que': 3069, 'noooo': 1970, '¡jajajaja': 3067, '¡es': 3064, 'pagafantas”': 2050, 'viejo': 2989, 'betico': 337, 'perro': 2160, 'diria': 907, 'vivir': 3012, 'casa': 489, 'entrar': 1033, 'dios': 903, 'ahora': 118, '📣': 3111, 'delicias': 819, 'evidencian': 1120, 'riqueza': 2500, 'gastronomica': 1273, 'hijo': 1396, 'puta': 2367, 'merece': 1824, 'muerte': 1901, 'fcen': 1173, 'estadistica': 1090, 'matematica': 1792, 'data': 770, 'science': 2577, 'computacion': 624, 'lado': 1621, 'parece': 2079, 'tan': 2738, 'grave': 1317, 'corto': 696, 'semaforo': 2597, 'transito': 2845, 'necesito': 1941, 'coche': 580, 'carne': 481, 'conducir': 647, 'documental': 929, 'contar': 666, 'acabado': 73, 'ayuntamiento': 298, 'valencia': 2923, 'colapso': 587, 'colector': 590, 'norte': 1972, 'culpa': 747, 'toallitas': 2802, 'humedas': 1434, 'payaso': 2111, 'tal': 2731, 'vez': 2978, 'fumando': 1247, 'encuentre': 1009, 'vuelvas': 3030, 'sol': 2677, 'soñe': 2692, 'robaban': 2505, '😓': 3125, 'similares': 2656, 'gustos': 1340, 'regresion': 2452, 'logistica': 1697, 'llama': 1673, 'big': 343, 'brujeria': 375, 'pedrerol': 2120, 'hipocrita': 1401, 'gilipollas': 1291, 'ir': 1542, 'campo': 446, 'cazurro': 514, 'señala': 2626, 'constitucionalistas': 659, 'prestigio': 2296, 'dejar': 812, 'gorriti': 1303, 'quede': 2380, 'palacio': 2059, 'carcel': 474, 'corrupto': 692, 'golpista': 1299, 'directiva': 906, 'hace': 1356, 'tt': 2865, 'valverdeout': 2931, 'publican': 2345, 'mayoria': 1798, 'bots': 370, 'franceses': 1229, 'verdad': 2964, 'creian': 714, 'iban': 1442, 'acallar': 78, 'criticas': 723, 'pues': 2359, 'utilizo': 2915, 'hashtag': 1377, 'frances': 1228, 'id': 1443, 'buscando': 388, 'excusa': 1128, 'botdecensura': 366, 'tonto': 2824, 'naces': 1920, 'besugo': 336, 'felon': 1181, 'sexta': 2624, 'menudo': 1821, 'zampabollos': 3054, 'sectario': 2582, 'ole': 2011, 'acabe': 75, 'sabado': 2533, '(3)': 6, '(tambien': 19, 'victima': 2983, 'uoc)': 2900, 'ofertas': 2001, 'enfermero/a': 1013, 'y/o': 3046, 'fisioterapeuta': 1211, 'domicilios': 931, 'alava': 128, 'menos': 1814, 'talent': 2732, 'search': 2579, 'people': 2137, 'errores': 1052, 'pueden': 2351, 'cometer': 606, 'crear': 706, 'campañas': 440, 'nikola': 1951, 'tesla': 2775, 'viaje': 2982, 'tiempo:': 2784, 'vi': 2979, 'pasado': 2096, 'presente': 2292, 'fu': 1242, 'acaba': 72, 'llegarme': 1683, 'memento': 1812, 'corpus': 688, 'ayer;': 293, 'resulta': 2483, 'niña': 1957, 'años': 303, 'empezo': 993, 'insultarme': 1521, 'llamandome': 1675, 'da': 758, 'pensar': 2136, 'sociedad': 2675, 'avanza': 284, 'demasiado': 823, 'rapido': 2405, 'edad': 960, 'levantaba': 1649, 'mirada': 1854, 'alguien': 141, 'mayor;': 1797, 'fin': 1200, 'lloraras': 1693, 'llegue': 1684, 'denuncia': 831, 'porfi': 2256, 'llames': 1678, 'insultado': 1520, 'money': 1875, 'talks': 2733, '|': 3059, 'tira': 2793, 'submarino': 2709, 'mockus': 1864, 'auspiciador': 276, 'guerrilla': 1329, 'gano': 1266, 'contratos': 674, 'forma': 1218, 'irregular': 1546, 'verde': 2966, 'izquierda': 1551, 'bastantes': 323, 'candidatos': 454, 'cuestionados': 744, 'incluyendo': 1486, 'gallito': 1260, 'lea': 1635, 'botarate': 365, 'copon': 683, 'asco': 247, 'cabron': 405, 'poner': 2241, 'tuit': 2866, 'ta': 2730, 'resentido': 2468, '*5': 23, 'despues*': 864, 'karla': 1609, 'nlp': 1963, 'dignidad': 893, 'digno': 894, 'despreciando': 862, 'pais': 2054, 'terminos': 2771, 'suenan': 2717, 'tendria': 2759, 'investigar': 1539, 'tiras': 2796, 'punta': 2361, 'meto': 1834, 'pleno': 2216, 'vas': 2936, 'pones': 2243, 'eh': 972, 'ah': 115, 'importante': 1475, 'limon': 1664, 'festin': 1191, 'sabores': 2541, 'orgullo': 2035, 'operacion': 2023, 'inicia': 1512, 'gracias': 1307, 'eliii': 980, '🔝': 3115, 'sarah': 2574, 'harper': 1374, 'especialista': 1077, 'envejecimiento': 1041, 'seria': 2615, 'maravilloso': 1773, 'construido': 662, 'todas': 2811, 'edades': 961, 'pueda': 2349, 'junta': 1592, 'alcalde': 132, 'pobre': 2217, 'sur': 2726, 'mirando': 1856, 'sectaria': 2581, 'papanatas': 2070, 'solicitada': 2680, 'licencia': 1658, 'obra': 1987, 'rural': 2527, 'calle': 427, 'castellanos': 496, 'valdepeñas': 2921, 'obras': 1988, 'comercio': 605, 'venido': 2955, 'nintendo': 1954, 'ds': 942, 'feminazi~': 1184, 'uu': 2916, 'wifi': 3040, 'antena': 198, 'normativo': 1971, 'cuerpoescombro': 743, 'pasandoooo': 2097, 'pelma': 2131, 'animo': 196, 'mb98': 1801, 'seguro': 2593, 'luego': 1710, 'unas': 2890, 'risas': 2502, 'respuestas': 2481, 'silenciado': 2651, 'jose': 1582, 'antonio': 200, 'reyes': 2494, 'muerto': 1902, 'inconsciente': 1489, 'velocidad': 2948, '69': 48, 'fernando': 1187, 'vii': 2996, 'duda': 945, 'pepe': 2139, 'botella': 367, 'tampoco': 2737, 'ningun': 1952, 'adalid': 93, 'justicia': 1598, 'unico': 2894, 'interes': 1530, 'convertir': 676, 'marioneta': 1783, 'rey': 2493, 'odiado': 1997, 'razon': 2412, 'cosa': 698, 'quita': 2394, 'dices': 880, 'cerrarla': 533, 'paises': 2055, 'europeos': 1114, 'creernos': 711, 'radiotelevision': 2397, 'publica': 2343, 'consigue': 658, 'cerrando': 532, 'valenciano': 2924, 'quedamos': 2376, 'rtv': 2521, 'desastre': 845, 'alcaldes': 133, 'esperando': 1080, 'pidas': 2178, 'peras': 2143, 'hija': 1393, 'media': 1802, 'calcula': 422, 'sacado': 2543, '3': 44, 'queria': 2386, 'grado': 1308, 'mates': 1793, 'ingenieria': 1508, 'informatica': 1506, 'l': 1614, 'nota': 1973, 'corte': 694, 'baja': 306, 'pusieron': 2366, 'examen': 1124, 'den': 827, 'notas': 1974, 'veremos': 2968, 'pau2019': 2110, 'diciendo': 883, 'horribles': 1416, 'gustar': 1337, 'estan': 1092, 'guapisimos': 1323, 'kami': 1608, 'queda': 2374, 'manga': 1761, 'acabes': 76, 'captura': 468, 'falla': 1154, 'analfabetos': 176, 'funcionales': 1251, 'creen': 710, 'resto': 2482, 'mundo': 1909, 'cola': 586, 'inaem': 1484, 'caido': 418, 'mono': 1876, 'jajajajajak': 1565, 'comunidad': 630, 'colgao': 594, 'suelo': 2715, 'justificas': 1601, 'exponer': 1138, 'cansa': 456, 'cerca': 528, 'jubilacion': 1584, 'carmena': 480, 'cargarte': 475, 'clubs': 577, 'madrid': 1730, '😂': 3118, 'increible': 1492, 'logras': 1699, 'tener': 2762, 'atencion': 266, 'facil': 1150, 'victor': 2984, 'kuppers': 1613, 'geniales': 1282, 'motivacion': 1887, '/': 30, 'fran': 1227, 'pardo': 2078, 'dude': 947, 'f1': 1148, 'tambien': 2736, 'corren': 691, 'solo': 2682, 'coches': 581, '😉': 3120, 'nunca': 1982, 'historia': 1403, 'habia': 1344, 'campeon': 441, 'wec': 3037, 'machete': 1723, 'saca': 2542, 'usarlo': 2909, 'enseñar': 1022, '🔊': 3114, 'podolski:': 2227, 'ido': 1448, 'recuperacion': 2433, 'necesitara': 1940, 'pronto': 2328, 'olvideis': 2017, 'sido': 2634, 'luchador”': 1708, 'tweet': 2877, 'anulas': 202, 'pegatina': 2124, 'movil': 1893, 'red:': 2435, 'gobierno': 1296, 'anuncia': 203, 'incorporacion': 1490, 'buses': 390, 'electricos': 978, 'flota': 1214, 'tras': 2849, 'seis': 2594, 'meses': 1829, '18': 42, 'atajos': 263, 'teclado': 2748, 'illustrator': 1461, 'mejoraran': 1807, 'flujo': 1215, 'problema': 2315, 'solucion': 2683, 'siento': 2639, 'hablo': 1354, 'castellano': 495, 'podriamos': 2231, 'entendernos': 1025, 'valiente': 2926, 'sr': 2699, 'colegiado': 591, 'acomode': 82, 'almohadas': 146, 'anoche': 197, 'hoy': 1418, 'desperte': 858, 'alto': 149, 'dolor': 930, 'espalda': 1069, 'montero': 1879, 'descripcion': 849, 'falta': 1157, 'tarado': 2741, 'emocional': 985, 'mentecato': 1816, 'lleva': 1687, 'info': 1504, 'lava': 1634, 'cerebro': 530, 'chavales': 539, 'llaman': 1674, 'roba': 2504, 'mentes': 1817, 'exigen': 1130, 'pruebas': 2338, 'utilidad': 2913, 'social': 2674, 'tipejo': 2791, 'mierda': 1842, 'obligado': 1985, 'pagar': 2052, 'sinverguenza': 2662, 'segunda': 2589, 'opcion': 2022, 'amigos': 166, 'jajajaja': 1559, 'prefiero': 2279, 'casco': 490, 'vikingo': 2997, 'hoz': 1419, 'martllo': 1786, 'cualquier': 732, 'simbolo': 2654, 'progre': 2322, 'comunista': 631, 'pone': 2239, 'cachondo': 408, 'gustan': 1336, 'actividades': 88, 'pierdas': 2184, 'articulo': 243, 'decimos': 792, 'cuales': 730, 'mejores': 1808, 'chaquetas': 535, 'relacion': 2456, 'calidad-precio': 423, 'deportes': 835, 'senderismo': 2603, 'montañismo': 1878, 'trekking': 2855, 'abuchean': 70, 'concejal': 636, 'vox': 3025, 'jurar': 1596, 'cargo': 476, 'nombre': 1968, 'san': 2565, 'alicante': 144, 'español': 1073, 'hare': 1373, 'diga': 891, 'catala': 503, 'protesta': 2330, 'puedes': 2352, 'paralizar': 2075, 'quieras': 2390, 'afectar': 104, 'derechos': 840, 'demas': 822, 'secuestrado': 2583, 'carretera': 484, 'jodiendo': 1580, 'legimitidad': 1638, 'alguna': 143, 'ruben': 2522, 'cruz': 725, 'acabara': 74, 'sub21': 2705, 'tiro': 2799, 'day': 774, ':': 52, 'imbecil': 1465, 'feminazi': 1182, 'busqueda': 391, 'desesperada': 852, 'nuevo': 1980, 'evento:': 1118, 'mini': 1848, 'taller:': 2734, 'python': 2373, '/06/2019': 32, 'unai': 2889, 'simon': 2657, 'esp': 1066, 'garcias': 1268, 'cualquiera': 733, 'gana': 1262, 'quiero': 2392, 'disparar': 919, 'joder': 1577, 'putos': 2371, 'besos': 335, 'pude': 2347, 'darte': 768, 'hostias': 1417, 'puto': 2370, 'cada': 409, 'caricia': 477, 'hacerte': 1364, 'dispararrrrr': 920, '😫': 3130, 'dañaron': 776, 'domingo': 932, 'ibamos': 1441, 'transmision': 2846, 'youtube': 3051, 'sentaria': 2605, 'colegios': 592, 'cubren': 736, 'especiales': 1076, 'derecho': 839, 'histerica': 1402, 'loca': 1696, 'feminazi:': 1183, 'nuevas': 1979, 'etiquetas': 1111, 'intelectualmente': 1526, 'inquieta': 1515, 'mañana': 1800, 'china': 544, 'salen': 2548, 'darse': 767, 'mano': 1763, 'empatan': 988, 'ambas': 158, 'selecciones': 2595, 'clasifican': 568, 'puntos': 2362, 'grupo': 1321, 'b': 304, 'fifawwc': 1194, 'ademas': 95, 'avisando': 291, 'van': 2933, 'version': 2973, 'similar': 2655, 'venta': 2957, 'tienda': 2785, 'cd': 516, 'project': 2325, 'gasten': 1271, 'fortuna': 1222, 'piden': 2180, 'insulto': 1523, 'decir': 793, 'raul': 2411, 'bravo': 373, 'cabecilla': 396, 'trama': 2841, 'caso': 494, 'cabezabuque': 400, 'grande': 1312, 'conoce': 652, 'lafabrica': 1624, 'olvidamos': 2015, 'generas': 1279, 'escenario': 1056, 'comuns-psc': 634, 'valga': 2925, 'comuns': 633, 'erc': 1050, 'parecido': 2082, 'psc': 2340, 'escogio': 1058, 'asegurarse': 248, 'cambio': 436, 'entretenme': 1039, 'selectividad': 2596, 'dejado': 809, 'ultimos': 2887, 'estudiantes': 1103, 'promediaban': 2326, 'puntuacion': 2363, 'menor': 1813, 'concreto': 643, '27': 43, 'supone': 2724, 'decimas': 791, 'peor': 2138, 'año': 301, 'duchita': 944, 'habria': 1355, 'callese': 429, 'burro': 385, 'libros': 1657, 'tuitee': 2867, 'invita': 1540, 'tomar': 2819, 'semanas': 2599, 'vienen': 2992, '🙄': 3132, 'muda': 1897, 'vecina': 2942, 'tocapelotas': 2805, 'celebrar': 520, '🍸': 3093, 'video': 2987, 'comiendo': 609, 'melon': 1811, 'c:': 394, 'murillo': 1915, 'trump': 2864, 'ejercio': 974, 'libertad': 1654, 'culo': 746, 'princesa': 2307, 'huawei': 1421, 'emborrachada': 982, 'drogada': 940, 'primero': 2303, 'preñada': 2300, 'fuerza': 1244, '(al': 7, 'principio)': 2308, 'dijo': 899, 'sabedora': 2535, 'caracter': 472, 'diabolico': 875, 'engendro': 1017, 'suda': 2712, 'coño': 704, 'castrado': 502, 'padre': 2046, 'nacido': 1921, 'duchate': 943, 'cerdo': 529, 'efimera': 970, 'vidatan': 2986, 'corta': 693, 'ire': 1544, 'avila': 289, 'poquito': 2251, 'hierbajos': 1391, 'renacido': 2461, 'pequeñas': 2140, 'hojas;el': 1407, 'agua': 110, 'riachuelo': 2495, 'corre': 690, 'fuerza;los': 1245, 'pajaros': 2056, 'andan': 185, 'porai(vienen': 2253, 'rato)': 2410, 'guaidog': 1322, 'vida': 2985, 'oficio': 2002, 'dificil': 888, 'empieza': 994, 'aprenderlo': 217, 'morirse': 1884, 'flipo': 1212, '🔵': 3116, 'aspectos': 253, 'curiosos': 751, '(e': 9, 'incluso': 1485, 'peligrosos)': 2129, 'cultura': 748, 'laboral': 1617, 'japon': 1571, 'serio': 2618, 'describa': 848, 'cuadro': 729, 'perdono': 2150, 'ladron': 1622, 'ladrones': 1623, 'familia': 1161, 'quieres': 2391, 'respete': 2475, 'vete': 2977, 'cagar': 416, 'tendra': 2757, 'atun': 272, '100': 37, 'debes': 784, 'vivo': 3013, 'morir': 1883, 'nacional': 1923, 'romano': 2514, 'merida': 1828, 'arquitecto': 235, 'rafael': 2399, 'moneo': 1874, 'arquitectura': 236, 'architecture': 228, 'art': 240, 'escultura': 1064, 'sculpture': 2578, 'architecturephotography': 229, 'spain2019': 2694, 'spain': 2693, 'demagoga': 821, 'cataluña': 508, 'independizar': 1495, 'cabe': 395, 'ninguna': 1953, 'intervencionismo': 1536, 'internacional': 1533, 'final': 1201, 'provocara': 2333, 'devuelva': 873, 'ultimo': 2886, 'centimo': 524, 'dimos': 900, 'construimos': 663, 'primer': 2301, 'ferrocarril': 1190, 'primera': 2302, 'red': 2434, 'electrica': 977, 'callar': 425, 'sortean': 2688, 'semana': 2598, 'finca': 1204, 'goleta': 1297, 'pasada': 2095, 'vale': 2922, '€': 3077, 'participar': 2090, 'trivial': 2860, 'disponible': 921, 'dispositivos': 923, 'traves': 2854, 'sitio': 2664, 'web': 3035, 'sorteo': 2689, 'heras': 1381, 'alves': 154, 'fumo': 1248, 'cafu': 415, 'lahm': 1627, 'majestad:': 1741, 'proximo': 2334, 'junio': 1591, 'consagre': 657, 'usted': 2912, 'sagrado': 2546, 'corazon': 685, 'realmente': 2418, 'vivimos': 3011, 'simulacion': 2659, '42': 46, 'criminales': 721, '🇺🇲': 3086, 'peli': 2128, 'comica': 607, 'loro': 1704, 'linea': 1666, 'editorial': 964, 'movido': 1892, 'carrilbicista': 485, 'madrileño': 1734, 'cuatro': 735, 'traumas': 2852, 'dan': 761, 'poder': 2222, 'planificar': 2203, 'decidir': 789, 'extraña': 1143, 'gentuza': 1286, 'posible': 2263, 'formas': 1220, 'respetables': 2473, 'funcion': 1249, 'circunstancias': 559, 'piensalo': 2183, 'opinion': 2025, 'quedando': 2377, 'pelin': 2130, 'clasistas': 569, 'opiniones': 2026, 'respecto': 2471, 'encuesta': 1011, 'farmaceutico': 1168, 'acritud': 86, 'foto': 1223, 'pinacoteca': 2190, '17': 41, 'ferrari': 1188, 'honda': 1411, 'tornado': 2826, 'triste': 2857, 'catalufo': 506, 'definicion': 806, 'basura': 325, 'populismo': 2249, 'diputados': 904, 'upodemos': 2901, 'andalucia:': 182, 'madrid:': 1732, 'baleares:': 308, 'aragon:': 225, 'asturias:': 257, 'canarias:': 447, 'extremadura:': 1144, 'rioja:': 2499, 'murcia:': 1914, 'navarra:': 1932, 'castilla-leon:': 501, 'castilla-lamancha:': 500, 'cantabria:': 460, 'andalucia': 180, 'dato': 772, 'angel': 189, 'posss': 2265, 'crees': 712, 'manera': 1759, 'crecer': 708, 'mafioso': 1735, 'causan': 512, 'rechazo': 2422, 'putas': 2369, 'cojones': 585, 'barca': 315, 'transferir': 2843, 'dembele': 824, 'jugador': 1586, 'arranca': 237, 'xabia': 3043, 'escuela': 1063, 'verano:': 2961, 'fake': 1152, 'news': 1948, 'posverdad': 2269, 'catedra': 510, 'transparencia': 2847, 'upv': 2902, 'lema': 1643, 'edicion': 962, 'deconstruyedo': 798, 'realidad': 2415, 'impacto': 1468, 'fakenews': 1153, 'posverdad”': 2270, 'coorganizada': 682, 'junto': 1594, 'uoc': 2899, 'segun': 2588, 'enviar': 1042, 'americanos': 163, 'pretende': 2299, 'controlar': 675, 'daño': 777, 'generan': 1278, 'fauna': 1171, 'silvestre': 2652, 'agricultura': 109, 'campesina': 445, 'plantado': 2204, 'creia': 713, 'topado': 2825, 'microfono': 1837, 'aranda': 226, 'probaria': 2314, 'presunto': 2298, 'acuerdo': 92, 'resultado': 2484, 'valladolid': 2927, 'vs': 3028, 'volviendo': 3019, 'bienvenido': 342, 'club': 576, 'atleza': 269, 'vacaciones': 2918, '*': 22, 'rodeada': 2509, 'apuntes': 221, 'quemarlos': 2382, 'hola': 1408, 'puedo': 2353, 'feliz': 1178, 'tomate': 2820, 'bandera': 310, 'españita': 1071, 'conquistar': 656, 'enseñarla': 1023, 'berlin': 333, 'primos': 2306, 'coruña': 697, 'galicia': 1258, 'sigan': 2644, 'peleando': 2125, 'pie': 2182, 'jodida': 1578, 'desaceleracion': 841, 'economica': 959, 'alcanza': 134, 'cubrir': 738, 'gastos': 1272, 'minimos': 1849, 'defendiendo': 804, 'intereses': 1531, 'rojos': 2513, 'tres': 2856, 'dias': 876, '👍': 3103, 'dar': 763, 'reforma': 2443, '(probablemente': 16, 'ilegal)': 1460, 'meterle': 1832, 'puro': 2364, 'olvide': 2016, 'acaso': 79, 'dirige': 908, 'policia': 2233, 'municipal': 1911, 'prohibido': 2324, '¡ya': 3072, 'huele': 1423, 'estilo': 1097, '🌴': 3090, 'looksemanal': 1701, 'ragged': 2400, 'esperandome': 1081, 'cama': 431, 'sonrisa': 2685, 'traidora': 2839, 'catanazis': 509, '😠': 3127, 'jajajaj': 1558, 'picapleitos': 2173, 'vendido': 2952, 'separatas': 2608, 'nazi': 1933, 'catalan': 504, 'muero': 1900, 'amorfo': 170, 'jajajajaaj': 1560, 'kaila': 1607, 'viajarenfamilia': 2981, 'experiencias': 1133, '¡transmite': 3070, 'pasion': 2100, 'turismo': 2869, 'hijos': 1398, 'hijas': 1395, 'conviertan': 679, 'exploradores': 1137, '👶': 3108, '🌍': 3088, 'jamas': 1569, 'votaria': 3023, 'elegir': 979, 'abascal': 60, 'vals': 2930, 'macron': 1727, 'quedo': 2381, 'primeros': 2304, 'engañabobos': 1015, 'riveleta': 2503, 'vil': 2998, 'fantoche': 1167, 'aseguro': 249, 'importantes': 1477, 'juzga': 1603, 'abuela': 71, 'llegada': 1681, 'mala': 1743, 'noticia': 1975, 'pesic': 2169, 'continue': 672, 'frente': 1233, 'barca:': 316, 'parar': 2077, 'laso': 1630, 'escribir': 1060, 'veo': 2958, 'cuneta': 750, 'pertenece': 2168, 'eta': 1105, 'comunistas': 632, 'vuelvo': 3032, 'voy': 3026, 'jj': 1576, 'entrenes': 1037, 'animal': 192, 'llamar': 1676, 'tio': 2789, 'tocapelotasel': 2807, 'paradondeoblak': 2074, 'creido': 715, 'personaje': 2163, 'rrss': 2519, 'difunde': 890, 'verguenza': 2969, 'ajena': 124, 'harto': 1376, 'bobadas': 352, 'bobomerengueq': 353, 'hastio': 1378, 'periolisto😩': 2156, 'iluminado_33': 1462, 'pusieras': 2365, 'estarias': 1095, 'k': 1606, 'seguidores': 2584, 'cuidado': 745, 'menuda': 1820, 'tipeja': 2790, 'cole': 589, 'sincronizada': 2661, 'mauricio': 1795, 'agradecemos': 107, 'queremos': 2384, 'aconsejo': 84, 'tomes': 2821, 'avion': 290, 'vayas': 2938, 'gatasfloras': 1274, 'lleno': 1686, 'forros': 1221, ';0;': 56, 'truco': 2862, 'meter': 1831, 'congelador': 650, 'toallita': 2801, 'humeda': 1433, 'super': 2721, 'fresquita': 1235, 'nuca': 1977, 'vuelves': 3031, 'mezcla': 1835, 'personas': 2167, 'comun': 627, 'salvo': 2564, 'veces': 2941, 'recuerdos': 2432, 'limitan': 1663, 'presente😐': 2293, 'anillo': 191, 'pandora': 2066, 'hermoso': 1385, 'ponga': 2244, 'sienta': 2638, 'gusta': 1335, 'ponersela': 2242, 'guapo': 1324, 'palante': 2061, '😊': 3121, 'juego': 1585, 'sucio': 2711, 'disfrutamos': 914, 'lugar': 1711, 'ideal': 1445, 'descansando': 846, 'medio': 1803, 'ambiente': 159, 'combina': 597, 'natural': 1930, '😍': 3122, '¡hoy': 3066, 'aurora': 275, 'fuerteventura': 1243, 'cabeza': 399, 'peluca': 2133, 'perdiste': 2146, 'cabello': 397, 'extremo': 1146, 'aprende': 215, 'trabajador': 2832, 'gozar': 1305, 'descanso': 847, 'habiles': 1346, 'ingresa': 1510, 'legalapp': 1637, 'yousolegalapp': 3050, '&gt;': 3, 'rotundamente': 2516, 'yoga': 3048, '&amp;': 2, 'picos': 2176, 'europa': 1113, 'respetar': 2474, 'creo': 717, 'busca': 387, 'juro': 1597, 'porto': 2261, 'terminan': 2767, 'mil': 1845, 'buena': 377, 'persona': 2162, 'tierra': 2786, 'tragame': 2836, 'escupeme': 1065, 'arena': 230, 'llevo': 1692, 'conduciendo': 646, 'amo': 167, 'odio': 1998, 'pegado': 2123, 'camino': 439, 'separatecabron': 2609, '😒': 3124, 'abogado': 62, 'tendrias': 2760, 'leido': 1640, 'consttucion': 664, 'pides': 2181, 'ramoncete': 2403, 'morroestufa😂': 1885, 'equivocado': 1048, 'lerdo': 1646, 'jejejeje': 1575, 'momento': 1870, 'quedado': 2375, 'grabado': 1306, '❤': 3081, 'bonita': 358, 'perder': 2144, 'fichaje': 1192, 'miedo': 1838, 'engancharte': 1014, 'hagamos': 1369, 'refieres': 2438, 'clip': 575, 'olimpica': 2013, '👌': 3102, '👏': 3104, '🏊': 3096, '\\u200d♂️': 3075, 'podido': 2225, 'comprar': 620, 'sumarme': 2719, 'semanasinplasticos:': 2600, 'grandes': 1313, 'cadenas': 411, 'supermercados': 2723, 'reto': 2486, 'teneis': 2761, 'liderar': 1660, 'vosotros': 3021, 'podemos': 2221, 'etiqueta': 1110, 'luna': 1715, 'siquiera': 2663, 'llegado': 1682, 'toneladas': 2822, 'dejadas': 808, 'humano': 1431, 'quisiera': 2393, 'rai': 2401, 'nau': 1931, 'democracia': 825, 'complejos': 616, 'reaccionemos': 2413, 'tarde': 2742, 'esque': 1087, 'spray': 2696, 'mancha': 1755, 'paredes': 2083, 'ajenas': 125, 'claro': 566, 'seguir': 2585, 'viendo': 2990, 'continua': 671, 'hundiendo': 1437, 'galapagar': 1255, 'yoconpabloiglesias': 3047, 'nueva': 1978, 'viñeta': 3015, 'orlando': 2036, 'lumbreras:': 1714, \"'logos'\": 5, 'saber': 2538, 'futbol': 1252, 'ves': 2976, 'color': 595, 'blanco': 348, 'olvido': 2018, 'repentino': 2467, 'burlando': 384, 'relajate': 2457, 'tomandote': 2818, 'cafe': 414, 'patio': 2109, 'rodeado': 2510, 'antiguedades': 199, 'completa': 617, 'pestaña': 2172, 'preguntado': 2280, 'farmacia': 1169, 'digo': 896, 'quedarse': 2379, '(real': 17, 'betis': 338, 'levante': 1651, 'ud)': 2883, 'disposicion': 922, 'carteles': 487, 'adornado': 100, 'ciudad': 561, 'diseñografico': 913, 'amenaza': 161, 'debieras': 786, 'denunciar': 832, 'escribio': 1059, 'empuje': 1000, 'chino': 545, 'ai': 120, 'wef19': 3038, 'artificialintelligence': 245, 'machinelearning': 1724, 'deeplearning': 802, 'carrera': 483, 'nlg': 1962, 'computervision': 626, 'armamentistica': 234, 'robotics': 2507, 'famosa': 1164, 'influenser': 1503, 'niño': 1960, 'autentico': 279, 'pagafantas': 2048, 'calor': 430, 'perdone': 2149, 'nacion': 1922, 'ignorante': 1454, 'belleza': 328, 'compleja': 615, 'salida': 2550, 'real': 2414, 'ee': 966, 'encadena': 1004, 'mayor': 1796, 'periodo': 2155, 'crecimiento': 709, 'actor': 89, 'premier': 2284, 'unica': 2892, 'f': 1147, 'records': 2428, 'vaciles': 2919, 'echo': 957, 'jajajajaj': 1561, 'feminista': 1185, 'diferente': 886, 'clarito': 565, 'panoramica': 2068, 'florentino': 1213, 'gooooool': 1302, 'recre': 2430, 'ostia': 2040, 'detras': 871, 'aprender': 216, 'andar': 187, 'huella': 1424, 'huellas': 1425, 'saben': 2537, 'destino': 866, 'ja': 1553, '😅': 3119, 'dudas': 946, '40': 45, 'psoe': 2341, 'dandole': 762, 'oportunidades': 2028, 'respeta': 2472, 'largate': 1629, 'dijiste': 898, 'podras': 2229, 'dedicar': 799, 'lacitos': 1618, 'amarillos': 156, 'susana': 2727, 'griso': 1320, 'salimos': 2553, 'otero': 2042, 'guardo': 1326, 'pequeño': 2141, 'pueblo': 2348, 'palentina': 2062, 'recuerda': 2431, 'permitimos': 2159, 'jajajajajajajaja': 1564, 'mortal': 1886, 'cinico': 558, 'cosas': 700, 'preguntas': 2282, 'frecuentes': 1232, 'master': 1789, 'interuniversitario': 1535, 'ciencia': 551, 'datos': 773, 'in': 1483, 'regalo': 2448, 'regalale': 2445, 'visita': 3005, 'cultural': 749, 'universitaria': 2897, 'autonomistas': 282, 'cano': 455, 'cerramos': 531, 'h': 1342, 'entrada': 1032, 'libre': 1655, 'prado': 2275, 'rubens': 2523, 'leon': 1644, 'dentro': 830, 'gira': 1293, 'conmemora': 651, 'bicentenario': 339, 'castilla': 499, 'sola': 2678, 'bloquear': 351, 'twitter': 2879, 'ojala': 2008, 'muera': 1898, 'mama': 1749, 'impoluto': 1472, 'porcino': 2255, '🤣': 3136, '🐷': 3100, 'australianos': 277, 'vencen': 2949, 'estrecho': 1101, 'gibraltar': 1290, 'turra': 2873, 'dado': 760, 'pedroque': 2122, 'charla': 536, 'ted': 2751, 'uso': 2910, 'inteligencia': 1527, 'artificial': 244, 'datascience': 771, 'tecnologia': 2750, 'mas:': 1788, 'fiesta': 1193, 'sidra': 2635, 'imagenes': 1463, 'pinta': 2191, 'erreserbak': 1051, 'reservas': 2469, 'tolosaldeatour': 2816, 'txinpartaelkartea': 2880, 'coleta': 593, 'aprobaba': 219, 'mt': 1894, 'favor': 1172, '😭': 3131, 'diferencia': 885, 'borbon': 362, 'noche': 1965, 'meterme': 1833, 'risa': 2501, 'panorama': 2067, 'blog': 350, '❯': 3082, 'recetas': 2421, 'tartar': 2744, 'disfrutar': 915, 'platos': 2209, 'frescos': 1234, 'nutritivos': 1984, 'verano': 2960, 'subidola': 2708, 'contenta': 668, 'gestiony': 1288, 'hablar': 1351, 'subido': 2707, 'tolosa': 2815, 'apaga': 204, 'brasa': 372, 'ruego': 2524, 'tutee': 2874, 'hizo': 1405, 'ud': 2882, 'ccaa': 515, 'ponen': 2240, 'textos': 2777, 'argumentativos': 233, 'literarios': 1671, 'ejemplo': 973, 'pide': 2179, 'tendran': 2758, '*sesgo*': 24, 'pongo': 2247, 'ebau': 953, 'cansais': 457, 'novia': 1976, 'vernos': 2972, 'necesitamos': 1939, '-': 26, 'espacio': 1067, 'tv': 2876, 'abierta': 61, 'hablen': 1353, 'periodista': 2154, 'tantas': 2739, 'vueltas': 3029, 'palabras': 2058, 'rebuscadas': 2419, 'haciendose': 1366, 'letrado': 1648, 'conciso': 642, 'preciso': 2277, 'suban': 2706, 'redes': 2436, 'revisarlo': 2492, '👏🏻': 3105, 'insisten': 1516, 'vecinos': 2944, 'vigilantes': 2994, 'denuncias': 833, 'atienden': 267, 'mismos': 1860, 'sitios': 2665, 'siguen': 2647, 'vendiendo': 2953, 'drogas': 941, 'temas': 2754, 'conocimiento:': 654, 'usos': 2911, 'jajajajajavaya': 1566, 'felicito': 1176, 'maillo': 1739, 'deja': 807, 'escaño': 1055, 'coordinacion': 681, 'iu': 1550, 'solicita': 2679, 'reingreso': 2455, 'profesor': 2320, 'latin': 1632, 'pongas': 2246, 'rata': 2407, 'mora': 1881, 'pesimo': 2171, 'barriobajeroque': 320, 'asquerosofuera': 254, 'salvame': 2562, 'compañero': 613, 'presidente': 2294, 'opina': 2024, 'cosa;': 699, 'islascanarias': 1549, 'zona': 3057, 'saludable': 2559, 'impactante': 1467, 'turistica': 2871, 'señoras': 2628, 'señores': 2629, 'politicos': 2235, 'm': 1718, 'hij': 1392, 'niet': 1949, 'sobrin': 2673, 'u': 2881, 'equivalencia': 1047, 'genetica': 1280, 'hagais': 1368, 'obrerodederechas': 1991, 'everywhere': 1119, 'manda': 1756, 'webs': 3036, 'responde': 2477, 'seguiras': 2587, 'cambios': 437, 'inmediatos': 1513, 'pastar': 2104, 'denegado': 828, 'turno': 2872, 'palabra': 2057, 'comiendome': 610, 'ancho': 178, 'conduces': 645, 'caja': 419, 'manual': 1768, 'motor': 1889, 'finde': 1205, 'toco': 2809, 'darle': 765, 'apicloudspeech': 208, 'google': 1301, 'rstats': 2520, 'analizando': 177, 'presentacion': 2291, 'dejando': 811, 'tema': 2753, 'tecnico': 2749, 'dejo': 817, 'perla': 2157, 'impuestos': 1481, 'paso': 2101, 'factura': 1151, 'oler': 2012, 'habitacion': 1348, 'deberia': 782, 'salir': 2555, 'examenes': 1125, 'pactas': 2044, 'etarras': 1106, 'anciano': 179, 'cabrera': 404, 'mira': 1853, 'linda': 1665, 'virgen': 3004, 'jajaja': 1557, 'llevas': 1690, 'aguantando': 111, 'callado': 424, 'liarla': 1653, 'conozco': 655, '¡echa': 3063, 'vistazo': 3006, 'playstation': 2213, 'ps4live': 2339, '(gran': 13, 'turismo™sport)': 2870, 'live': 1672, 'at': 261, 'buen': 376, '🎼': 3094, 'veras': 2963, 'hara': 1372, ':)': 54, 'rugby': 2525, 'proclamado': 2317, 'seven': 2622, 'series': 2617, 'jugamos': 1587, 'versiones': 2974, 'cuenten': 741, 'john23': 1581, 'cago': 417, 'hormigas': 1415, 'mmb': 1863, '💡': 3109, 'pelear': 2126, 'pareja': 2084, 'ayuda': 295, '(si': 18, 'sabemos': 2536, 'hacerlo)': 1362, 'merezco': 1827, 'empatia': 989, 'vais': 2920, 'magrebies': 1737, 'chavista': 540, 'bolivarianos': 356, 'alumnos': 153, 'dislexia': 918, 'podran': 2228, 'faltas': 1160, 'ortografia': 2038, 'cs': 728, 'oportunidad': 2027, 'oro': 2037, 'desmarcarse': 853, 'publicamente': 2344, 'ideologia': 1446, 'extremista': 1145, 'podria': 2230, 'gobernar': 1295, 'imponiendo': 1473, 'condiciones': 644, 'aislado': 123, 'separatistas': 2610, 'nacionalistas': 1924, 'populistas': 2250, 'semejante': 2601, 'guita': 1333, 'ingenios': 1509, 'quiebra': 2388, 'estabamos': 1089, 'contentos': 669, 'pensando': 2135, 'habias': 1345, 'importa': 1474, 'esperpento': 1085, 'ex': 1122, 'famoso': 1165, 'despechada': 855, 'delante': 818, 'usando': 2907, 'premian': 2283, 'pobres': 2218, 'madres': 1729, 'coraje': 684, 'ofenden': 2000, 'autenticas': 278, 'vomitivo': 3020, 'aplicada': 211, 'obtener': 1993, 'cabronadas': 406, 'futuro': 1254, 'tocar': 2808, 'hermano': 1383, 'vecino': 2943, 'lejano': 1641, 'entendes': 1026, 'simplemente': 2658, 'entender': 1024, 'toca': 2803, 'entregaran': 1035, '000': 34, 'firmas': 1208, 'venga': 2954, 'haceis': 1358, 'internet': 1534, 'of': 1999, 'things': 2780, 'institute': 1518, 'centro': 526, 'formacion': 1219, 'postgrado': 2267, '%': 1, 'iot': 1541, 'instituto': 1519, 'impartiran': 1469, 'empresarial;': 997, 'executive': 1129, 'deseando': 850, 'evoluciona': 1121, 'reciclad': 2424, 'residuos': 2470, 'humanos': 1432, 'salvar': 2563, 'planeta': 2202, 'ayudar': 296, 'calles': 428, 'libres': 1656, 'ministerio': 1850, 'interior': 1532, 'ayer': 292, 'cabo': 403, 'entrega': 1034, 'pilones': 2189, 'acompañamiento': 83, 'siembra': 2636, 'municipio': 1913, 'villa': 2999, 'guatemala': 1328, 'parte': 2088, 'extensionismo': 1141, 'actividad': 87, 'participaron': 2091, 'hombres': 1410, 'mujeres': 1905, 'amas': 157, 'votar': 3022, 'regalarte': 2447, 'politiquero': 2236, 'estofa': 1099, 'poltronas': 2237, 'pp': 2274, 'pagais': 2051, 'precio': 2276, 'mantenerlas': 1766, 'enhorabuena': 1019, 'lou': 1706, 'maillot': 1740, 'clasificacion': 567, 'das': 769, 'nivel': 1956, 'anakin': 175, 'cambiase': 434, 'bando': 311, 'tweets': 2878, 'tristes': 2859, ':(': 53, 'seguiran': 2586, 'tragando': 2838, 'serie': 2616, 'penita': 2134, 'garzonun': 1269, 'manos': 1764, 'd': 757, 'iglesiasno': 1452, 'anguitaen': 190, 'finy': 1206, 'rusiapues': 2529, 'mejorando': 1806, 'momentostodos': 1871, 'mugre': 1903, 'debajo': 779, 'alfombrapero': 139, 'llenado': 1685, 'comprate': 621, 'niñatos': 1959, 'reniegan': 2463, 'ramos': 2404, 'idolatran': 1449, 'mourinho': 1891, 'echaron': 956, 'portero': 2260, 'casillas': 493, 'aficionados': 105, 'hacen': 1359, 'peaton': 2116, 'responsabilidades': 2479, 'asumirlas': 259, 'esperar': 1082, 'rojo': 2512, 'autos': 283, 'detenido': 869, 'completo': 618, 'cruzar': 727, 'utilizar': 2914, 'pasos': 2102, 'cebra': 517, 'puentes': 2355, 'peatonales': 2117, 'avenidas': 286, 'peatonresponsable': 2118, 'emocion': 984, 'linguista:': 1667, 'dicese': 881, 'asistes': 251, 'masterclass': 1790, 'gran': 1311, 'filologa': 1198, 'manager': 1754, 'general': 1276, 'explica': 1136, 'ia': 1439, 'relevancia': 2459, 'linguistica': 1668, 'diferentes': 887, 'mercados': 1823, 'welovelinguistics': 3039, 'techtalks': 2747, '¡como': 3060, 'estara': 1093, 'negra': 1943, 'conciencia': 640, 'emitir': 983, 'comunicado': 629, 'pilla': 2187, 'decirtelo': 796, 'retrasado': 2488, 'malparido': 1748, 'chupacables': 549, 'cabronazo': 407, 'ocurren': 1995, 'mamon': 1753, 'bicho': 340, 'casi': 492, 'mucha': 1895, 'pasta': 2103, 'central': 525, 'content': 667, 'autocoding': 281, 'specialist': 2695, 'barcelona': 317, '¡derechita': 3062, 'hazle': 1379, 'hijoputa': 1397, 'cancer': 450, 'ok': 2010, 'trabajar': 2834, '14': 38, 'silvia': 2653, 'ferreira': 1189, 'lider': 1659, 'planear': 2201, 'caros': 482, 'mio': 1852, 'rico': 2497, 'irte': 1548, 'alli': 145, 'nunk': 1983, 'dormi': 935, 'sere': 2614, 'avatar': 285, 'anime': 195, 'lopez': 1702, 'multitud': 1907, 'concentrada': 639, 'cartagena': 486, 'pacto': 2045, 'digas': 892, 'tonterias': 2823, 'tos': 2829, 'gatillossurete': 1275, 'netflix': 1946, 'feliz😊': 1180, 'supuesto': 2725, 'debiera': 785, 'averiguar': 288, 'filtrado': 1199, 'deba': 778, 'justificar': 1600, 'gestion': 1287, 'asunto': 260, 'empezando': 992, 'bola”': 355, 'apatrida': 206, 'quitando': 2395, 'luz': 1717, 'hora': 1412, 'bigdata': 344, 'algoritmos': 140, 'predecir': 2278, 'enfermedades': 1012, 'exacerbaciones': 1123, 'prnoticias': 2313, 'esalud': 1053, 'termino': 2770, 'septiembre': 2611, 'trastear': 2850, 'unreal': 2898, 'recomendaciones': 2425, 'tutoriales': 2875, 'diseñar': 912, 'tamaños': 2735, 'tiles': 2787, 'sprites': 2697, 'recomendados': 2426, 'pc': 2115, 'trucos': 2863, 'etc': 1107, 'padres': 2047, 'llamo': 1679, 'vendedor': 2950, 'cogi': 583, 'telefono': 2752, 'empece': 990, 'insultarte': 1522, '(gilipollas': 11, 'puta)': 2368, 'motivo': 1888, 'aparente': 205, 'pequeñoy': 2142, 'gallega': 1259, 'obligo': 1986, 'verlo': 2971, 'disculparme': 909, 'levantate': 1650, 'creyendo': 718, 'buenosdias': 382, 'buenmiercoles': 380, 'añoglorioso': 302, 'terraformacion': 2772, 'nasa': 1928, 'cambiar': 432, 'clima': 572, 'marte': 1785, 'hacerlo': 1361, 'habitable': 1347, 'medioambiente': 1804, 'oscuridad': 2039, 'naciste': 1925, 'extraordinaria': 1142, 'suerte': 2718, 'conceden': 635, 'equipo': 1046, 'campeonato': 443, 'sincro': 2660, 'villaviciosadeodon': 3001, 'lunes': 1716, 'bilbao': 345, '¡y': 3071, 'pisar': 2195, 'guggenheim': 1330, 'binomio': 346, 'rodea': 2508, 'capital': 464, 'vizcaya': 3014, 'insuperable': 1524, 'euskadi': 1115, 'tomamos': 2817, 'posesion': 2262, 'concejales': 638, 'xi': 3045, 'legislatura': 1639, 'arges': 231, 'pistoletazo': 2198, 'duro': 952, 'argeseñ': 232, 'realizar': 2417, 'oposicion': 2030, 'critica': 722, 'constructiva': 661, 'prometemos': 2327, 'luchar': 1709, '+social': 25, 'viva': 3008, '🙆': 3133, 'sserenita': 2701, 'relato': 2458, 'codazo': 582, 'dejen': 815, 'mientras': 1840, 'disfruten': 916, 'hagan': 1370, 'donald': 933, 'patan': 2106, 'macarra': 1720, 'francis': 1230, 'jajaaja': 1555, 'españoles': 1075, 'españo': 1072, 'urgen': 2905, 'eternas': 1109, 'dejara': 813, 'climatico': 573, 'moderacion': 1866, 'jaajajajjaja': 1554, 'progreso': 2323, 'misma': 1858, 'jajjajajajajja': 1568, 'alba': 129, 'platini': 2208, 'hicieron': 1390, 'buenisimo': 379, 'conoce”': 653, 'preparad@': 2288, 'marcha': 1776, 'senderista': 2604, 'nocturna': 1967, 'bandolera': 312, '🌌': 3087, '🚶\\u200d': 3135, '🚶': 3134, '🏁': 3095, 'julio': 1590, 'gambrinus': 1261, ':00': 55, 'horas': 1413, 'recorrido': 2429, 'kms': 1612, 'info:': 1505, 'amontillate': 168, 'montilla': 1880, 'deporte': 834, 'iglesias_': 1451, 'iglesios': 1453, 'vividor': 3009, 'estariais': 1094, 'regional': 2449, 'charlatan': 537, 'engañando': 1016, 'andaluza': 183, 'viviendo': 3010, 'hice': 1389, 'comenzamos': 602, 'exposiciones': 1139, 'mitologica': 1861, 'alumnas': 151, 'humanidades': 1430, 'bachillerato': 305, 'comunica': 628, 'oralidad': 2032, 'dejes': 816, 'esteis': 1096, 'hacerse': 1363, 'adolf': 99, 'hitler': 1404, 'rp': 2517, 'esta:': 1088, 'podeis': 2220, 'darme': 766, 'sb': 2576, 'directamente': 905, 'estais': 1091, 'comparando': 611, 'genocida': 1284, 'reina': 2454, 'emperador': 991, 'xd': 3044, 'primo': 2305, 'zidane': 3055, 'perfecto': 2152, 'despliegue': 861, 'cancha': 451, 'balon': 309, 'maravilla': 1772, 'cubriendo': 737, 'marcelo': 1775, 'carvajal': 488, 'oportunista': 2029, 'dispuesta': 924, 'costa': 703, 'cambie': 435, 'modo': 1867, 'futbolista': 1253, 'hernando': 1387, 'rafa': 2398, 'aprecian': 214, 'despidos': 859, 'negro': 1944, 'accidentes': 80, 'consulte': 665, 'expertos': 1135, 'esperemos': 1083, 'pago': 2053, 'clausula': 570, 'inepto': 1498, 'zoido': 3056, 'euro': 1112, 'parlamento': 2086, 'chucrut': 547, 'alsaciay': 147, 'declaro': 797, 'juicio': 1589, 'enterara': 1027, 'desagradable': 842, 'aznarcazurro': 299, '📲:supuse': 3113, 'sabia': 2540, 'suena': 2716, '📲:si': 3112, 'entonces': 1029, 'huevo': 1427, 'atreves': 271, 'emoji': 986, 'aguante': 112, 'campeona': 442, 'beber': 326, 'porq': 2257, 'iba': 1440, 'dlante': 927, 'hervias': 1388, 'dicen': 878, 'roberto': 2506, 'gonzalez': 1300, 'candidato': 453, 'muni': 1910, 'capitalina': 465, 'llega': 1680, 'z11': 3052, 'radio': 2396, 'sonora': 2684, 'deseo': 851, 'servir': 2620, 'mantiene': 1767, 'municipalidad': 1912, 'genial': 1281, 'eduardo': 965, 'mente': 1815, 'pivon': 2199, 'amiga': 164, 'respuesta': 2480, 'periodismo': 2153, 'cadena': 410, 'miserables': 1857, 'personajes': 2164, 'goya': 1304, 'ascension': 246, 'pico': 2175, 'boum': 371, 'valle': 2928, 'remuñe': 2460, 'benasque': 330, 'exito': 1131, 'alta': 148, 'receta': 2420, 'tortilla': 2828, '🍰': 3092, 'regalanos': 2446, 'retweet': 2489, '🍧': 3091, 'postres': 2268, 'dulces': 950, '¡yo': 3073, '¡con': 3061, 'uf': 2884, 'tia': 2782, 'pillas': 2188, 'muñecos': 1917, 'problemas': 2316, 'realisimos': 2416, 'ikurriña': 1459, 'balcon': 307, 'felipe': 1177, 'construccion': 660, 'refinerias': 2439, 'aprobaria': 220, 'salieron': 2552, 'terror': 2774, 'crema': 716, 'nivea': 1955, 'fria': 1236, 'cuerpo': 742, 'sandwiches': 2566, 'enlatado': 1020, 'empanadas': 987, 'cazon': 513, 'santiago': 2570, 'mariño': 1784, 'parque': 2087, 'atardecer': 264, 'griego': 1318, 'bonitos': 359, 'infecciones': 1500, 'sexual': 2625, 'salud': 2558, 'comentario': 600, 'encuentro': 1010, 'atinado': 268, 'pongan': 2245, 'aire': 121, 'infectamos': 1501, 'ratas': 2408, 'infectar': 1502, 'tocando': 2804, 'huevos': 1428, 'mentiras': 1818, 'sangre': 2567, 'cifras': 553, 'salirrr': 2556, 'jeje': 1574, 'tolar': 2814, 'traidores-ras': 2840, 'brillan': 374, 'presencia': 2290, 'chivatos': 546, 'falsos': 1156, 'llevan': 1689, 'escrito': 1061, 'tirantes': 2795, 'payasocon': 2112, 'admiracion': 97, 'payasoseste': 2113, 'chufla': 548, 'cierre': 552, 'temporal': 2756, 'moma': 1869, 'finalidad': 1202, 'amplia': 172, 'renovacion': 2464, 'popular': 2248, 'crearan': 707, 'galerias': 1257, 'espacios': 1068, 'destinados': 865, 'espectaculos': 1078, 'parecer': 2080, 'prepa': 2287, 'pon': 2238, 'comas': 596, 'familias': 1163, 'encontrado': 1006, 'hogar': 1406, 'siguiente': 2648, 'trabajamos': 2833, 'puerto': 2358, 'lorca': 1703, 'totana': 2830, 'caravaca': 473, 'calasparra': 421, 'mula': 1906, 'cehegin': 519, 'dinos': 902, 'buscas': 389, 'ayudaremos': 297, 'encontrarlo': 1007, '🗝️': 3117, '🏠': 3099, '👏🏼': 3106, '👥': 3107, '•': 3076, 'inmobiliaria': 1514, 'morillas': 1882, 'chicas': 542, 'perdona': 2148, 'hablas': 1352, 'mientas': 1839, 'graduacion': 1309, 't': 2729, 'comer': 603, 'duele': 948, 'dieta': 884, 'aula': 273, 'convertira': 677, 'setien': 2621, 'despedido': 856, 'difieren': 889, '👉': 3101, 'transformaciondigital': 2844, 'fracaso': 1226, 'sacan': 2544, 'the': 2778, 'theory': 2779, 'terraprim': 2773, 'ampurdan': 173, 'servicio': 2619, 'ofrecemos': 2004, 'gutbit': 1341, 'blanqueo': 349, 'c’s': 756, 'jodido': 1579, 'cansas': 458, 'malas': 1744, 'malisimas': 1745, 'entrevistas': 1040, 'paladin': 2060, 'expresion': 1140, 'destruyes': 867, 'literalmente': 1670, 'imposible': 1478, 'frio': 1238, 'termine': 2769, 'humilde': 1435, 'ira': 1543, \"c's\": 393, 'vereis': 2967, 'saludos': 2561, '(fortnite)': 10, 'partes': 2089, '𝒥ℯ𝓁𝒾𝓏': 3084, '𝒽ℴ𝓎♥︎': 3085, 'puerco': 2356, 'corral': 689, 'rastrajoso': 2406, 'revientacabezas': 2491, 'muerdepiedras': 1899, 'usa': 2906, 'puente': 2354, 'reto:': 2487, 'incorporar': 1491, 'matones': 1794, 'cordero': 686, 'terminar': 2768, 'roja': 2511, 'maneras': 1760, 'arbitro': 227, 'permisivo': 2158, 'playoff': 2212, 'ultima': 2885, 'frase': 1231, 'recibio': 2423, 'ogro': 2006, 'sobra': 2670, 'cabias': 401, 'm2': 1719, 'albano': 131, 'cutre': 754, 'macho': 1726, 'estimado': 1098, 'adjudicacion': 96, 'efectuo': 969, 'cordiales': 687, 'entrena': 1036, 'cualidades': 731, 'partida': 2092, 'sobran': 2671, 'gusto': 1339, 'juntos': 1595, 'asi😡': 252, 'escuche': 1062, 'cancion': 452, 'ida': 1444, 'andrea': 188, 'levy': 1652, 'concejala': 637, 'doy': 937, 'laconcejalaantropofaga': 1619, 'cambiaremos': 433, 'proyecto': 2335, 'urban': 2903, 'village': 3000, 'propone': 2329, 'modelo': 1865, 'sencillo': 2602, 'sostenible': 2690, 'combinaria': 598, 'privada': 2310, 'individuos': 1497, 'compartidos': 612, '(no': 15, 'acostumbro': 85, 'español)': 1074, 'catolico': 511, 'creyente': 719, 'escandalizarse': 1054, 'juzgar': 1604, 'actuan': 91, 'molesta': 1868, 'ignorarla': 1456, 'necesariamente': 1935, 'atea': 265, 'principios': 2309, 'ignoras': 1457, 'sibtuacion': 2632, 'sobrepasas': 2672, 'mundial': 1908, 'refugiadas:': 2444, 'voluntarios': 3016, 'pesima': 2170, 'maille': 1738, 'haga': 1367, 'arrepentirse': 238, 'comprometido': 623, 'salia': 2549, 'aeropuerto': 103, 'compañeros': 614, 'guiri': 1332, 'dicho': 882, 'low': 1707, 'cost': 702, 'airline': 122, 'oido': 2007, 'reido': 2453, 'segura': 2591, 'referia': 2437, 'baratos': 314, 'verdadojala': 2965, 'tire': 2797, 'abalos': 57, 'asuma': 258, 'papel:': 2071, 'reflexionar': 2441, 'horizonte': 1414, 'investidura': 1538, 'ataduras': 262, 'will': 3041, 'genio': 1283, 'inhumanaudha': 1511, 'informe': 1507, 'onuamnistia': 2020, 'interamnistia': 1529, 'espen': 1079, 'etcporque': 1108, 'habla': 1349, 'privilegips': 2312, 'cuñado': 755, 'casemiro': 491, 'james:': 1570, 'regrese': 2451, 'demostro': 826, 'cariño': 478, 'regresa': 2450, 'soñar': 2691, '(antonio': 8, 'machado)': 1722, 'despiertos': 860, 'empresarios': 998, 'economia': 958, 'empresas': 999, '(gracias': 12, 'millan': 1847, 'herce': 1382, 'foto)': 1224, 'cae': 412, 'lagrimita': 1626, 'conto': 673, 'organizando': 2034, 'comida': 608, 'menu': 1819, 'basicamente': 321, 'rato': 2409, 'patatas': 2107, 'salmorejo': 2557, 'llevamos': 1688, 'queso': 2387, 'tapear': 2740, 'benditas': 331, 'excursiones': 1127, 'biologia': 347, 'ft': 1241, 'termina': 2766, 'miercoles': 1841, 'acabo': 77, 'vertiginoso': 2975, 'viraje': 3003, 'ciudadanos': 562, 'escenas:': 1057, 'apoyar': 213, 'firmar': 1207, 'ultraderecha': 2888, 'pvp': 2372, 'mando': 1758, 'dañado': 775, 'funciona': 1250, 'l2': 1616, 'configure': 649, 'apunto': 222, 'l1': 1615, 'luis_solano-1998': 1712, 'epic': 1044, 'hago': 1371, 'dicendote': 879, 'crack': 705, 'jajaj': 1556, 'salio': 2554, 'piojoso': 2193, 'tipico': 2792, 'potemos': 2271, 'ocurrio': 1996, 'garbanzos': 1267, 'frutos': 1240, 'secos': 2580, 'gulag': 1334, 'cobrara': 578, 'malnacido': 1747, 'preguntando': 2281, 'irlandeses': 1545, 'encabrono': 1003, 'porcina': 2254, 'cancelame': 449, 'sariñena': 2575, 'monegros': 1873, 'huesca': 1426, 'plazas': 2215, 'volved': 3017, 'trofeorcndelfin': 2861, 'repartia': 2466, 'mou': 1890, 'cladicos': 563, 'mamar': 1751, 'maragall': 1771, 'puesto': 2360, 'sueldo': 2713, 'edil': 963, 'seguramente': 2592, 'niñato': 1958, 'situacion': 2666, 'parecida': 2081, 'celta': 521, 'faltar': 1159, 'mestalla': 1830, 'fuman': 1246, 'porros': 2258, 'nazis': 1934, 'faltaba': 1158, 'machista': 1725, 'colate': 588, 'drama': 938, 'fijisimo': 1197, 'tirado': 2794, 'unicamente': 2893, 'tiren': 2798, 'chusma': 550, 'svgala9': 2728, 'chica': 541, 'imagine': 1464, 'fabuloso': 1149, 'besas': 334, 'despacito': 854, 'pedro': 2121, 'tardes': 2743, 'socorrista': 2676, 'segundo': 2590, 'cinco': 556, 'añitos': 300, 'niños': 1961, 'aplauden': 209, 'fascistas': 1170, 'actos': 90, 'cool': 680, 'boquilla': 361, 'clinicas': 574, 'privadas': 2311, 'exclusivas': 1126, 'hipocresia': 1400, 'botellon': 369, 'vega': 2945, 'sicilia': 2633, 'macarrones': 1721, 'gratinados': 1315, 'circus': 560, 'paseo': 2099, 'palmeral': 2064, 'siesta': 2643, 'querais': 2383, 'venderme': 2951, 'plan': 2200, 'compro': 622, 'pruces': 2337, 'encontro': 1008, 'pablo': 2043, 'ordaz': 2033, 'cronista': 724, 'magistral': 1736, 'texto': 2776, 'smith': 2669, 'fernanandez': 1186, 'podrian': 2232, 'par': 2073, 'bostezantes': 363, 'guionista': 1331, 'capitulo': 466, 'merecia': 1825, 'premios': 2286, 'posibles': 2264, '(y': 20, 'triste)': 2858, 'onu': 2019, 'premio': 2285, 'manuela': 1769, 'abre': 67, 'publico': 2346, 'liria': 1669, 'jajajjaja': 1567, 'var': 2935, 'undiano': 2891, 'mallenco': 1746, 'hernandez': 1386, 'obrebo': 1989, 'stark': 2703, 'aytekin': 294, 'chaval': 538, '-nada': 28, 'playa-': 2211, 'derechas': 837, 'saquear': 2572, 'obrero': 1990, 'espinosa': 1086, 'coherencia': 584, 'irse': 1547, 'mansion': 1765, 'barrio': 318, 'incoherente': 1487, 'comercial': 604, 'rrhh': 2518, 'griego82': 1319, 'refiriendome': 2440, 'portavoz': 2259, 'voz': 3027, 'patadas': 2105, 'sacarle': 2545, 'amenazando': 162, 'pelo': 2132, 'mierda…': 1844, 'venir': 2956, '🤤😍': 3138, '1)': 36, 'comentar': 599, ')': 21, 'duo': 951, 'significa': 2645, 'estrategia': 1100, 'importante:': 1476, 'comento': 601, 'sale': 2547, 'golondrinos': 1298, 'tl': 2800, 'obreros': 1992, 'sumisos': 2720, 'sueldos': 2714, 'bastante': 322, 'dignos': 895, 'echar': 955, 'veridico': 2970, 'algun': 142, 'letra': 1647, 'dedoes': 801, 'necio': 1942, 'estupido': 1104, 'engreido': 1018, 'egoista': 971, 'caprichoso': 467, 'vanidoso': 2934, 'presumido': 2297, 'falso': 1155, 'enano': 1002, 'rencoroso': 2462, 'envuelve': 1043, 'agradecida': 108, 'seokjin': 2607, 'enamorada': 1001, 'afortunados': 106, 'tenerlo': 2763, 'thisnightbyjin': 2781, '이밤byjinoutnow': 3083, 'papi': 2072, 'lleve': 1691, 'santi': 2569, 'idiota': 1447, 'intenta': 1528, 'videoclip': 2988, 'aplicado': 212, 'censura': 523, 'monedero': 1872, 'devorado': 872, 'volver': 3018, '14h': 39, 'temp': 2755, '9': 51, '°c': 3074, 'hum': 1429, 'bar': 313, '6': 47, 'hpa': 1420, 'lluvia': 1695, '0': 33, 'mm': 1862, 'viento': 2993, '8': 50, 'km/h': 1611, 'sse': 2700, 'weathercloud': 3034, 'mazarron': 1799, 'retiran': 2485, 'kilos': 1610, 'marina': 1782, 'bolnuevo': 357, '¡nuevo': 3068, '¡exposiciones': 3065, 'londres': 1700, 'urbano': 2904, 'ruta': 2530, '/06/19': 31, 'sierradeguara': 2641, 'canariasclimb': 448, 'yosoydecanariasclimb': 3049, 'sierra': 2640, 'guara': 1325, 'provincia': 2331, 'vigo': 2995, 'experto': 1134, 'hacedor': 1357, 'turbo': 2868, 'rotondas': 2515, 'plantador': 2205, 'olivos': 2014, 'milenarios': 1846, '💯': 3110, '😘': 3126, 'trata': 2851, 'lacra': 1620, 'debe': 781, 'indignan': 1496, 'mirado': 1855, 'distancia': 925, 'amena': 160, 'evaluacion': 1117, 'asturias': 256, 'tazones': 2745, 'donbosco': 934, 'proyectonatura': 2336, 'leonesp': 1645, 'santo': 2571, 'fogata': 1216, 'nochedesanjuan': 1966, 'viene': 2991, 'decirte': 795, 'currar': 752, 'mandas': 1757, 'lejos': 1642, 'lauucv_': 1633, 'sara': 2573, 'raja': 2402, 'mejorr': 1809, 'impuesto': 1480, 'euskera': 1116, 'astro': 255, 'echado': 954, 'infantil': 1499, 'querer': 2385, 'bus': 386, 'eliptica': 981, 'usar': 2908, 'bono': 360, 'transporte': 2848, 'madrid)': 1731, 'empiezan': 995, 'amunike': 174, 'recomendamos': 2427, 'lagar': 1625, 'santa': 2568, 'cilia': 554, 'pasar': 2098, 'diversion': 926, 'aventura': 287, 'tranquilidad': 2842, 'entorno': 1030, 'ofrece': 2003, 'situada': 2667, 'pies': 2185, 'rio': 2498, 'aragon': 224, 'podia': 2224, 'universidad': 2896, 'albacete': 130, 'curso': 753, 'felices': 1174, 'insistidor': 1517, 'fruta': 1239, 'deliciosa': 820, '🤤': 3137, 'supermercado': 2722, 'tenia': 2764, 'coca': 579, 'gas': 1270, 'ejercito': 975, 'torneo': 2827, 'fijao': 1196, 'marica': 1780, 'gnc': 1294, 'implantada': 1470, 'personalidad': 2166, 'prepotencia': 2289, 'defecto': 803, 'harry': 1375, 'potter': 2273, 'dobby': 928, 'sigo': 2646, 'dejamos': 810, 'podcast': 2219, 'cine': 557, 'stargate': 2702, 'claqueta': 564, 'x16': 3042, 'aprendo': 218, 'papa': 2069, 'saluden': 2560, 'felizdomingo': 1179, 'derechista': 838, '7': 49, 'rutas': 2531, 'castellon': 497, '⛰': 3080, '🌳': 3089, 'nonfilters': 1969, 'sierrademaria': 2642, 'losvelez': 1705, 'hiking': 1399, 'friends': 1237, 'traveling': 2853, 'maria': 1779, 'velez': 2947, 'maricon': 1781, 'pagafantastu': 2049, 'lideres': 1661, 'deberiais': 783, 'amanecer': 155, 'ahorcados': 119, 'iglesia': 1450, 'sexo': 2623, 'contigo': 670, 'mejor🎵': 1810, 'efectivamente': 968, 'elecciones': 976, 'andaluzas/': 184, '040': 35, 'generales': 1277, 'andalucia/': 181, '160': 40, 'canta': 459, 'llorona': 1694, 'patilla': 2108, 'buenas': 378, 'ajetreados': 126, 'enseñando': 1021, 'animales': 193, 'nuevos': 1981, 'necesita': 1937, 'pires': 2194, 'decidme': 790, 'tb': 2746, 'veis': 2946, 'lata': 1631, 'cuchillo': 739, 'gradue': 1310, 'adulto': 102, 'independiente': 1494, 'zopenco': 3058, 'soperutano': 2686, 'soquete': 2687, 'inda': 1493, 'pilares': 2186, 'clave': 571, 'impulsar': 1482, 'marca': 1774, 'personal': 2165, 'desarrollar': 844, 'efectiva': 967, 'networking': 1947, 'aborde': 63, 'marco': 1777, \"'encuentro\": 4, \"alumni'\": 152, 'impact': 1466, 'hub': 1422, 'm…': 1919, 'plantas': 2206, 'criadas': 720, 'botellas': 368, 'plastico': 2207, 'antropologia': 201, '(madrid)': 14, 'jefa/e': 1572, 'implica': 1471, 'responsabilidad': 2478, 'jefatura': 1573, 'capacitacion': 463, 'beneficios': 332, 'denigraron': 829, 'juzgaron': 1605, 'toy': 2831, 'story': 2704, 'dinero': 901, 'castigo': 498, 'abrazos': 66, 'paran': 2076, 'paz': 2114, 'sii': 2650, 'poquitome': 2252, 'veranoahora': 2962, 'cortitas': 695, 'ajjaja': 127, 'cala': 420, 'andando': 186, 'estres': 1102, 'entra': 1031, 'computadora': 625, 'conectala': 648, 'sollll': 2681, 'pamplona': 2065, 'agur': 114, 'disfuncional': 917, 'alcoholico': 137, 'bastardos': 324, 'mamada': 1750, 'mamen': 1752, 'c': 392, 'autobus': 280, 'apenas': 207, 'concierto': 641, 'pinterest': 2192}\n"
     ]
    }
   ],
   "source": [
    "from sklearn.feature_extraction.text import TfidfVectorizer \n",
    "\n",
    "\n",
    "def identity_tokenizer(text):\n",
    "    return text\n",
    "\n",
    "Tfidf_vect = TfidfVectorizer(tokenizer=identity_tokenizer, lowercase=False,max_features=7000)  \n",
    "Tfidf_vect.fit(df.loc[:,'filtered_words'])\n",
    "Train_X_Tfidf = Tfidf_vect.transform(Train_X)\n",
    "Test_X_Tfidf = Tfidf_vect.transform(Test_X)\n",
    "\n",
    "print(Tfidf_vect.vocabulary_)\n"
   ]
  },
  {
   "cell_type": "code",
   "execution_count": 7,
   "metadata": {},
   "outputs": [
    {
     "data": {
      "text/plain": [
       "<seaborn.axisgrid.FacetGrid at 0x1ed9ce34668>"
      ]
     },
     "execution_count": 7,
     "metadata": {},
     "output_type": "execute_result"
    },
    {
     "data": {
      "image/png": "[encoded data removed]",
      "text/plain": [
       "<Figure size 360x360 with 1 Axes>"
      ]
     },
     "metadata": {},
     "output_type": "display_data"
    }
   ],
   "source": [
    "#vemos la dependencia entre dos variables con el modelo de regressión lineal \n",
    "import seaborn as sns\n",
    "sns.lmplot(x = \"emphasize\", y = \"toxico\", data = df)\n"
   ]
  },
  {
   "cell_type": "code",
   "execution_count": 8,
   "metadata": {},
   "outputs": [
    {
     "name": "stdout",
     "output_type": "stream",
     "text": [
      "Size Train_X = 564 \n",
      "Size Test_X=141\n",
      "Size Train_Y = 564 \n",
      "Size Test_Y=141\n"
     ]
    }
   ],
   "source": [
    "print(\"Size Train_X = {} \\nSize Test_X={}\".format(Train_X.size, Test_X.size)) \n",
    "print(\"Size Train_Y = {} \\nSize Test_Y={}\".format(Train_Y.size, Test_Y.size)) "
   ]
  },
  {
   "cell_type": "markdown",
   "metadata": {},
   "source": [
    "# Naive_bayes"
   ]
  },
  {
   "cell_type": "code",
   "execution_count": 9,
   "metadata": {},
   "outputs": [
    {
     "name": "stdout",
     "output_type": "stream",
     "text": [
      "Accuracy Score 90.0709219858156\n"
     ]
    }
   ],
   "source": [
    "# Entrenamos los datos de training en el clasificador Naive Bayes\n",
    "Naive = naive_bayes.MultinomialNB()\n",
    "Naive.fit(Train_X_Tfidf,Train_Y)\n",
    "# Predecimos los valores de toxicidad en el modelo de validación insertadop\n",
    "predictions_NB = Naive.predict(Test_X_Tfidf)\n",
    "\n",
    "print(\"Accuracy Score\",accuracy_score(predictions_NB, Test_Y)*100)"
   ]
  },
  {
   "cell_type": "code",
   "execution_count": 10,
   "metadata": {},
   "outputs": [
    {
     "name": "stdout",
     "output_type": "stream",
     "text": [
      "              precision    recall  f1-score   support\n",
      "\n",
      "           0       0.89      0.92      0.90        71\n",
      "           1       0.91      0.89      0.90        70\n",
      "\n",
      "   micro avg       0.90      0.90      0.90       141\n",
      "   macro avg       0.90      0.90      0.90       141\n",
      "weighted avg       0.90      0.90      0.90       141\n",
      "\n"
     ]
    }
   ],
   "source": [
    "print(classification_report(Test_Y,predictions_NB))"
   ]
  },
  {
   "cell_type": "code",
   "execution_count": 11,
   "metadata": {},
   "outputs": [
    {
     "name": "stdout",
     "output_type": "stream",
     "text": [
      "[[65  6]\n",
      " [ 8 62]]\n"
     ]
    }
   ],
   "source": [
    "#MATRIZ DE CONFUSIÓN\n",
    "cnf_matrix = confusion_matrix(Test_Y,predictions_NB)\n",
    "print(cnf_matrix)"
   ]
  },
  {
   "cell_type": "markdown",
   "metadata": {},
   "source": [
    "### Dibujo de la matiz de confusión"
   ]
  },
  {
   "cell_type": "code",
   "execution_count": 12,
   "metadata": {},
   "outputs": [
    {
     "data": {
      "text/plain": [
       "Text(0.5,257.44,'Valor predicho')"
      ]
     },
     "execution_count": 12,
     "metadata": {},
     "output_type": "execute_result"
    },
    {
     "data": {
      "image/png": "[encoded data removed]",
      "text/plain": [
       "<Figure size 432x288 with 2 Axes>"
      ]
     },
     "metadata": {},
     "output_type": "display_data"
    }
   ],
   "source": [
    "class_names=[0,1] # name  of classes\n",
    "fig, ax = plt.subplots()\n",
    "tick_marks = np.arange(len(class_names))\n",
    "plt.xticks(tick_marks, class_names)\n",
    "plt.yticks(tick_marks, class_names)\n",
    "# create heatmap\n",
    "sns.heatmap(pd.DataFrame(cnf_matrix), annot=True, cmap=\"Blues\" ,fmt='g')\n",
    "ax.xaxis.set_label_position(\"top\")\n",
    "plt.tight_layout()\n",
    "plt.title('Matriz de confusión NB', y=1.1)\n",
    "plt.ylabel('Valor etiquetado')\n",
    "plt.xlabel('Valor predicho')"
   ]
  },
  {
   "cell_type": "markdown",
   "metadata": {},
   "source": [
    "# Classifier - Algorithm - SVM"
   ]
  },
  {
   "cell_type": "code",
   "execution_count": 13,
   "metadata": {},
   "outputs": [
    {
     "name": "stdout",
     "output_type": "stream",
     "text": [
      "Accuracy Score  89.36170212765957\n"
     ]
    }
   ],
   "source": [
    "# fit the training dataset on the classifier\n",
    "SVM = svm.SVC(C=1.0, kernel='linear', degree=3, gamma='auto')\n",
    "SVM.fit(Train_X_Tfidf,Train_Y)\n",
    "# predict the labels on validation dataset\n",
    "predictions_SVM = SVM.predict(Test_X_Tfidf)\n",
    "# Use accuracy_score function to get the accuracy\n",
    "print(\"Accuracy Score \",accuracy_score(predictions_SVM, Test_Y)*100)"
   ]
  },
  {
   "cell_type": "code",
   "execution_count": 14,
   "metadata": {},
   "outputs": [
    {
     "name": "stdout",
     "output_type": "stream",
     "text": [
      "              precision    recall  f1-score   support\n",
      "\n",
      "           0       0.88      0.92      0.90        71\n",
      "           1       0.91      0.87      0.89        70\n",
      "\n",
      "   micro avg       0.89      0.89      0.89       141\n",
      "   macro avg       0.89      0.89      0.89       141\n",
      "weighted avg       0.89      0.89      0.89       141\n",
      "\n"
     ]
    }
   ],
   "source": [
    "print(classification_report(Test_Y,predictions_SVM))"
   ]
  },
  {
   "cell_type": "code",
   "execution_count": 15,
   "metadata": {},
   "outputs": [
    {
     "name": "stdout",
     "output_type": "stream",
     "text": [
      "[[65  6]\n",
      " [ 9 61]]\n"
     ]
    }
   ],
   "source": [
    "#MATRIZ DE CONFUSIÓN\n",
    "cnf_matrix = confusion_matrix(Test_Y,predictions_SVM)\n",
    "print(cnf_matrix)"
   ]
  },
  {
   "cell_type": "markdown",
   "metadata": {},
   "source": [
    "### Dibujo de la matiz de confusión"
   ]
  },
  {
   "cell_type": "code",
   "execution_count": 16,
   "metadata": {},
   "outputs": [
    {
     "data": {
      "text/plain": [
       "Text(0.5,257.44,'Valor predicho')"
      ]
     },
     "execution_count": 16,
     "metadata": {},
     "output_type": "execute_result"
    },
    {
     "data": {
      "image/png": "[encoded data removed]",
      "text/plain": [
       "<Figure size 432x288 with 2 Axes>"
      ]
     },
     "metadata": {},
     "output_type": "display_data"
    }
   ],
   "source": [
    "class_names=[0,1] # name  of classes\n",
    "fig, ax = plt.subplots()\n",
    "tick_marks = np.arange(len(class_names))\n",
    "plt.xticks(tick_marks, class_names)\n",
    "plt.yticks(tick_marks, class_names)\n",
    "# create heatmap\n",
    "sns.heatmap(pd.DataFrame(cnf_matrix), annot=True, cmap=\"Blues\" ,fmt='g')\n",
    "ax.xaxis.set_label_position(\"top\")\n",
    "plt.tight_layout()\n",
    "plt.title('Matriz de confusión SVM', y=1.1)\n",
    "plt.ylabel('Valor etiquetado')\n",
    "plt.xlabel('Valor predicho')"
   ]
  },
  {
   "cell_type": "markdown",
   "metadata": {},
   "source": [
    "# Random Forest"
   ]
  },
  {
   "cell_type": "code",
   "execution_count": 27,
   "metadata": {},
   "outputs": [
    {
     "name": "stderr",
     "output_type": "stream",
     "text": [
      "C:\\Users\\Esperanza\\Anaconda3\\lib\\site-packages\\sklearn\\model_selection\\_search.py:841: DeprecationWarning: The default of the `iid` parameter will change from True to False in version 0.22 and will be removed in 0.24. This will change numeric results when test-set sizes are unequal.\n",
      "  DeprecationWarning)\n"
     ]
    },
    {
     "name": "stdout",
     "output_type": "stream",
     "text": [
      "Best parameters set found on development set:\n",
      "{'max_depth': 20, 'max_features': 'sqrt', 'n_estimators': 100}\n",
      "Grid scores on development set:\n",
      "0.301 (+/-0.259) for {'max_depth': 5, 'max_features': 'auto', 'n_estimators': 10}\n",
      "0.370 (+/-0.223) for {'max_depth': 5, 'max_features': 'auto', 'n_estimators': 50}\n",
      "0.322 (+/-0.167) for {'max_depth': 5, 'max_features': 'auto', 'n_estimators': 100}\n",
      "0.370 (+/-0.203) for {'max_depth': 5, 'max_features': 'auto', 'n_estimators': 200}\n",
      "0.367 (+/-0.224) for {'max_depth': 5, 'max_features': 'auto', 'n_estimators': 500}\n",
      "0.328 (+/-0.217) for {'max_depth': 5, 'max_features': 'sqrt', 'n_estimators': 10}\n",
      "0.349 (+/-0.255) for {'max_depth': 5, 'max_features': 'sqrt', 'n_estimators': 50}\n",
      "0.360 (+/-0.194) for {'max_depth': 5, 'max_features': 'sqrt', 'n_estimators': 100}\n",
      "0.370 (+/-0.163) for {'max_depth': 5, 'max_features': 'sqrt', 'n_estimators': 200}\n",
      "0.362 (+/-0.236) for {'max_depth': 5, 'max_features': 'sqrt', 'n_estimators': 500}\n",
      "0.437 (+/-0.241) for {'max_depth': 10, 'max_features': 'auto', 'n_estimators': 10}\n",
      "0.477 (+/-0.174) for {'max_depth': 10, 'max_features': 'auto', 'n_estimators': 50}\n",
      "0.522 (+/-0.139) for {'max_depth': 10, 'max_features': 'auto', 'n_estimators': 100}\n",
      "0.533 (+/-0.142) for {'max_depth': 10, 'max_features': 'auto', 'n_estimators': 200}\n",
      "0.541 (+/-0.158) for {'max_depth': 10, 'max_features': 'auto', 'n_estimators': 500}\n",
      "0.458 (+/-0.244) for {'max_depth': 10, 'max_features': 'sqrt', 'n_estimators': 10}\n",
      "0.540 (+/-0.246) for {'max_depth': 10, 'max_features': 'sqrt', 'n_estimators': 50}\n",
      "0.574 (+/-0.217) for {'max_depth': 10, 'max_features': 'sqrt', 'n_estimators': 100}\n",
      "0.566 (+/-0.195) for {'max_depth': 10, 'max_features': 'sqrt', 'n_estimators': 200}\n",
      "0.548 (+/-0.181) for {'max_depth': 10, 'max_features': 'sqrt', 'n_estimators': 500}\n",
      "0.544 (+/-0.201) for {'max_depth': 15, 'max_features': 'auto', 'n_estimators': 10}\n",
      "0.575 (+/-0.175) for {'max_depth': 15, 'max_features': 'auto', 'n_estimators': 50}\n",
      "0.607 (+/-0.187) for {'max_depth': 15, 'max_features': 'auto', 'n_estimators': 100}\n",
      "0.633 (+/-0.168) for {'max_depth': 15, 'max_features': 'auto', 'n_estimators': 200}\n",
      "0.633 (+/-0.193) for {'max_depth': 15, 'max_features': 'auto', 'n_estimators': 500}\n",
      "0.548 (+/-0.192) for {'max_depth': 15, 'max_features': 'sqrt', 'n_estimators': 10}\n",
      "0.574 (+/-0.211) for {'max_depth': 15, 'max_features': 'sqrt', 'n_estimators': 50}\n",
      "0.600 (+/-0.149) for {'max_depth': 15, 'max_features': 'sqrt', 'n_estimators': 100}\n",
      "0.604 (+/-0.234) for {'max_depth': 15, 'max_features': 'sqrt', 'n_estimators': 200}\n",
      "0.626 (+/-0.168) for {'max_depth': 15, 'max_features': 'sqrt', 'n_estimators': 500}\n",
      "0.505 (+/-0.309) for {'max_depth': 20, 'max_features': 'auto', 'n_estimators': 10}\n",
      "0.615 (+/-0.128) for {'max_depth': 20, 'max_features': 'auto', 'n_estimators': 50}\n",
      "0.670 (+/-0.151) for {'max_depth': 20, 'max_features': 'auto', 'n_estimators': 100}\n",
      "0.685 (+/-0.105) for {'max_depth': 20, 'max_features': 'auto', 'n_estimators': 200}\n",
      "0.688 (+/-0.130) for {'max_depth': 20, 'max_features': 'auto', 'n_estimators': 500}\n",
      "0.597 (+/-0.159) for {'max_depth': 20, 'max_features': 'sqrt', 'n_estimators': 10}\n",
      "0.688 (+/-0.131) for {'max_depth': 20, 'max_features': 'sqrt', 'n_estimators': 50}\n",
      "0.692 (+/-0.146) for {'max_depth': 20, 'max_features': 'sqrt', 'n_estimators': 100}\n",
      "0.655 (+/-0.156) for {'max_depth': 20, 'max_features': 'sqrt', 'n_estimators': 200}\n",
      "0.685 (+/-0.197) for {'max_depth': 20, 'max_features': 'sqrt', 'n_estimators': 500}\n",
      "0.625 (+/-0.139) for {'max_depth': None, 'max_features': 'auto', 'n_estimators': 10}\n",
      "0.676 (+/-0.200) for {'max_depth': None, 'max_features': 'auto', 'n_estimators': 50}\n",
      "0.651 (+/-0.149) for {'max_depth': None, 'max_features': 'auto', 'n_estimators': 100}\n",
      "0.684 (+/-0.147) for {'max_depth': None, 'max_features': 'auto', 'n_estimators': 200}\n",
      "0.691 (+/-0.121) for {'max_depth': None, 'max_features': 'auto', 'n_estimators': 500}\n",
      "0.617 (+/-0.192) for {'max_depth': None, 'max_features': 'sqrt', 'n_estimators': 10}\n",
      "0.670 (+/-0.095) for {'max_depth': None, 'max_features': 'sqrt', 'n_estimators': 50}\n",
      "0.673 (+/-0.165) for {'max_depth': None, 'max_features': 'sqrt', 'n_estimators': 100}\n",
      "0.644 (+/-0.164) for {'max_depth': None, 'max_features': 'sqrt', 'n_estimators': 200}\n",
      "0.681 (+/-0.133) for {'max_depth': None, 'max_features': 'sqrt', 'n_estimators': 500}\n",
      "PREDICCIONES EXTERNAS\n",
      "Estadístico Kappa: 0.6874244256348246\n",
      "Estadístico AUC: 0.9482897384305835\n",
      "Estadístico Exactitud: 0.8439716312056738\n"
     ]
    }
   ],
   "source": [
    "from sklearn.model_selection import GridSearchCV\n",
    "from sklearn.metrics import classification_report\n",
    "from sklearn.metrics import cohen_kappa_score, make_scorer\n",
    "from sklearn.metrics import roc_curve, auc, roc_auc_score\n",
    "\n",
    "kappa_scorer = make_scorer(cohen_kappa_score)\n",
    "\n",
    "from sklearn.ensemble import RandomForestClassifier\n",
    "#grid the serarch best model\n",
    "# Set the parameters by cross-validation\n",
    "# Number of trees in random forest\n",
    "n_estimators = [10, 50, 100, 200, 500]\n",
    "# Number of features to consider at every split\n",
    "max_features = ['auto', 'sqrt']\n",
    "# Maximum number of levels in tree\n",
    "max_depth = [5, 10, 15, 20]\n",
    "max_depth.append(None)\n",
    "# Minimum number of samples required to split a node\n",
    "min_samples_split = [2, 5, 10]\n",
    "# Minimum number of samples required at each leaf node\n",
    "min_samples_leaf = [1, 2, 4]\n",
    "# Method of selecting samples for training each tree\n",
    "bootstrap = [True, False]\n",
    "\n",
    "\n",
    "tuned_parameters = {'n_estimators': n_estimators,\n",
    "                    'max_features':max_features,\n",
    "                   'max_depth': max_depth }\n",
    "\n",
    "clf = GridSearchCV(RandomForestClassifier(), tuned_parameters, cv=10,\n",
    "                       scoring=kappa_scorer)\n",
    "\n",
    "clf.fit(Train_X_Tfidf,Train_Y)\n",
    "\n",
    "print(\"Best parameters set found on development set:\")\n",
    "print(clf.best_params_)\n",
    "print(\"Grid scores on development set:\")\n",
    "means = clf.cv_results_['mean_test_score']\n",
    "stds = clf.cv_results_['std_test_score']\n",
    "for mean, std, params in zip(means, stds, clf.cv_results_['params']):\n",
    "    print(\"%0.3f (+/-%0.03f) for %r\"\n",
    "          % (mean, std * 2, params))\n",
    "    \n",
    "\n",
    "print(\"PREDICCIONES EXTERNAS\")\n",
    "predicciones = clf.predict(Test_X_Tfidf)\n",
    "probabilidades = clf.predict_proba(Test_X_Tfidf)\n",
    "\n",
    "print(\"Estadístico Kappa: \"+str(cohen_kappa_score(Test_Y, predicciones)))\n",
    "print(\"Estadístico AUC: \"+str(roc_auc_score(Test_Y, probabilidades[:,1])))\n",
    "print(\"Estadístico Exactitud: \"+str(accuracy_score( Test_Y, predicciones)))\n"
   ]
  },
  {
   "cell_type": "code",
   "execution_count": 28,
   "metadata": {},
   "outputs": [
    {
     "name": "stdout",
     "output_type": "stream",
     "text": [
      "[[68  3]\n",
      " [19 51]]\n"
     ]
    },
    {
     "data": {
      "text/plain": [
       "Text(0.5,257.44,'Valor predicho')"
      ]
     },
     "execution_count": 28,
     "metadata": {},
     "output_type": "execute_result"
    },
    {
     "data": {
      "image/png": "[encoded data removed]",
      "text/plain": [
       "<Figure size 432x288 with 2 Axes>"
      ]
     },
     "metadata": {},
     "output_type": "display_data"
    }
   ],
   "source": [
    "#MATRIZ DE CONFUSIÓN\n",
    "cnf_matrix = confusion_matrix(Test_Y,predicciones)\n",
    "print(cnf_matrix)\n",
    "class_names=[0,1] # name  of classes\n",
    "fig, ax = plt.subplots()\n",
    "tick_marks = np.arange(len(class_names))\n",
    "plt.xticks(tick_marks, class_names)\n",
    "plt.yticks(tick_marks, class_names)\n",
    "# create heatmap\n",
    "sns.heatmap(pd.DataFrame(cnf_matrix), annot=True, cmap=\"Blues\" ,fmt='g')\n",
    "ax.xaxis.set_label_position(\"top\")\n",
    "plt.tight_layout()\n",
    "plt.title('Matriz de confusión RF', y=1.1)\n",
    "plt.ylabel('Valor etiquetado')\n",
    "plt.xlabel('Valor predicho')"
   ]
  },
  {
   "cell_type": "markdown",
   "metadata": {},
   "source": [
    "# Juntando ambos modelos"
   ]
  },
  {
   "cell_type": "code",
   "execution_count": 29,
   "metadata": {},
   "outputs": [],
   "source": [
    "from sklearn.ensemble import VotingClassifier\n",
    "#create a dictionary of our models\n",
    "estimators=[ ('svm', SVM), ('NB', Naive),('CLF', clf)]\n",
    "#create our voting classifier, inputting our models\n",
    "ensemble = VotingClassifier(estimators, voting='hard')"
   ]
  },
  {
   "cell_type": "code",
   "execution_count": 30,
   "metadata": {},
   "outputs": [
    {
     "name": "stderr",
     "output_type": "stream",
     "text": [
      "C:\\Users\\Esperanza\\Anaconda3\\lib\\site-packages\\sklearn\\model_selection\\_search.py:841: DeprecationWarning: The default of the `iid` parameter will change from True to False in version 0.22 and will be removed in 0.24. This will change numeric results when test-set sizes are unequal.\n",
      "  DeprecationWarning)\n"
     ]
    }
   ],
   "source": [
    "#fit model to training data\n",
    "ensemble.fit(Train_X_Tfidf,Train_Y)\n",
    "# predict the labels on validation dataset\n",
    "predictions_ensemble= ensemble.predict(Test_X_Tfidf)\n",
    "# Use accuracy_score function to get the accuracy\n",
    "#print(\"Accuracy Score \",accuracy_score(predictions_ensemble, Test_Y)*100)"
   ]
  },
  {
   "cell_type": "code",
   "execution_count": 31,
   "metadata": {},
   "outputs": [
    {
     "name": "stdout",
     "output_type": "stream",
     "text": [
      "[[66  5]\n",
      " [ 9 61]]\n"
     ]
    }
   ],
   "source": [
    "#MATRIZ DE CONFUSIÓN\n",
    "cnf_matrix = confusion_matrix(Test_Y,predictions_ensemble)\n",
    "print(cnf_matrix)"
   ]
  },
  {
   "cell_type": "code",
   "execution_count": 32,
   "metadata": {},
   "outputs": [
    {
     "data": {
      "text/plain": [
       "Text(0.5,257.44,'Valor predicho')"
      ]
     },
     "execution_count": 32,
     "metadata": {},
     "output_type": "execute_result"
    },
    {
     "data": {
      "image/png": "[encoded data removed]",
      "text/plain": [
       "<Figure size 432x288 with 2 Axes>"
      ]
     },
     "metadata": {},
     "output_type": "display_data"
    }
   ],
   "source": [
    "class_names=[0,1] # name  of classes\n",
    "fig, ax = plt.subplots()\n",
    "tick_marks = np.arange(len(class_names))\n",
    "plt.xticks(tick_marks, class_names)\n",
    "plt.yticks(tick_marks, class_names)\n",
    "# create heatmap\n",
    "sns.heatmap(pd.DataFrame(cnf_matrix), annot=True, cmap=\"Blues\" ,fmt='g')\n",
    "ax.xaxis.set_label_position(\"top\")\n",
    "plt.tight_layout()\n",
    "plt.title('Matriz de confusión SVM', y=1.1)\n",
    "plt.ylabel('Valor etiquetado')\n",
    "plt.xlabel('Valor predicho')"
   ]
  }
 ],
 "metadata": {
  "kernelspec": {
   "display_name": "Python 3",
   "language": "python",
   "name": "python3"
  },
  "language_info": {
   "codemirror_mode": {
    "name": "ipython",
    "version": 3
   },
   "file_extension": ".py",
   "mimetype": "text/x-python",
   "name": "python",
   "nbconvert_exporter": "python",
   "pygments_lexer": "ipython3",
   "version": "3.6.5"
  }
 },
 "nbformat": 4,
 "nbformat_minor": 2
}
