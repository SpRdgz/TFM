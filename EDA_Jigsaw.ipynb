{
 "cells": [
  {
   "cell_type": "code",
   "execution_count": 1,
   "metadata": {},
   "outputs": [],
   "source": [
    "%matplotlib inline\n",
    "import pandas as pd\n",
    "import numpy as np\n",
    "import seaborn as sns\n",
    "import matplotlib\n",
    "from matplotlib import pyplot as plt\n",
    "import altair as alt\n",
    "import plotly.graph_objs as go\n",
    "\n",
    "plt.rcParams['font.family'] = \"serif\""
   ]
  },
  {
   "cell_type": "markdown",
   "metadata": {},
   "source": [
    "# Load dataset into Pandas DataFrame"
   ]
  },
  {
   "cell_type": "code",
   "execution_count": 2,
   "metadata": {},
   "outputs": [
    {
     "name": "stdout",
     "output_type": "stream",
     "text": [
      "['sample_submission.csv', 'test.csv', 'train.csv']\n"
     ]
    }
   ],
   "source": [
    "# Tenemos los siguientes ficheros\n",
    "import os\n",
    "print(os.listdir(\"C:/Users/Esperanza/Desktop/UOC/TFM/python/jigsaw-unintended-bias-in-toxicity-classification/\"))"
   ]
  },
  {
   "cell_type": "code",
   "execution_count": 3,
   "metadata": {},
   "outputs": [
    {
     "data": {
      "text/html": [
       "<div>\n",
       "<style scoped>\n",
       "    .dataframe tbody tr th:only-of-type {\n",
       "        vertical-align: middle;\n",
       "    }\n",
       "\n",
       "    .dataframe tbody tr th {\n",
       "        vertical-align: top;\n",
       "    }\n",
       "\n",
       "    .dataframe thead th {\n",
       "        text-align: right;\n",
       "    }\n",
       "</style>\n",
       "<table border=\"1\" class=\"dataframe\">\n",
       "  <thead>\n",
       "    <tr style=\"text-align: right;\">\n",
       "      <th></th>\n",
       "      <th>id</th>\n",
       "      <th>target</th>\n",
       "      <th>comment_text</th>\n",
       "      <th>severe_toxicity</th>\n",
       "      <th>obscene</th>\n",
       "      <th>identity_attack</th>\n",
       "      <th>insult</th>\n",
       "      <th>threat</th>\n",
       "      <th>asian</th>\n",
       "      <th>atheist</th>\n",
       "      <th>...</th>\n",
       "      <th>article_id</th>\n",
       "      <th>rating</th>\n",
       "      <th>funny</th>\n",
       "      <th>wow</th>\n",
       "      <th>sad</th>\n",
       "      <th>likes</th>\n",
       "      <th>disagree</th>\n",
       "      <th>sexual_explicit</th>\n",
       "      <th>identity_annotator_count</th>\n",
       "      <th>toxicity_annotator_count</th>\n",
       "    </tr>\n",
       "  </thead>\n",
       "  <tbody>\n",
       "    <tr>\n",
       "      <th>0</th>\n",
       "      <td>59848</td>\n",
       "      <td>0.0</td>\n",
       "      <td>This is so cool. It's like, 'would you want yo...</td>\n",
       "      <td>0.0</td>\n",
       "      <td>0.0</td>\n",
       "      <td>0.0</td>\n",
       "      <td>0.0</td>\n",
       "      <td>0.0</td>\n",
       "      <td>NaN</td>\n",
       "      <td>NaN</td>\n",
       "      <td>...</td>\n",
       "      <td>2006</td>\n",
       "      <td>rejected</td>\n",
       "      <td>0</td>\n",
       "      <td>0</td>\n",
       "      <td>0</td>\n",
       "      <td>0</td>\n",
       "      <td>0</td>\n",
       "      <td>0.0</td>\n",
       "      <td>0</td>\n",
       "      <td>4</td>\n",
       "    </tr>\n",
       "    <tr>\n",
       "      <th>1</th>\n",
       "      <td>59849</td>\n",
       "      <td>0.0</td>\n",
       "      <td>Thank you!! This would make my life a lot less...</td>\n",
       "      <td>0.0</td>\n",
       "      <td>0.0</td>\n",
       "      <td>0.0</td>\n",
       "      <td>0.0</td>\n",
       "      <td>0.0</td>\n",
       "      <td>NaN</td>\n",
       "      <td>NaN</td>\n",
       "      <td>...</td>\n",
       "      <td>2006</td>\n",
       "      <td>rejected</td>\n",
       "      <td>0</td>\n",
       "      <td>0</td>\n",
       "      <td>0</td>\n",
       "      <td>0</td>\n",
       "      <td>0</td>\n",
       "      <td>0.0</td>\n",
       "      <td>0</td>\n",
       "      <td>4</td>\n",
       "    </tr>\n",
       "  </tbody>\n",
       "</table>\n",
       "<p>2 rows × 45 columns</p>\n",
       "</div>"
      ],
      "text/plain": [
       "      id  target                                       comment_text  \\\n",
       "0  59848     0.0  This is so cool. It's like, 'would you want yo...   \n",
       "1  59849     0.0  Thank you!! This would make my life a lot less...   \n",
       "\n",
       "   severe_toxicity  obscene  identity_attack  insult  threat  asian  atheist  \\\n",
       "0              0.0      0.0              0.0     0.0     0.0    NaN      NaN   \n",
       "1              0.0      0.0              0.0     0.0     0.0    NaN      NaN   \n",
       "\n",
       "             ...             article_id    rating  funny  wow  sad  likes  \\\n",
       "0            ...                   2006  rejected      0    0    0      0   \n",
       "1            ...                   2006  rejected      0    0    0      0   \n",
       "\n",
       "   disagree  sexual_explicit  identity_annotator_count  \\\n",
       "0         0              0.0                         0   \n",
       "1         0              0.0                         0   \n",
       "\n",
       "   toxicity_annotator_count  \n",
       "0                         4  \n",
       "1                         4  \n",
       "\n",
       "[2 rows x 45 columns]"
      ]
     },
     "execution_count": 3,
     "metadata": {},
     "output_type": "execute_result"
    }
   ],
   "source": [
    "#Los cargamos en un dataframe\n",
    "path_train=\"C:/Users/Esperanza/Desktop/UOC/TFM/python/jigsaw-unintended-bias-in-toxicity-classification/train.csv\"\n",
    "path_test=\"C:/Users/Esperanza/Desktop/UOC/TFM/python/jigsaw-unintended-bias-in-toxicity-classification/test.csv\"\n",
    "df_train = pd.read_csv(path_train)\n",
    "df_test = pd.read_csv(path_test)\n",
    "# Veamos los dos primeros del dataframe de train\n",
    "df_train.head(2)"
   ]
  },
  {
   "cell_type": "code",
   "execution_count": 4,
   "metadata": {
    "scrolled": true
   },
   "outputs": [
    {
     "name": "stdout",
     "output_type": "stream",
     "text": [
      "Dimensiones del dataset de entrenamiento 1804874 \n",
      "Dimensión deldataset de test 97320\n",
      "Columnas del archivo de entrenamiento: Index(['id', 'target', 'comment_text', 'severe_toxicity', 'obscene',\n",
      "       'identity_attack', 'insult', 'threat', 'asian', 'atheist', 'bisexual',\n",
      "       'black', 'buddhist', 'christian', 'female', 'heterosexual', 'hindu',\n",
      "       'homosexual_gay_or_lesbian', 'intellectual_or_learning_disability',\n",
      "       'jewish', 'latino', 'male', 'muslim', 'other_disability',\n",
      "       'other_gender', 'other_race_or_ethnicity', 'other_religion',\n",
      "       'other_sexual_orientation', 'physical_disability',\n",
      "       'psychiatric_or_mental_illness', 'transgender', 'white', 'created_date',\n",
      "       'publication_id', 'parent_id', 'article_id', 'rating', 'funny', 'wow',\n",
      "       'sad', 'likes', 'disagree', 'sexual_explicit',\n",
      "       'identity_annotator_count', 'toxicity_annotator_count'],\n",
      "      dtype='object')\n"
     ]
    }
   ],
   "source": [
    "print('Dimensiones del dataset de entrenamiento %d ' % len(df_train))\n",
    "print('Dimensión deldataset de test %d' % len(df_test))\n",
    "print('Columnas del archivo de entrenamiento: %s' % df_train.columns)"
   ]
  },
  {
   "cell_type": "code",
   "execution_count": 5,
   "metadata": {},
   "outputs": [
    {
     "data": {
      "text/plain": [
       "asian                                  0.775536\n",
       "atheist                                0.775536\n",
       "bisexual                               0.775536\n",
       "black                                  0.775536\n",
       "buddhist                               0.775536\n",
       "christian                              0.775536\n",
       "female                                 0.775536\n",
       "heterosexual                           0.775536\n",
       "hindu                                  0.775536\n",
       "homosexual_gay_or_lesbian              0.775536\n",
       "intellectual_or_learning_disability    0.775536\n",
       "jewish                                 0.775536\n",
       "latino                                 0.775536\n",
       "male                                   0.775536\n",
       "muslim                                 0.775536\n",
       "other_disability                       0.775536\n",
       "other_gender                           0.775536\n",
       "other_race_or_ethnicity                0.775536\n",
       "other_religion                         0.775536\n",
       "other_sexual_orientation               0.775536\n",
       "physical_disability                    0.775536\n",
       "psychiatric_or_mental_illness          0.775536\n",
       "transgender                            0.775536\n",
       "white                                  0.775536\n",
       "parent_id                              0.431413\n",
       "dtype: float64"
      ]
     },
     "execution_count": 5,
     "metadata": {},
     "output_type": "execute_result"
    }
   ],
   "source": [
    "# Contamos cuantos valores nulos hay \n",
    "df_train_res = df_train.isnull().sum()/len(df_train)\n",
    "df_train_res[df_train_res>0]\n",
    "#df_test.isna().sum(),df_train.isna().sum()"
   ]
  },
  {
   "cell_type": "code",
   "execution_count": 6,
   "metadata": {},
   "outputs": [
    {
     "data": {
      "text/plain": [
       "asian                                  77.553558\n",
       "atheist                                77.553558\n",
       "bisexual                               77.553558\n",
       "black                                  77.553558\n",
       "buddhist                               77.553558\n",
       "christian                              77.553558\n",
       "female                                 77.553558\n",
       "heterosexual                           77.553558\n",
       "hindu                                  77.553558\n",
       "homosexual_gay_or_lesbian              77.553558\n",
       "intellectual_or_learning_disability    77.553558\n",
       "jewish                                 77.553558\n",
       "latino                                 77.553558\n",
       "male                                   77.553558\n",
       "muslim                                 77.553558\n",
       "other_disability                       77.553558\n",
       "other_gender                           77.553558\n",
       "other_race_or_ethnicity                77.553558\n",
       "other_religion                         77.553558\n",
       "other_sexual_orientation               77.553558\n",
       "physical_disability                    77.553558\n",
       "psychiatric_or_mental_illness          77.553558\n",
       "transgender                            77.553558\n",
       "white                                  77.553558\n",
       "parent_id                              43.141294\n",
       "dtype: float64"
      ]
     },
     "execution_count": 6,
     "metadata": {},
     "output_type": "execute_result"
    }
   ],
   "source": [
    "# Valores nulos en porcentaje con cada uno de los dataset\n",
    "res=df_train_res[df_train_res>0]*100 \n",
    "res"
   ]
  },
  {
   "cell_type": "code",
   "execution_count": 7,
   "metadata": {},
   "outputs": [
    {
     "data": {
      "text/plain": [
       "'25'"
      ]
     },
     "execution_count": 7,
     "metadata": {},
     "output_type": "execute_result"
    }
   ],
   "source": [
    "str(res.count())"
   ]
  },
  {
   "cell_type": "markdown",
   "metadata": {},
   "source": [
    "# Análisis de la columna target del dataset.\n",
    "\n",
    "La columna target es la que el modelo debe predecir. Este campo representa la fracción de peronas que creyeron que ese comentario era tóxico. "
   ]
  },
  {
   "cell_type": "code",
   "execution_count": 8,
   "metadata": {},
   "outputs": [
    {
     "name": "stdout",
     "output_type": "stream",
     "text": [
      "Cuantos comentarios han sido comentados como negativos 1660540 \n",
      "Cuantos comentarios han sido comentados como positivos 144334 \n"
     ]
    }
   ],
   "source": [
    "df_train['result'] = df_train['target'].apply(lambda x: 1 if x >= 0.5 else 0)\n",
    "\n",
    "print('Cuantos comentarios han sido comentados como negativos %d ' % len(df_train[df_train['result'] == 0]))\n",
    "print('Cuantos comentarios han sido comentados como positivos %d ' % len(df_train[df_train['result'] == 1]))"
   ]
  },
  {
   "cell_type": "code",
   "execution_count": 9,
   "metadata": {},
   "outputs": [
    {
     "data": {
      "image/png": "[encoded data removed]",
      "text/plain": [
       "<Figure size 432x288 with 1 Axes>"
      ]
     },
     "metadata": {},
     "output_type": "display_data"
    }
   ],
   "source": [
    "ax = sns.countplot(data=df_train, x = 'result',facecolor=(0, 0, 0, 0),linewidth=4,edgecolor=sns.color_palette(\"deep\", 1))\n",
    "plt.title('Texto calificado como tóxio. Label target')\n",
    "plt.xlabel('Etiquetado como tóxico')\n",
    "plt.ylabel('Número de comentarios')\n",
    "plt.show()"
   ]
  },
  {
   "cell_type": "markdown",
   "metadata": {},
   "source": [
    "Cuales son los valores que más se han repetido"
   ]
  },
  {
   "cell_type": "code",
   "execution_count": 10,
   "metadata": {},
   "outputs": [
    {
     "data": {
      "text/plain": [
       "0.000000    1264764\n",
       "0.166667     138501\n",
       "0.200000     107492\n",
       "0.300000      59098\n",
       "0.400000      50013\n",
       "Name: target, dtype: int64"
      ]
     },
     "execution_count": 10,
     "metadata": {},
     "output_type": "execute_result"
    }
   ],
   "source": [
    "df_train['target'].value_counts().head(5)"
   ]
  },
  {
   "cell_type": "markdown",
   "metadata": {},
   "source": [
    "Calculamos el tamaño del dataset"
   ]
  },
  {
   "cell_type": "code",
   "execution_count": 11,
   "metadata": {},
   "outputs": [
    {
     "name": "stdout",
     "output_type": "stream",
     "text": [
      "tamaño del dataset de entrenamiento:    (1804874, 46)\n",
      "tamaño del dataset de evaluación:       (97320, 2)\n"
     ]
    }
   ],
   "source": [
    "print(\"tamaño del dataset de entrenamiento:    \"+ str(df_train.shape))\n",
    "print(\"tamaño del dataset de evaluación:       \"+ str(df_test.shape))"
   ]
  },
  {
   "cell_type": "markdown",
   "metadata": {},
   "source": [
    "# Comentarios duplicados "
   ]
  },
  {
   "cell_type": "code",
   "execution_count": 12,
   "metadata": {},
   "outputs": [
    {
     "name": "stdout",
     "output_type": "stream",
     "text": [
      "Porcentaje de comentarios únicos 0.9866744160534198\n",
      "Número de elementos repetidos  24051\n"
     ]
    }
   ],
   "source": [
    "numero_total_elem=len(df_train['comment_text']) \n",
    "numero_unico_elem=df_train['comment_text'].nunique()\n",
    "print( \"Porcentaje de comentarios únicos \" + str(numero_unico_elem/numero_total_elem))\n",
    "print(\"Número de elementos repetidos  \"+ str(numero_total_elem-numero_unico_elem))"
   ]
  },
  {
   "cell_type": "markdown",
   "metadata": {},
   "source": [
    "# Contar el número de palabras "
   ]
  },
  {
   "cell_type": "code",
   "execution_count": 13,
   "metadata": {},
   "outputs": [
    {
     "data": {
      "text/html": [
       "<div>\n",
       "<style scoped>\n",
       "    .dataframe tbody tr th:only-of-type {\n",
       "        vertical-align: middle;\n",
       "    }\n",
       "\n",
       "    .dataframe tbody tr th {\n",
       "        vertical-align: top;\n",
       "    }\n",
       "\n",
       "    .dataframe thead th {\n",
       "        text-align: right;\n",
       "    }\n",
       "</style>\n",
       "<table border=\"1\" class=\"dataframe\">\n",
       "  <thead>\n",
       "    <tr style=\"text-align: right;\">\n",
       "      <th></th>\n",
       "      <th>comment_text</th>\n",
       "      <th>word_count</th>\n",
       "    </tr>\n",
       "  </thead>\n",
       "  <tbody>\n",
       "    <tr>\n",
       "      <th>0</th>\n",
       "      <td>This is so cool. It's like, 'would you want yo...</td>\n",
       "      <td>19</td>\n",
       "    </tr>\n",
       "    <tr>\n",
       "      <th>1</th>\n",
       "      <td>Thank you!! This would make my life a lot less...</td>\n",
       "      <td>22</td>\n",
       "    </tr>\n",
       "    <tr>\n",
       "      <th>2</th>\n",
       "      <td>This is such an urgent design problem; kudos t...</td>\n",
       "      <td>16</td>\n",
       "    </tr>\n",
       "    <tr>\n",
       "      <th>3</th>\n",
       "      <td>Is this something I'll be able to install on m...</td>\n",
       "      <td>17</td>\n",
       "    </tr>\n",
       "    <tr>\n",
       "      <th>4</th>\n",
       "      <td>haha you guys are a bunch of losers.</td>\n",
       "      <td>8</td>\n",
       "    </tr>\n",
       "  </tbody>\n",
       "</table>\n",
       "</div>"
      ],
      "text/plain": [
       "                                        comment_text  word_count\n",
       "0  This is so cool. It's like, 'would you want yo...          19\n",
       "1  Thank you!! This would make my life a lot less...          22\n",
       "2  This is such an urgent design problem; kudos t...          16\n",
       "3  Is this something I'll be able to install on m...          17\n",
       "4               haha you guys are a bunch of losers.           8"
      ]
     },
     "execution_count": 13,
     "metadata": {},
     "output_type": "execute_result"
    }
   ],
   "source": [
    "df_train['word_count'] = df_train['comment_text'].apply(lambda x: len(str(x).split(\" \")))\n",
    "df_train[['comment_text','word_count']].head()"
   ]
  },
  {
   "cell_type": "code",
   "execution_count": 14,
   "metadata": {},
   "outputs": [
    {
     "data": {
      "image/png": "[encoded data removed]",
      "text/plain": [
       "<Figure size 432x288 with 1 Axes>"
      ]
     },
     "metadata": {},
     "output_type": "display_data"
    }
   ],
   "source": [
    "# Dibujamos la distribución \n",
    "plt.hist(df_train['word_count'],bins=1000 ,color=(0.2, 0.4, 0.6))\n",
    "plt.title('Longitud de los comentarios')\n",
    "plt.xlabel('Nº de palabras')\n",
    "plt.ylabel('Nº comentarios')\n",
    "plt.xlim(0, 225)\n",
    "plt.show()"
   ]
  },
  {
   "cell_type": "markdown",
   "metadata": {},
   "source": [
    "# ¿Está balanceado?"
   ]
  },
  {
   "cell_type": "code",
   "execution_count": 15,
   "metadata": {},
   "outputs": [],
   "source": [
    "#Se define una lista con las identidades del dataset\n",
    "columnas_identidad=['asian','atheist','bisexual','black','buddhist','christian',\\\n",
    "                    'female','heterosexual','hindu','homosexual_gay_or_lesbian',\\\n",
    "                    'intellectual_or_learning_disability','jewish','latino','male','muslim','other_disability',\\\n",
    "                    'other_gender','other_race_or_ethnicity','other_religion','other_sexual_orientation',\\\n",
    "                    'physical_disability','psychiatric_or_mental_illness','transgender','white']\n"
   ]
  },
  {
   "cell_type": "code",
   "execution_count": 16,
   "metadata": {},
   "outputs": [
    {
     "data": {
      "text/plain": [
       "24"
      ]
     },
     "execution_count": 16,
     "metadata": {},
     "output_type": "execute_result"
    }
   ],
   "source": [
    "#Cálculo de cuantas son en total para comprobar que no hay ninguna olvidada\n",
    "len(columnas_identidad)"
   ]
  },
  {
   "cell_type": "code",
   "execution_count": 17,
   "metadata": {},
   "outputs": [
    {
     "data": {
      "text/plain": [
       "0.01"
      ]
     },
     "execution_count": 17,
     "metadata": {},
     "output_type": "execute_result"
    }
   ],
   "source": [
    "#Porcentaje a modo de ejemplos de los comentarios negativos dirigidos a la gente blanca \n",
    "df_train = df_train.fillna(0)\n",
    "subgroup_counts = df_train.loc[(df_train['white'] != 0.0)]['target'].value_counts()\n",
    "subgroup_counts[1]/subgroup_counts[0]\n",
    "round(subgroup_counts[1]/subgroup_counts[0], 2)"
   ]
  },
  {
   "cell_type": "code",
   "execution_count": 18,
   "metadata": {},
   "outputs": [],
   "source": [
    "subgroup_df = pd.DataFrame(columns = ['identity', 'toxic', 'non_toxic', 'toxic_ratio', 'percent_of_total'])               \n",
    "t_counts = df_train['target'].value_counts()  \n",
    "num_comments = df_train['comment_text'].size"
   ]
  },
  {
   "cell_type": "code",
   "execution_count": 19,
   "metadata": {},
   "outputs": [],
   "source": [
    "#Calculamos la cantidad de veces que aparece cada una de las identidades\n",
    "for idnt in columnas_identidad:\n",
    "    subgroup = df_train.loc[(df_train[idnt] != 0.0)]\n",
    "    subgroup_counts = df_train.loc[(df_train[idnt] != 0.0)]['target'].value_counts()      \n",
    "    subgroup_dict = {'identity': idnt, 'toxic': subgroup_counts.iloc[1], 'non_toxic': subgroup_counts.iloc[0]}\n",
    "    subgroup_df = subgroup_df.append(subgroup_dict, ignore_index=True)"
   ]
  },
  {
   "cell_type": "code",
   "execution_count": 65,
   "metadata": {},
   "outputs": [
    {
     "data": {
      "image/png": "[encoded data removed]",
      "text/plain": [
       "<Figure size 432x288 with 1 Axes>"
      ]
     },
     "metadata": {},
     "output_type": "display_data"
    }
   ],
   "source": [
    "#Dibujamos los resultados\n",
    "plt.bar(subgroup_df.identity, subgroup_df.toxic,color=(0.2, 0.4, 0.6))\n",
    "plt.xlabel('Identidad', fontsize=10)\n",
    "plt.ylabel('Nº comentarios', fontsize=10)\n",
    "plt.xticks(fontsize=15, rotation=90)\n",
    "plt.subplots_adjust(bottom=0.2)\n",
    "plt.title('Distribución de los comentarios tóxicos')\n",
    "plt.show()"
   ]
  },
  {
   "cell_type": "markdown",
   "metadata": {},
   "source": [
    "# Rango de fechas en el que se obtuvieron los comentarios"
   ]
  },
  {
   "cell_type": "code",
   "execution_count": 21,
   "metadata": {},
   "outputs": [],
   "source": [
    "#Vamos a dividir las identidades en los cinco grupos generales \n",
    "raza_etnia=['asian','hindu','jewish','muslim','latino','black','white','other_race_or_ethnicity']\n",
    "religion=['atheist','buddhist','christian', 'other_religion']\n",
    "orientacion_sexual=['bisexual','heterosexual', 'homosexual_gay_or_lesbian','other_sexual_orientation']\n",
    "discapacidad=['psychiatric_or_mental_illness','intellectual_or_learning_disability','physical_disability','other_disability']\n",
    "genero=['female', 'male','transgender','other_gender']\n"
   ]
  },
  {
   "cell_type": "code",
   "execution_count": 22,
   "metadata": {},
   "outputs": [],
   "source": [
    "#Tomamos el mismo dataset anterior pero esta vez con la columna fecha\n",
    "df_fecha = df_train.loc[:, ['created_date', 'target'] + columnas_identidad].dropna()"
   ]
  },
  {
   "cell_type": "code",
   "execution_count": 23,
   "metadata": {},
   "outputs": [
    {
     "data": {
      "text/html": [
       "<div>\n",
       "<style scoped>\n",
       "    .dataframe tbody tr th:only-of-type {\n",
       "        vertical-align: middle;\n",
       "    }\n",
       "\n",
       "    .dataframe tbody tr th {\n",
       "        vertical-align: top;\n",
       "    }\n",
       "\n",
       "    .dataframe thead th {\n",
       "        text-align: right;\n",
       "    }\n",
       "</style>\n",
       "<table border=\"1\" class=\"dataframe\">\n",
       "  <thead>\n",
       "    <tr style=\"text-align: right;\">\n",
       "      <th></th>\n",
       "      <th>asian</th>\n",
       "      <th>atheist</th>\n",
       "      <th>bisexual</th>\n",
       "      <th>black</th>\n",
       "      <th>buddhist</th>\n",
       "      <th>christian</th>\n",
       "      <th>female</th>\n",
       "      <th>heterosexual</th>\n",
       "      <th>hindu</th>\n",
       "      <th>homosexual_gay_or_lesbian</th>\n",
       "      <th>...</th>\n",
       "      <th>muslim</th>\n",
       "      <th>other_disability</th>\n",
       "      <th>other_gender</th>\n",
       "      <th>other_race_or_ethnicity</th>\n",
       "      <th>other_religion</th>\n",
       "      <th>other_sexual_orientation</th>\n",
       "      <th>physical_disability</th>\n",
       "      <th>psychiatric_or_mental_illness</th>\n",
       "      <th>transgender</th>\n",
       "      <th>white</th>\n",
       "    </tr>\n",
       "  </thead>\n",
       "  <tbody>\n",
       "    <tr>\n",
       "      <th>0</th>\n",
       "      <td>0.0</td>\n",
       "      <td>0.0</td>\n",
       "      <td>0.0</td>\n",
       "      <td>0.0</td>\n",
       "      <td>0.0</td>\n",
       "      <td>0.0</td>\n",
       "      <td>0.0</td>\n",
       "      <td>0.0</td>\n",
       "      <td>0.0</td>\n",
       "      <td>0.0</td>\n",
       "      <td>...</td>\n",
       "      <td>0.0</td>\n",
       "      <td>0.0</td>\n",
       "      <td>0.0</td>\n",
       "      <td>0.0</td>\n",
       "      <td>0.0</td>\n",
       "      <td>0.0</td>\n",
       "      <td>0.0</td>\n",
       "      <td>0.0</td>\n",
       "      <td>0.0</td>\n",
       "      <td>0.0</td>\n",
       "    </tr>\n",
       "    <tr>\n",
       "      <th>1</th>\n",
       "      <td>0.0</td>\n",
       "      <td>0.0</td>\n",
       "      <td>0.0</td>\n",
       "      <td>0.0</td>\n",
       "      <td>0.0</td>\n",
       "      <td>0.0</td>\n",
       "      <td>0.0</td>\n",
       "      <td>0.0</td>\n",
       "      <td>0.0</td>\n",
       "      <td>0.0</td>\n",
       "      <td>...</td>\n",
       "      <td>0.0</td>\n",
       "      <td>0.0</td>\n",
       "      <td>0.0</td>\n",
       "      <td>0.0</td>\n",
       "      <td>0.0</td>\n",
       "      <td>0.0</td>\n",
       "      <td>0.0</td>\n",
       "      <td>0.0</td>\n",
       "      <td>0.0</td>\n",
       "      <td>0.0</td>\n",
       "    </tr>\n",
       "  </tbody>\n",
       "</table>\n",
       "<p>2 rows × 24 columns</p>\n",
       "</div>"
      ],
      "text/plain": [
       "   asian  atheist  bisexual  black  buddhist  christian  female  heterosexual  \\\n",
       "0    0.0      0.0       0.0    0.0       0.0        0.0     0.0           0.0   \n",
       "1    0.0      0.0       0.0    0.0       0.0        0.0     0.0           0.0   \n",
       "\n",
       "   hindu  homosexual_gay_or_lesbian  ...    muslim  other_disability  \\\n",
       "0    0.0                        0.0  ...       0.0               0.0   \n",
       "1    0.0                        0.0  ...       0.0               0.0   \n",
       "\n",
       "   other_gender  other_race_or_ethnicity  other_religion  \\\n",
       "0           0.0                      0.0             0.0   \n",
       "1           0.0                      0.0             0.0   \n",
       "\n",
       "   other_sexual_orientation  physical_disability  \\\n",
       "0                       0.0                  0.0   \n",
       "1                       0.0                  0.0   \n",
       "\n",
       "   psychiatric_or_mental_illness  transgender  white  \n",
       "0                            0.0          0.0    0.0  \n",
       "1                            0.0          0.0    0.0  \n",
       "\n",
       "[2 rows x 24 columns]"
      ]
     },
     "execution_count": 23,
     "metadata": {},
     "output_type": "execute_result"
    }
   ],
   "source": [
    "# Para cada una de las identidades podemos calcular el peso relativo \n",
    "df_peso_rel = df_fecha.loc[:, columnas_identidad]  / df_fecha.loc[:, columnas_identidad] .sum()\n",
    "df_peso_rel.head(2)"
   ]
  },
  {
   "cell_type": "code",
   "execution_count": 24,
   "metadata": {},
   "outputs": [
    {
     "data": {
      "text/html": [
       "<div>\n",
       "<style scoped>\n",
       "    .dataframe tbody tr th:only-of-type {\n",
       "        vertical-align: middle;\n",
       "    }\n",
       "\n",
       "    .dataframe tbody tr th {\n",
       "        vertical-align: top;\n",
       "    }\n",
       "\n",
       "    .dataframe thead th {\n",
       "        text-align: right;\n",
       "    }\n",
       "</style>\n",
       "<table border=\"1\" class=\"dataframe\">\n",
       "  <thead>\n",
       "    <tr style=\"text-align: right;\">\n",
       "      <th></th>\n",
       "      <th>asian</th>\n",
       "      <th>atheist</th>\n",
       "      <th>bisexual</th>\n",
       "      <th>black</th>\n",
       "      <th>buddhist</th>\n",
       "      <th>christian</th>\n",
       "      <th>female</th>\n",
       "      <th>heterosexual</th>\n",
       "      <th>hindu</th>\n",
       "      <th>homosexual_gay_or_lesbian</th>\n",
       "      <th>...</th>\n",
       "      <th>muslim</th>\n",
       "      <th>other_disability</th>\n",
       "      <th>other_gender</th>\n",
       "      <th>other_race_or_ethnicity</th>\n",
       "      <th>other_religion</th>\n",
       "      <th>other_sexual_orientation</th>\n",
       "      <th>physical_disability</th>\n",
       "      <th>psychiatric_or_mental_illness</th>\n",
       "      <th>transgender</th>\n",
       "      <th>white</th>\n",
       "    </tr>\n",
       "  </thead>\n",
       "  <tbody>\n",
       "    <tr>\n",
       "      <th>0</th>\n",
       "      <td>0.0</td>\n",
       "      <td>0.0</td>\n",
       "      <td>0.0</td>\n",
       "      <td>0.0</td>\n",
       "      <td>0.0</td>\n",
       "      <td>0.0</td>\n",
       "      <td>0.0</td>\n",
       "      <td>0.0</td>\n",
       "      <td>0.0</td>\n",
       "      <td>0.0</td>\n",
       "      <td>...</td>\n",
       "      <td>0.0</td>\n",
       "      <td>0.0</td>\n",
       "      <td>0.0</td>\n",
       "      <td>0.0</td>\n",
       "      <td>0.0</td>\n",
       "      <td>0.0</td>\n",
       "      <td>0.0</td>\n",
       "      <td>0.0</td>\n",
       "      <td>0.0</td>\n",
       "      <td>0.0</td>\n",
       "    </tr>\n",
       "  </tbody>\n",
       "</table>\n",
       "<p>1 rows × 24 columns</p>\n",
       "</div>"
      ],
      "text/plain": [
       "   asian  atheist  bisexual  black  buddhist  christian  female  heterosexual  \\\n",
       "0    0.0      0.0       0.0    0.0       0.0        0.0     0.0           0.0   \n",
       "\n",
       "   hindu  homosexual_gay_or_lesbian  ...    muslim  other_disability  \\\n",
       "0    0.0                        0.0  ...       0.0               0.0   \n",
       "\n",
       "   other_gender  other_race_or_ethnicity  other_religion  \\\n",
       "0           0.0                      0.0             0.0   \n",
       "\n",
       "   other_sexual_orientation  physical_disability  \\\n",
       "0                       0.0                  0.0   \n",
       "\n",
       "   psychiatric_or_mental_illness  transgender  white  \n",
       "0                            0.0          0.0    0.0  \n",
       "\n",
       "[1 rows x 24 columns]"
      ]
     },
     "execution_count": 24,
     "metadata": {},
     "output_type": "execute_result"
    }
   ],
   "source": [
    "#Como índice vamos a indicar el valor relativo resultado de multiplicar el peso anterior con el valor total dado al comentario\n",
    "df_valor_rel = df_peso_rel.multiply(df_fecha.loc[:,'target'], axis=\"index\")\n",
    "df_valor_rel.head(1)"
   ]
  },
  {
   "cell_type": "code",
   "execution_count": 31,
   "metadata": {},
   "outputs": [
    {
     "data": {
      "text/html": [
       "<div>\n",
       "<style scoped>\n",
       "    .dataframe tbody tr th:only-of-type {\n",
       "        vertical-align: middle;\n",
       "    }\n",
       "\n",
       "    .dataframe tbody tr th {\n",
       "        vertical-align: top;\n",
       "    }\n",
       "\n",
       "    .dataframe thead th {\n",
       "        text-align: right;\n",
       "    }\n",
       "</style>\n",
       "<table border=\"1\" class=\"dataframe\">\n",
       "  <thead>\n",
       "    <tr style=\"text-align: right;\">\n",
       "      <th></th>\n",
       "      <th>asian</th>\n",
       "      <th>atheist</th>\n",
       "      <th>bisexual</th>\n",
       "      <th>black</th>\n",
       "      <th>buddhist</th>\n",
       "      <th>christian</th>\n",
       "      <th>female</th>\n",
       "      <th>heterosexual</th>\n",
       "      <th>hindu</th>\n",
       "      <th>homosexual_gay_or_lesbian</th>\n",
       "      <th>...</th>\n",
       "      <th>muslim</th>\n",
       "      <th>other_disability</th>\n",
       "      <th>other_gender</th>\n",
       "      <th>other_race_or_ethnicity</th>\n",
       "      <th>other_religion</th>\n",
       "      <th>other_sexual_orientation</th>\n",
       "      <th>physical_disability</th>\n",
       "      <th>psychiatric_or_mental_illness</th>\n",
       "      <th>transgender</th>\n",
       "      <th>white</th>\n",
       "    </tr>\n",
       "    <tr>\n",
       "      <th>created_date</th>\n",
       "      <th></th>\n",
       "      <th></th>\n",
       "      <th></th>\n",
       "      <th></th>\n",
       "      <th></th>\n",
       "      <th></th>\n",
       "      <th></th>\n",
       "      <th></th>\n",
       "      <th></th>\n",
       "      <th></th>\n",
       "      <th></th>\n",
       "      <th></th>\n",
       "      <th></th>\n",
       "      <th></th>\n",
       "      <th></th>\n",
       "      <th></th>\n",
       "      <th></th>\n",
       "      <th></th>\n",
       "      <th></th>\n",
       "      <th></th>\n",
       "      <th></th>\n",
       "    </tr>\n",
       "  </thead>\n",
       "  <tbody>\n",
       "    <tr>\n",
       "      <th>2015-09-29</th>\n",
       "      <td>0.0</td>\n",
       "      <td>0.0</td>\n",
       "      <td>0.0</td>\n",
       "      <td>0.0</td>\n",
       "      <td>0.0</td>\n",
       "      <td>0.0</td>\n",
       "      <td>0.0</td>\n",
       "      <td>0.0</td>\n",
       "      <td>0.0</td>\n",
       "      <td>0.0</td>\n",
       "      <td>...</td>\n",
       "      <td>0.0</td>\n",
       "      <td>0.0</td>\n",
       "      <td>0.0</td>\n",
       "      <td>0.0</td>\n",
       "      <td>0.0</td>\n",
       "      <td>0.0</td>\n",
       "      <td>0.0</td>\n",
       "      <td>0.0</td>\n",
       "      <td>0.0</td>\n",
       "      <td>0.0</td>\n",
       "    </tr>\n",
       "    <tr>\n",
       "      <th>2015-10-06</th>\n",
       "      <td>0.0</td>\n",
       "      <td>0.0</td>\n",
       "      <td>0.0</td>\n",
       "      <td>0.0</td>\n",
       "      <td>0.0</td>\n",
       "      <td>0.0</td>\n",
       "      <td>0.0</td>\n",
       "      <td>0.0</td>\n",
       "      <td>0.0</td>\n",
       "      <td>0.0</td>\n",
       "      <td>...</td>\n",
       "      <td>0.0</td>\n",
       "      <td>0.0</td>\n",
       "      <td>0.0</td>\n",
       "      <td>0.0</td>\n",
       "      <td>0.0</td>\n",
       "      <td>0.0</td>\n",
       "      <td>0.0</td>\n",
       "      <td>0.0</td>\n",
       "      <td>0.0</td>\n",
       "      <td>0.0</td>\n",
       "    </tr>\n",
       "    <tr>\n",
       "      <th>2015-10-13</th>\n",
       "      <td>0.0</td>\n",
       "      <td>0.0</td>\n",
       "      <td>0.0</td>\n",
       "      <td>0.0</td>\n",
       "      <td>0.0</td>\n",
       "      <td>0.0</td>\n",
       "      <td>0.0</td>\n",
       "      <td>0.0</td>\n",
       "      <td>0.0</td>\n",
       "      <td>0.0</td>\n",
       "      <td>...</td>\n",
       "      <td>0.0</td>\n",
       "      <td>0.0</td>\n",
       "      <td>0.0</td>\n",
       "      <td>0.0</td>\n",
       "      <td>0.0</td>\n",
       "      <td>0.0</td>\n",
       "      <td>0.0</td>\n",
       "      <td>0.0</td>\n",
       "      <td>0.0</td>\n",
       "      <td>0.0</td>\n",
       "    </tr>\n",
       "    <tr>\n",
       "      <th>2015-10-27</th>\n",
       "      <td>0.0</td>\n",
       "      <td>0.0</td>\n",
       "      <td>0.0</td>\n",
       "      <td>0.0</td>\n",
       "      <td>0.0</td>\n",
       "      <td>0.0</td>\n",
       "      <td>0.0</td>\n",
       "      <td>0.0</td>\n",
       "      <td>0.0</td>\n",
       "      <td>0.0</td>\n",
       "      <td>...</td>\n",
       "      <td>0.0</td>\n",
       "      <td>0.0</td>\n",
       "      <td>0.0</td>\n",
       "      <td>0.0</td>\n",
       "      <td>0.0</td>\n",
       "      <td>0.0</td>\n",
       "      <td>0.0</td>\n",
       "      <td>0.0</td>\n",
       "      <td>0.0</td>\n",
       "      <td>0.0</td>\n",
       "    </tr>\n",
       "  </tbody>\n",
       "</table>\n",
       "<p>4 rows × 24 columns</p>\n",
       "</div>"
      ],
      "text/plain": [
       "              asian  atheist  bisexual  black  buddhist  christian  female  \\\n",
       "created_date                                                                 \n",
       "2015-09-29      0.0      0.0       0.0    0.0       0.0        0.0     0.0   \n",
       "2015-10-06      0.0      0.0       0.0    0.0       0.0        0.0     0.0   \n",
       "2015-10-13      0.0      0.0       0.0    0.0       0.0        0.0     0.0   \n",
       "2015-10-27      0.0      0.0       0.0    0.0       0.0        0.0     0.0   \n",
       "\n",
       "              heterosexual  hindu  homosexual_gay_or_lesbian  ...    muslim  \\\n",
       "created_date                                                  ...             \n",
       "2015-09-29             0.0    0.0                        0.0  ...       0.0   \n",
       "2015-10-06             0.0    0.0                        0.0  ...       0.0   \n",
       "2015-10-13             0.0    0.0                        0.0  ...       0.0   \n",
       "2015-10-27             0.0    0.0                        0.0  ...       0.0   \n",
       "\n",
       "              other_disability  other_gender  other_race_or_ethnicity  \\\n",
       "created_date                                                            \n",
       "2015-09-29                 0.0           0.0                      0.0   \n",
       "2015-10-06                 0.0           0.0                      0.0   \n",
       "2015-10-13                 0.0           0.0                      0.0   \n",
       "2015-10-27                 0.0           0.0                      0.0   \n",
       "\n",
       "              other_religion  other_sexual_orientation  physical_disability  \\\n",
       "created_date                                                                  \n",
       "2015-09-29               0.0                       0.0                  0.0   \n",
       "2015-10-06               0.0                       0.0                  0.0   \n",
       "2015-10-13               0.0                       0.0                  0.0   \n",
       "2015-10-27               0.0                       0.0                  0.0   \n",
       "\n",
       "              psychiatric_or_mental_illness  transgender  white  \n",
       "created_date                                                     \n",
       "2015-09-29                              0.0          0.0    0.0  \n",
       "2015-10-06                              0.0          0.0    0.0  \n",
       "2015-10-13                              0.0          0.0    0.0  \n",
       "2015-10-27                              0.0          0.0    0.0  \n",
       "\n",
       "[4 rows x 24 columns]"
      ]
     },
     "execution_count": 31,
     "metadata": {},
     "output_type": "execute_result"
    }
   ],
   "source": [
    "#Conversión de la fecha a datetime y extracción de la fecha sin hora\n",
    "df_valor_rel['created_date'] = pd.to_datetime(df_fecha['created_date'].apply(lambda dt: dt.split(' ')[0]))\n",
    "#Agrupaión del total de comentarios por día \n",
    "df_valor_rel_por_dia = df_valor_rel.groupby(['created_date']).sum()\n",
    "df_valor_rel_por_dia.head(4)"
   ]
  },
  {
   "cell_type": "code",
   "execution_count": 26,
   "metadata": {},
   "outputs": [
    {
     "data": {
      "text/html": [
       "<div>\n",
       "<style scoped>\n",
       "    .dataframe tbody tr th:only-of-type {\n",
       "        vertical-align: middle;\n",
       "    }\n",
       "\n",
       "    .dataframe tbody tr th {\n",
       "        vertical-align: top;\n",
       "    }\n",
       "\n",
       "    .dataframe thead th {\n",
       "        text-align: right;\n",
       "    }\n",
       "</style>\n",
       "<table border=\"1\" class=\"dataframe\">\n",
       "  <thead>\n",
       "    <tr style=\"text-align: right;\">\n",
       "      <th></th>\n",
       "      <th>asian</th>\n",
       "      <th>atheist</th>\n",
       "      <th>bisexual</th>\n",
       "      <th>black</th>\n",
       "      <th>buddhist</th>\n",
       "      <th>christian</th>\n",
       "      <th>female</th>\n",
       "      <th>heterosexual</th>\n",
       "      <th>hindu</th>\n",
       "      <th>homosexual_gay_or_lesbian</th>\n",
       "      <th>...</th>\n",
       "      <th>muslim</th>\n",
       "      <th>other_disability</th>\n",
       "      <th>other_gender</th>\n",
       "      <th>other_race_or_ethnicity</th>\n",
       "      <th>other_religion</th>\n",
       "      <th>other_sexual_orientation</th>\n",
       "      <th>physical_disability</th>\n",
       "      <th>psychiatric_or_mental_illness</th>\n",
       "      <th>transgender</th>\n",
       "      <th>white</th>\n",
       "    </tr>\n",
       "    <tr>\n",
       "      <th>created_date</th>\n",
       "      <th></th>\n",
       "      <th></th>\n",
       "      <th></th>\n",
       "      <th></th>\n",
       "      <th></th>\n",
       "      <th></th>\n",
       "      <th></th>\n",
       "      <th></th>\n",
       "      <th></th>\n",
       "      <th></th>\n",
       "      <th></th>\n",
       "      <th></th>\n",
       "      <th></th>\n",
       "      <th></th>\n",
       "      <th></th>\n",
       "      <th></th>\n",
       "      <th></th>\n",
       "      <th></th>\n",
       "      <th></th>\n",
       "      <th></th>\n",
       "      <th></th>\n",
       "    </tr>\n",
       "  </thead>\n",
       "  <tbody>\n",
       "    <tr>\n",
       "      <th>2015-09-29</th>\n",
       "      <td>0.0</td>\n",
       "      <td>0.0</td>\n",
       "      <td>0.0</td>\n",
       "      <td>0.0</td>\n",
       "      <td>0.0</td>\n",
       "      <td>0.0</td>\n",
       "      <td>0.0</td>\n",
       "      <td>0.0</td>\n",
       "      <td>0.0</td>\n",
       "      <td>0.0</td>\n",
       "      <td>...</td>\n",
       "      <td>0.0</td>\n",
       "      <td>0.0</td>\n",
       "      <td>0.0</td>\n",
       "      <td>0.0</td>\n",
       "      <td>0.0</td>\n",
       "      <td>0.0</td>\n",
       "      <td>0.0</td>\n",
       "      <td>0.0</td>\n",
       "      <td>0.0</td>\n",
       "      <td>0.0</td>\n",
       "    </tr>\n",
       "    <tr>\n",
       "      <th>2015-10-06</th>\n",
       "      <td>0.0</td>\n",
       "      <td>0.0</td>\n",
       "      <td>0.0</td>\n",
       "      <td>0.0</td>\n",
       "      <td>0.0</td>\n",
       "      <td>0.0</td>\n",
       "      <td>0.0</td>\n",
       "      <td>0.0</td>\n",
       "      <td>0.0</td>\n",
       "      <td>0.0</td>\n",
       "      <td>...</td>\n",
       "      <td>0.0</td>\n",
       "      <td>0.0</td>\n",
       "      <td>0.0</td>\n",
       "      <td>0.0</td>\n",
       "      <td>0.0</td>\n",
       "      <td>0.0</td>\n",
       "      <td>0.0</td>\n",
       "      <td>0.0</td>\n",
       "      <td>0.0</td>\n",
       "      <td>0.0</td>\n",
       "    </tr>\n",
       "    <tr>\n",
       "      <th>2015-10-13</th>\n",
       "      <td>0.0</td>\n",
       "      <td>0.0</td>\n",
       "      <td>0.0</td>\n",
       "      <td>0.0</td>\n",
       "      <td>0.0</td>\n",
       "      <td>0.0</td>\n",
       "      <td>0.0</td>\n",
       "      <td>0.0</td>\n",
       "      <td>0.0</td>\n",
       "      <td>0.0</td>\n",
       "      <td>...</td>\n",
       "      <td>0.0</td>\n",
       "      <td>0.0</td>\n",
       "      <td>0.0</td>\n",
       "      <td>0.0</td>\n",
       "      <td>0.0</td>\n",
       "      <td>0.0</td>\n",
       "      <td>0.0</td>\n",
       "      <td>0.0</td>\n",
       "      <td>0.0</td>\n",
       "      <td>0.0</td>\n",
       "    </tr>\n",
       "    <tr>\n",
       "      <th>2015-10-27</th>\n",
       "      <td>0.0</td>\n",
       "      <td>0.0</td>\n",
       "      <td>0.0</td>\n",
       "      <td>0.0</td>\n",
       "      <td>0.0</td>\n",
       "      <td>0.0</td>\n",
       "      <td>0.0</td>\n",
       "      <td>0.0</td>\n",
       "      <td>0.0</td>\n",
       "      <td>0.0</td>\n",
       "      <td>...</td>\n",
       "      <td>0.0</td>\n",
       "      <td>0.0</td>\n",
       "      <td>0.0</td>\n",
       "      <td>0.0</td>\n",
       "      <td>0.0</td>\n",
       "      <td>0.0</td>\n",
       "      <td>0.0</td>\n",
       "      <td>0.0</td>\n",
       "      <td>0.0</td>\n",
       "      <td>0.0</td>\n",
       "    </tr>\n",
       "    <tr>\n",
       "      <th>2015-10-28</th>\n",
       "      <td>0.0</td>\n",
       "      <td>0.0</td>\n",
       "      <td>0.0</td>\n",
       "      <td>0.0</td>\n",
       "      <td>0.0</td>\n",
       "      <td>0.0</td>\n",
       "      <td>0.0</td>\n",
       "      <td>0.0</td>\n",
       "      <td>0.0</td>\n",
       "      <td>0.0</td>\n",
       "      <td>...</td>\n",
       "      <td>0.0</td>\n",
       "      <td>0.0</td>\n",
       "      <td>0.0</td>\n",
       "      <td>0.0</td>\n",
       "      <td>0.0</td>\n",
       "      <td>0.0</td>\n",
       "      <td>0.0</td>\n",
       "      <td>0.0</td>\n",
       "      <td>0.0</td>\n",
       "      <td>0.0</td>\n",
       "    </tr>\n",
       "  </tbody>\n",
       "</table>\n",
       "<p>5 rows × 24 columns</p>\n",
       "</div>"
      ],
      "text/plain": [
       "              asian  atheist  bisexual  black  buddhist  christian  female  \\\n",
       "created_date                                                                 \n",
       "2015-09-29      0.0      0.0       0.0    0.0       0.0        0.0     0.0   \n",
       "2015-10-06      0.0      0.0       0.0    0.0       0.0        0.0     0.0   \n",
       "2015-10-13      0.0      0.0       0.0    0.0       0.0        0.0     0.0   \n",
       "2015-10-27      0.0      0.0       0.0    0.0       0.0        0.0     0.0   \n",
       "2015-10-28      0.0      0.0       0.0    0.0       0.0        0.0     0.0   \n",
       "\n",
       "              heterosexual  hindu  homosexual_gay_or_lesbian  ...    muslim  \\\n",
       "created_date                                                  ...             \n",
       "2015-09-29             0.0    0.0                        0.0  ...       0.0   \n",
       "2015-10-06             0.0    0.0                        0.0  ...       0.0   \n",
       "2015-10-13             0.0    0.0                        0.0  ...       0.0   \n",
       "2015-10-27             0.0    0.0                        0.0  ...       0.0   \n",
       "2015-10-28             0.0    0.0                        0.0  ...       0.0   \n",
       "\n",
       "              other_disability  other_gender  other_race_or_ethnicity  \\\n",
       "created_date                                                            \n",
       "2015-09-29                 0.0           0.0                      0.0   \n",
       "2015-10-06                 0.0           0.0                      0.0   \n",
       "2015-10-13                 0.0           0.0                      0.0   \n",
       "2015-10-27                 0.0           0.0                      0.0   \n",
       "2015-10-28                 0.0           0.0                      0.0   \n",
       "\n",
       "              other_religion  other_sexual_orientation  physical_disability  \\\n",
       "created_date                                                                  \n",
       "2015-09-29               0.0                       0.0                  0.0   \n",
       "2015-10-06               0.0                       0.0                  0.0   \n",
       "2015-10-13               0.0                       0.0                  0.0   \n",
       "2015-10-27               0.0                       0.0                  0.0   \n",
       "2015-10-28               0.0                       0.0                  0.0   \n",
       "\n",
       "              psychiatric_or_mental_illness  transgender  white  \n",
       "created_date                                                     \n",
       "2015-09-29                              0.0          0.0    0.0  \n",
       "2015-10-06                              0.0          0.0    0.0  \n",
       "2015-10-13                              0.0          0.0    0.0  \n",
       "2015-10-27                              0.0          0.0    0.0  \n",
       "2015-10-28                              0.0          0.0    0.0  \n",
       "\n",
       "[5 rows x 24 columns]"
      ]
     },
     "execution_count": 26,
     "metadata": {},
     "output_type": "execute_result"
    }
   ],
   "source": [
    "#Para la representación debemos ordenarlo por fecha \n",
    "df_valor_rel_por_dia=df_valor_rel_por_dia.sort_index()\n",
    "df_valor_rel_por_dia.head()"
   ]
  },
  {
   "cell_type": "code",
   "execution_count": 33,
   "metadata": {},
   "outputs": [
    {
     "data": {
      "text/plain": [
       "created_date\n",
       "2015-09-29    0.0\n",
       "2015-10-06    0.0\n",
       "dtype: float64"
      ]
     },
     "execution_count": 33,
     "metadata": {},
     "output_type": "execute_result"
    }
   ],
   "source": [
    "#Suma por cada día (por filas)\n",
    "df_valor_rel_por_dia[raza_etnia].sum(axis=1).head(2)"
   ]
  },
  {
   "cell_type": "code",
   "execution_count": 34,
   "metadata": {},
   "outputs": [],
   "source": [
    "#Creamos por cada subgrupo de identidades una columna que represente la suma por cada día\n",
    "df_valor_rel_por_dia['raza_etnia_suma']=df_valor_rel_por_dia[raza_etnia].sum(axis=1)\n",
    "df_valor_rel_por_dia['religion_suma']=df_valor_rel_por_dia[religion].sum(axis=1)\n",
    "df_valor_rel_por_dia['orientacion_sexual_suma']=df_valor_rel_por_dia[orientacion_sexual].sum(axis=1)\n",
    "df_valor_rel_por_dia['discapacidad_suma']=df_valor_rel_por_dia[discapacidad].sum(axis=1)\n",
    "df_valor_rel_por_dia['genero_suma']=df_valor_rel_por_dia[genero].sum(axis=1)"
   ]
  },
  {
   "cell_type": "code",
   "execution_count": 71,
   "metadata": {},
   "outputs": [
    {
     "data": {
      "image/png": "[encoded data removed]",
      "text/plain": [
       "<Figure size 720x504 with 1 Axes>"
      ]
     },
     "metadata": {},
     "output_type": "display_data"
    }
   ],
   "source": [
    "# and then plot a time-series line plot per identity group\n",
    "df_valor_rel_por_dia[['raza_etnia_suma', 'religion_suma', 'orientacion_sexual_suma',\\\n",
    "                      'discapacidad_suma','genero_suma']].plot(figsize=(10,7), fontsize=10) \n",
    "plt.legend(prop={'size': 12})\n",
    "plt.xlabel('Comment Date', fontsize=10, color='C0')\n",
    "plt.ylabel('Weighted Toxic Score', fontsize=10, color='C0')\n",
    "plt.title('Distribución en el tiempo de los comentarios tóxicos por grupos', fontsize=12)\n",
    "plt.show()"
   ]
  },
  {
   "cell_type": "markdown",
   "metadata": {},
   "source": [
    "with_date_df.loc[:,'created_date']"
   ]
  }
 ],
 "metadata": {
  "kernelspec": {
   "display_name": "Python 3",
   "language": "python",
   "name": "python3"
  },
  "language_info": {
   "codemirror_mode": {
    "name": "ipython",
    "version": 3
   },
   "file_extension": ".py",
   "mimetype": "text/x-python",
   "name": "python",
   "nbconvert_exporter": "python",
   "pygments_lexer": "ipython3",
   "version": "3.6.5"
  }
 },
 "nbformat": 4,
 "nbformat_minor": 2
}
